{
 "cells": [
  {
   "cell_type": "markdown",
   "metadata": {},
   "source": [
    "# Search jobs abroad\n",
    "## Scrape jobs abroad from peoplenjob.com"
   ]
  },
  {
   "cell_type": "code",
   "execution_count": 1,
   "metadata": {},
   "outputs": [],
   "source": [
    "from selenium import webdriver\n",
    "from time import sleep\n",
    "ch_driver = webdriver.Chrome('C:/Users/beave/AppData/Roaming/Microsoft/Windows/Start Menu/Programs/Python 3.7/chromedriver.exe')"
   ]
  },
  {
   "cell_type": "code",
   "execution_count": 2,
   "metadata": {},
   "outputs": [],
   "source": [
    "ch_driver.implicitly_wait(5) \n",
    "\n",
    "url = 'https://www.peoplenjob.com/'\n",
    "ch_driver.get(url)"
   ]
  },
  {
   "cell_type": "code",
   "execution_count": 3,
   "metadata": {},
   "outputs": [],
   "source": [
    "job_page = ch_driver.find_element_by_link_text(\"채용공고\")\n",
    "job_page.click()\n",
    "sleep(1)"
   ]
  },
  {
   "cell_type": "code",
   "execution_count": 4,
   "metadata": {},
   "outputs": [],
   "source": [
    "job_abroad = ch_driver.find_element_by_link_text(\"해외근무\")\n",
    "job_abroad.click()\n",
    "sleep(1)"
   ]
  },
  {
   "cell_type": "markdown",
   "metadata": {},
   "source": [
    "### Practice"
   ]
  },
  {
   "cell_type": "code",
   "execution_count": 5,
   "metadata": {},
   "outputs": [],
   "source": [
    "job_list = ch_driver.find_elements_by_tag_name(\"tr\")"
   ]
  },
  {
   "cell_type": "code",
   "execution_count": 6,
   "metadata": {},
   "outputs": [
    {
     "data": {
      "text/plain": [
       "'등록일 직무 직종 회사명 근무지역 마감일'"
      ]
     },
     "execution_count": 6,
     "metadata": {},
     "output_type": "execute_result"
    }
   ],
   "source": [
    "job_list[0].text\n",
    "#we need to remove it"
   ]
  },
  {
   "cell_type": "code",
   "execution_count": 7,
   "metadata": {},
   "outputs": [
    {
     "data": {
      "text/plain": [
       "'info'"
      ]
     },
     "execution_count": 7,
     "metadata": {},
     "output_type": "execute_result"
    }
   ],
   "source": [
    "job_list[1].get_attribute(\"class\")"
   ]
  },
  {
   "cell_type": "code",
   "execution_count": 8,
   "metadata": {},
   "outputs": [
    {
     "data": {
      "text/plain": [
       "'2019.01.03'"
      ]
     },
     "execution_count": 8,
     "metadata": {},
     "output_type": "execute_result"
    }
   ],
   "source": [
    "#get date\n",
    "job_list[6].find_element_by_class_name(\"date\").text"
   ]
  },
  {
   "cell_type": "code",
   "execution_count": 9,
   "metadata": {},
   "outputs": [
    {
     "name": "stdout",
     "output_type": "stream",
     "text": [
      "[해외근무]메이저항공사 CS담당자 사원 https://www.peoplenjob.com/jobs/3627405?type=overseas\n"
     ]
    }
   ],
   "source": [
    "#get job position and link\n",
    "position_link = job_list[6].find_element_by_class_name(\"job-title\")\n",
    "position = position_link.text\n",
    "link = position_link.find_element_by_tag_name(\"a\").get_attribute(\"href\")\n",
    "print(position, link)"
   ]
  },
  {
   "cell_type": "code",
   "execution_count": 10,
   "metadata": {},
   "outputs": [
    {
     "data": {
      "text/plain": [
       "'웹프로그래머'"
      ]
     },
     "execution_count": 10,
     "metadata": {},
     "output_type": "execute_result"
    }
   ],
   "source": [
    "#get job type\n",
    "job_list[6].find_element_by_class_name(\"job_type\").text"
   ]
  },
  {
   "cell_type": "code",
   "execution_count": 22,
   "metadata": {},
   "outputs": [
    {
     "data": {
      "text/plain": [
       "'(주)유연에이치알'"
      ]
     },
     "execution_count": 22,
     "metadata": {},
     "output_type": "execute_result"
    }
   ],
   "source": [
    "#get company name\n",
    "job_list[6].find_element_by_class_name(\"name\").text"
   ]
  },
  {
   "cell_type": "code",
   "execution_count": 23,
   "metadata": {},
   "outputs": [
    {
     "data": {
      "text/plain": [
       "'서울 강남'"
      ]
     },
     "execution_count": 23,
     "metadata": {},
     "output_type": "execute_result"
    }
   ],
   "source": [
    "#get the working location\n",
    "# //*[@id=\"content-main\"]/div/table/tbody/tr[6]/td[5]/a\n",
    "tds = job_list[6].find_elements_by_tag_name(\"td\")\n",
    "tds[4].find_element_by_tag_name(\"a\").text"
   ]
  },
  {
   "cell_type": "code",
   "execution_count": 15,
   "metadata": {},
   "outputs": [
    {
     "data": {
      "text/plain": [
       "'채용시까지'"
      ]
     },
     "execution_count": 15,
     "metadata": {},
     "output_type": "execute_result"
    }
   ],
   "source": [
    "#get the due date\n",
    "tds[5].text"
   ]
  },
  {
   "cell_type": "code",
   "execution_count": 24,
   "metadata": {},
   "outputs": [
    {
     "name": "stdout",
     "output_type": "stream",
     "text": [
      "2019.01.03 [해외법인]교육센터 운영 어드민(인사팀) 인재를 모십니 https://www.peoplenjob.com/jobs/3626960?type=overseas 무역,수출입 (주)헬로서치 해외 2019.02.02\n",
      "2019.01.03 대기업 이란테헤란법인 SCM Coordinator 사원대리초 https://www.peoplenjob.com/jobs/3626867?type=overseas 무역,수출입 HR 컨설팅(주) 해외 이란 테헤란 채용시까지\n",
      "2019.01.03 대기업 두바이법인 물류 운영 대리과장급 중간관리자 https://www.peoplenjob.com/jobs/3626866?type=overseas 무역,수출입 / 물류.운송.배송 HR 컨설팅(주) 해외 UAE 두바이 채용시까지\n",
      "2019.01.03 대기업 터키법인 물류 SCM 대리과장급 중간관리자 https://www.peoplenjob.com/jobs/3626865?type=overseas 무역,수출입 HR 컨설팅(주) 해외 유럽 터키 채용시까지\n"
     ]
    }
   ],
   "source": [
    "for item in job_list[1:40]:\n",
    "    if item.get_attribute(\"class\") == \"info\":\n",
    "        continue\n",
    "    #get the date uploaded\n",
    "    date = item.find_element_by_class_name(\"date\").text\n",
    "    \n",
    "    #get the job position and link\n",
    "    position_link = item.find_element_by_class_name(\"job-title\")\n",
    "    position = position_link.text\n",
    "    link = position_link.find_element_by_tag_name(\"a\").get_attribute(\"href\")\n",
    "\n",
    "    #get job type\n",
    "    job_type = item.find_element_by_class_name(\"job_type\").text\n",
    "\n",
    "    #get company name\n",
    "    name = item.find_element_by_class_name(\"name\").text\n",
    "\n",
    "    #get the working location\n",
    "    tds = item.find_elements_by_tag_name(\"td\")\n",
    "    location = tds[4].find_element_by_tag_name(\"a\").text\n",
    "    #skip item if its working location is in Korea\n",
    "    korea = [\"Se\", \"서울\", \"경기\", \"경북\"]\n",
    "    loc = location[:2]\n",
    "    if loc in korea:\n",
    "        continue\n",
    "    \n",
    "    #get the due date\n",
    "    due = tds[5].text\n",
    "    \n",
    "    #print(date, position, link, job_type, name, location, due) #for check  \n",
    "    \n",
    "    if \"무역\" not in job_type:\n",
    "        continue\n",
    "    print(date, position, link, job_type, name, location, due)"
   ]
  },
  {
   "cell_type": "markdown",
   "metadata": {},
   "source": [
    "### Start a Project"
   ]
  },
  {
   "cell_type": "code",
   "execution_count": 25,
   "metadata": {},
   "outputs": [],
   "source": [
    "def get_job_ads(user_input: str):\n",
    "    result = []\n",
    "    job_list = ch_driver.find_elements_by_tag_name(\"tr\")\n",
    "    del job_list[0]\n",
    "    \n",
    "    for item in job_list:\n",
    "        if item.get_attribute(\"class\") == \"info\":\n",
    "            continue\n",
    "       \n",
    "        #get the date uploaded\n",
    "        date = item.find_element_by_class_name(\"date\").text\n",
    "\n",
    "        #get the job position and link\n",
    "        position_link = item.find_element_by_class_name(\"job-title\")\n",
    "        position = position_link.text\n",
    "        link = position_link.find_element_by_tag_name(\"a\").get_attribute(\"href\")\n",
    "\n",
    "        #get job type\n",
    "        job_type = item.find_element_by_class_name(\"job_type\").text\n",
    "\n",
    "        #get company name\n",
    "        name = item.find_element_by_class_name(\"name\").text\n",
    "\n",
    "        #get the working location\n",
    "        tds = item.find_elements_by_tag_name(\"td\")\n",
    "        location = tds[4].find_element_by_tag_name(\"a\").text\n",
    "\n",
    "        #get the due date\n",
    "        due = tds[5].text\n",
    "\n",
    "        #apply search criteria\n",
    "        if user_input not in job_type and user_input not in location:\n",
    "               continue\n",
    "        \n",
    "        result.append([date, position, link, job_type, name, location, due])\n",
    "        \n",
    "    return result"
   ]
  },
  {
   "cell_type": "code",
   "execution_count": 26,
   "metadata": {},
   "outputs": [
    {
     "data": {
      "text/plain": [
       "[['2019.01.03',\n",
       "  '[해외법인]교육센터 운영 어드민(인사팀) 인재를 모십니',\n",
       "  'https://www.peoplenjob.com/jobs/3626960?type=overseas',\n",
       "  '무역,수출입',\n",
       "  '(주)헬로서치',\n",
       "  '해외',\n",
       "  '2019.02.02'],\n",
       " ['2019.01.03',\n",
       "  '대기업 이란테헤란법인 SCM Coordinator 사원대리초',\n",
       "  'https://www.peoplenjob.com/jobs/3626867?type=overseas',\n",
       "  '무역,수출입',\n",
       "  'HR 컨설팅(주)',\n",
       "  '해외 이란 테헤란',\n",
       "  '채용시까지'],\n",
       " ['2019.01.03',\n",
       "  '대기업 두바이법인 물류 운영 대리과장급 중간관리자',\n",
       "  'https://www.peoplenjob.com/jobs/3626866?type=overseas',\n",
       "  '무역,수출입 / 물류.운송.배송',\n",
       "  'HR 컨설팅(주)',\n",
       "  '해외 UAE 두바이',\n",
       "  '채용시까지'],\n",
       " ['2019.01.03',\n",
       "  '대기업 터키법인 물류 SCM 대리과장급 중간관리자',\n",
       "  'https://www.peoplenjob.com/jobs/3626865?type=overseas',\n",
       "  '무역,수출입',\n",
       "  'HR 컨설팅(주)',\n",
       "  '해외 유럽 터키',\n",
       "  '채용시까지']]"
      ]
     },
     "execution_count": 26,
     "metadata": {},
     "output_type": "execute_result"
    }
   ],
   "source": [
    "get_job_ads(\"무역\")"
   ]
  },
  {
   "cell_type": "code",
   "execution_count": 27,
   "metadata": {},
   "outputs": [],
   "source": [
    "def get_all_job_ads():\n",
    "    all_result = []\n",
    "    user_input = input(\"검색어를 입력하세요: \")\n",
    "\n",
    "    #from the first page\n",
    "    all_result.append(get_job_ads(user_input))\n",
    "\n",
    "    #from page 2 to page 3\n",
    "    page_path = '//*[@id=\"content-main\"]/div/div[3]/ul/li['\n",
    "    for i in range(3,5):\n",
    "        page = ch_driver.find_element_by_xpath(page_path + str(i) + ']/a')\n",
    "        page.click()\n",
    "\n",
    "        sleep(1)\n",
    "\n",
    "        all_result.append(get_job_ads(user_input))\n",
    "\n",
    "    return all_result"
   ]
  },
  {
   "cell_type": "code",
   "execution_count": 28,
   "metadata": {},
   "outputs": [
    {
     "name": "stdout",
     "output_type": "stream",
     "text": [
      "검색어를 입력하세요: 무역\n"
     ]
    },
    {
     "data": {
      "text/plain": [
       "[[['2019.01.03',\n",
       "   '[해외법인]교육센터 운영 어드민(인사팀) 인재를 모십니',\n",
       "   'https://www.peoplenjob.com/jobs/3626960?type=overseas',\n",
       "   '무역,수출입',\n",
       "   '(주)헬로서치',\n",
       "   '해외',\n",
       "   '2019.02.02'],\n",
       "  ['2019.01.03',\n",
       "   '대기업 이란테헤란법인 SCM Coordinator 사원대리초',\n",
       "   'https://www.peoplenjob.com/jobs/3626867?type=overseas',\n",
       "   '무역,수출입',\n",
       "   'HR 컨설팅(주)',\n",
       "   '해외 이란 테헤란',\n",
       "   '채용시까지'],\n",
       "  ['2019.01.03',\n",
       "   '대기업 두바이법인 물류 운영 대리과장급 중간관리자',\n",
       "   'https://www.peoplenjob.com/jobs/3626866?type=overseas',\n",
       "   '무역,수출입 / 물류.운송.배송',\n",
       "   'HR 컨설팅(주)',\n",
       "   '해외 UAE 두바이',\n",
       "   '채용시까지'],\n",
       "  ['2019.01.03',\n",
       "   '대기업 터키법인 물류 SCM 대리과장급 중간관리자',\n",
       "   'https://www.peoplenjob.com/jobs/3626865?type=overseas',\n",
       "   '무역,수출입',\n",
       "   'HR 컨설팅(주)',\n",
       "   '해외 유럽 터키',\n",
       "   '채용시까지']],\n",
       " [['2019.01.02',\n",
       "   '철강/금속 일본영업 / 주임~대리급 중간관리자',\n",
       "   'https://www.peoplenjob.com/jobs/3626198?page=2&type=overseas',\n",
       "   '무역,수출입',\n",
       "   '탑커리어인사이트',\n",
       "   '서울특별시',\n",
       "   '2019.01.17'],\n",
       "  ['2018.12.30',\n",
       "   '대기업 사우디법인 SCM Coordinator 사원말대리급',\n",
       "   'https://www.peoplenjob.com/jobs/3623951?page=2&type=overseas',\n",
       "   '무역,수출입 / 해외영업 /',\n",
       "   'HR 컨설팅(주)',\n",
       "   '해외 중동 사우디',\n",
       "   '채용시까지']],\n",
       " []]"
      ]
     },
     "execution_count": 28,
     "metadata": {},
     "output_type": "execute_result"
    }
   ],
   "source": [
    "get_all_job_ads()"
   ]
  },
  {
   "cell_type": "code",
   "execution_count": null,
   "metadata": {},
   "outputs": [],
   "source": []
  },
  {
   "cell_type": "code",
   "execution_count": null,
   "metadata": {},
   "outputs": [],
   "source": []
  }
 ],
 "metadata": {
  "kernelspec": {
   "display_name": "Python 3",
   "language": "python",
   "name": "python3"
  },
  "language_info": {
   "codemirror_mode": {
    "name": "ipython",
    "version": 3
   },
   "file_extension": ".py",
   "mimetype": "text/x-python",
   "name": "python",
   "nbconvert_exporter": "python",
   "pygments_lexer": "ipython3",
   "version": "3.7.1"
  }
 },
 "nbformat": 4,
 "nbformat_minor": 2
}

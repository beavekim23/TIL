{
 "cells": [
  {
   "cell_type": "markdown",
   "metadata": {},
   "source": [
    "# Travel for Cheap\n",
    "## Search and compare flight fares for various destinations on SkyScanner"
   ]
  },
  {
   "cell_type": "code",
   "execution_count": 1,
   "metadata": {},
   "outputs": [],
   "source": [
    "from selenium import webdriver\n",
    "from time import sleep\n",
    "ch_driver = webdriver.Chrome('C:/Users/beave/AppData/Roaming/Microsoft/Windows/Start Menu/Programs/Python 3.7/chromedriver.exe')"
   ]
  },
  {
   "cell_type": "code",
   "execution_count": 2,
   "metadata": {},
   "outputs": [],
   "source": [
    "#To access US website in Korea,\n",
    "url = 'https://www.skyscanner.com/?market=US&locale=en-US&_ga=2.3699184.1771001494.1546424454-235103862.1535629143'\n",
    "\n",
    "ch_driver.get(url)"
   ]
  },
  {
   "cell_type": "code",
   "execution_count": 3,
   "metadata": {},
   "outputs": [
    {
     "name": "stdout",
     "output_type": "stream",
     "text": [
      "From: Seoul\n"
     ]
    }
   ],
   "source": [
    "origin_input = ch_driver.find_element_by_id('origin-fsc-search')\n",
    "origin_input.click()\n",
    "origin = input(\"From: \")\n",
    "origin_input.send_keys(origin)"
   ]
  },
  {
   "cell_type": "code",
   "execution_count": 4,
   "metadata": {},
   "outputs": [
    {
     "name": "stdout",
     "output_type": "stream",
     "text": [
      "To: Osaka\n"
     ]
    }
   ],
   "source": [
    "dest_input = ch_driver.find_element_by_id('destination-fsc-search')\n",
    "dest_input.click()\n",
    "destination = input(\"To: \")\n",
    "dest_input.send_keys(destination)"
   ]
  },
  {
   "cell_type": "code",
   "execution_count": 5,
   "metadata": {},
   "outputs": [
    {
     "name": "stdout",
     "output_type": "stream",
     "text": [
      "Select Depart Date Month/Date: 5/30\n"
     ]
    }
   ],
   "source": [
    "#Select Depart Date\n",
    "\n",
    "depart_button = ch_driver.find_element_by_id('depart-fsc-datepicker-button')\n",
    "depart_button.click()\n",
    "\n",
    "depart_input = input(\"Select Depart Date Month/Date: \")\n",
    "depart = depart_input.split(\"/\")\n",
    "depart_month = int(depart[0])\n",
    "depart_date = depart[1]\n",
    "\n",
    "#select month\n",
    "depart_months = ch_driver.find_element_by_id('depart-calendar__bpk_calendar_nav_select')\n",
    "depart_months.click()\n",
    "depart_months.find_elements_by_tag_name('option')[depart_month].click()\n",
    "\n",
    "#select date\n",
    "\n",
    "depart_dates = ch_driver.find_elements_by_class_name('bpk-calendar-date-1Mg7I')\n",
    "\n",
    "for item in depart_dates:\n",
    "    depart_span = item.find_element_by_tag_name('span')\n",
    "    if depart_span.text == depart_date:\n",
    "        depart_span.click()\n",
    "        break"
   ]
  },
  {
   "cell_type": "code",
   "execution_count": 6,
   "metadata": {},
   "outputs": [
    {
     "name": "stdout",
     "output_type": "stream",
     "text": [
      "Select Return Date Month/Date: 6/1\n"
     ]
    }
   ],
   "source": [
    "#Select Return Date\n",
    "\n",
    "return_button = ch_driver.find_element_by_id('return-fsc-datepicker-button')\n",
    "return_button.click()\n",
    "\n",
    "return_input = input(\"Select Return Date Month/Date: \")\n",
    "return_list = return_input.split(\"/\")\n",
    "return_month = int(return_list[0]) - 1\n",
    "return_date = return_list[1]\n",
    "\n",
    "#select month\n",
    "return_months = ch_driver.find_element_by_id('return-calendar__bpk_calendar_nav_select')\n",
    "return_months.click()\n",
    "return_months.find_elements_by_tag_name('option')[return_month].click()\n",
    "\n",
    "return_dates = ch_driver.find_elements_by_class_name('bpk-calendar-date-1Mg7I')\n",
    "\n",
    "for item in return_dates:\n",
    "    return_span = item.find_element_by_tag_name('span')\n",
    "    if return_span.text == return_date:\n",
    "        return_span.click()\n",
    "        break"
   ]
  },
  {
   "cell_type": "code",
   "execution_count": 7,
   "metadata": {},
   "outputs": [],
   "source": [
    "#non-stop flights only\n",
    "direct_only = ch_driver.find_element_by_name('directOnly')\n",
    "direct_only.click()"
   ]
  },
  {
   "cell_type": "code",
   "execution_count": 8,
   "metadata": {},
   "outputs": [],
   "source": [
    "#search flights click()\n",
    "search_flights = ch_driver.find_element_by_xpath('//*[@id=\"flights-search-controls-root\"]/div/div/form/div[3]/button')\n",
    "search_flights.click()"
   ]
  },
  {
   "cell_type": "code",
   "execution_count": null,
   "metadata": {},
   "outputs": [],
   "source": [
    "#Scrape 10 cheapest result\n",
    "ch_driver.implicitly_wait(60)\n",
    "\n",
    "itenary = ch_driver.find_elements_by_xpath('//*[@id=\"day-section\"]/div/div[3]/div[4]/div/ul/li/div/article/div/div[1]/div/div')"
   ]
  },
  {
   "cell_type": "code",
   "execution_count": null,
   "metadata": {},
   "outputs": [],
   "source": [
    "#get airline name\n",
    "\n",
    "airlines = itenary[2].ch_driver.find_elements_by_class_name('airline-name')\n",
    "depart_airline = airlines[0].text\n",
    "return_airline = airlines[1].text\n",
    "\n",
    "print(depart_airline, return_airline)"
   ]
  },
  {
   "cell_type": "code",
   "execution_count": null,
   "metadata": {},
   "outputs": [],
   "source": []
  },
  {
   "cell_type": "code",
   "execution_count": null,
   "metadata": {},
   "outputs": [],
   "source": []
  },
  {
   "cell_type": "code",
   "execution_count": null,
   "metadata": {},
   "outputs": [],
   "source": []
  },
  {
   "cell_type": "code",
   "execution_count": null,
   "metadata": {},
   "outputs": [],
   "source": []
  }
 ],
 "metadata": {
  "kernelspec": {
   "display_name": "Python 3",
   "language": "python",
   "name": "python3"
  },
  "language_info": {
   "codemirror_mode": {
    "name": "ipython",
    "version": 3
   },
   "file_extension": ".py",
   "mimetype": "text/x-python",
   "name": "python",
   "nbconvert_exporter": "python",
   "pygments_lexer": "ipython3",
   "version": "3.7.1"
  }
 },
 "nbformat": 4,
 "nbformat_minor": 2
}

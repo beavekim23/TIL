{
 "cells": [
  {
   "cell_type": "code",
   "execution_count": 1,
   "metadata": {},
   "outputs": [],
   "source": [
    "import random"
   ]
  },
  {
   "cell_type": "code",
   "execution_count": 2,
   "metadata": {},
   "outputs": [],
   "source": [
    "def get_random_number():\n",
    "    return random.randrange(100, 1000)"
   ]
  },
  {
   "cell_type": "code",
   "execution_count": 3,
   "metadata": {},
   "outputs": [],
   "source": [
    "def is_digit(user_input_number):\n",
    "    user_input_number = str(user_input_number)\n",
    "    result = user_input_number.isdigit()\n",
    "    return result"
   ]
  },
  {
   "cell_type": "code",
   "execution_count": 4,
   "metadata": {},
   "outputs": [],
   "source": [
    "def is_between_100_and_999(user_input_number):\n",
    "    if int(user_input_number)>=100 and int(user_input_number)<999:\n",
    "        result = True\n",
    "    else:\n",
    "        result = False\n",
    "        \n",
    "    return result"
   ]
  },
  {
   "cell_type": "code",
   "execution_count": 5,
   "metadata": {},
   "outputs": [],
   "source": [
    "def is_duplicated_number(three_digit):\n",
    "    three_digit = str(three_digit)\n",
    "    s = set([])\n",
    "    for digit in three_digit:\n",
    "        s.add(digit)\n",
    "    \n",
    "    if len(s) < 3:\n",
    "        result = True\n",
    "    else:\n",
    "        result = False\n",
    "        \n",
    "    return result"
   ]
  },
  {
   "cell_type": "code",
   "execution_count": 6,
   "metadata": {},
   "outputs": [],
   "source": [
    "def is_validated_number(user_input_number):\n",
    "    if (is_digit(user_input_number) == True and is_between_100_and_999(user_input_number) == True and\n",
    "    is_duplicated_number(user_input_number) == False):\n",
    "        result = True\n",
    "    else:\n",
    "        result = False\n",
    "        \n",
    "    return result"
   ]
  },
  {
   "cell_type": "code",
   "execution_count": null,
   "metadata": {},
   "outputs": [],
   "source": [
    "def get_not_duplicated_three_digit_number():\n",
    "    random_number = get_random_number()\n",
    "    while(is_duplicated_number(random_number) == True):\n",
    "        random_number = get_random_number()\n",
    "\n",
    "    result = random_number\n",
    "    \n",
    "    return result"
   ]
  },
  {
   "cell_type": "code",
   "execution_count": null,
   "metadata": {},
   "outputs": [],
   "source": [
    "def get_strikes_or_ball(user_input_number, random_number):\n",
    "    user_input_number = str(user_input_number)\n",
    "    random_number = str(random_number)\n",
    "    \n",
    "    strikes = 0\n",
    "    ball = 0\n",
    "    \n",
    "    for i in range(3):\n",
    "        for j in range(3):\n",
    "            if user_input_number[i] == random_number[j] and i == j:\n",
    "                strikes += 1\n",
    "            elif user_input_number[i] == random_number[j]:\n",
    "                ball += 1\n",
    "            else:\n",
    "                continue\n",
    "                \n",
    "    result = [strikes, ball]\n",
    "    return result"
   ]
  },
  {
   "cell_type": "code",
   "execution_count": null,
   "metadata": {},
   "outputs": [],
   "source": [
    "def is_yes(one_more_input):\n",
    "    one_more_input = one_more_input.upper()\n",
    "    if one_more_input == \"Y\" or one_more_input == \"YES\":\n",
    "        result = True\n",
    "    else:\n",
    "        result = False\n",
    "        \n",
    "    return result"
   ]
  },
  {
   "cell_type": "code",
   "execution_count": null,
   "metadata": {},
   "outputs": [],
   "source": [
    "def is_no(one_more_input):\n",
    "    one_more_input = str(one_more_input)\n",
    "    one_more_input = one_more_input.upper()\n",
    "    if one_more_input == \"N\" or one_more_input == \"NO\":\n",
    "        result = True\n",
    "    else:\n",
    "        result = False\n",
    "        \n",
    "    return result"
   ]
  },
  {
   "cell_type": "code",
   "execution_count": null,
   "metadata": {},
   "outputs": [],
   "source": [
    "def main():\n",
    "    print(\"Play Baseball\")\n",
    "    user_input = 999\n",
    "    while(user_input is not 0 and is_no(user_input) == False): #둘중 하나라도 만족 못할때 loop 나옴\n",
    "        random_number = str(get_not_duplicated_three_digit_number())\n",
    "        print(\"Random Number is : \", random_number)\n",
    "\n",
    "        user_input = input(\"Input guess number : \")\n",
    "        while(is_validated_number(user_input) == False and user_input != \"0\"): #0넣으면 loop 나옴\n",
    "                print(\"Wrong Input, Input again\")\n",
    "                user_input = input(\"Input guess number : \")\n",
    "        if user_input == \"0\":\n",
    "            user_input = 0\n",
    "        else:\n",
    "            #user_input 에 validated_number 들어간 상태\n",
    "            # user_input = str(user_inpput)?\n",
    "\n",
    "            strikes = 0\n",
    "            balls = 0\n",
    "            while(strikes < 3 and user_input != \"0\"):\n",
    "                strikes = get_strikes_or_ball(user_input, random_number)[0]\n",
    "                balls = get_strikes_or_ball(user_input, random_number)[1]\n",
    "                print(\"Strikes : \", strikes, \"Balls : \", balls)\n",
    "                user_input = input(\"Input guess number : \")\n",
    "\n",
    "            if user_input == \"0\":\n",
    "                user_input = 0\n",
    "            else:\n",
    "                print(\"Strikes : \", strikes, \"Balls : \", balls)\n",
    "                #3 Strike 상태, user_input 에는 정답이 있음\n",
    "                user_input = input(\"You win, one more(Y/N)?\") #n입력하면 꺼짐\n",
    "                while(is_yes(user_input) == False and is_no(user_input) == False):\n",
    "                    print(\"Wrong Input, Input again\")\n",
    "                    user_input = input(\"You win, one more(Y/N)?\")\n",
    "\n",
    "    print(\"Thank you for using this program\")\n",
    "    print(\"End of the Game\")"
   ]
  },
  {
   "cell_type": "code",
   "execution_count": null,
   "metadata": {},
   "outputs": [
    {
     "name": "stdout",
     "output_type": "stream",
     "text": [
      "Play Baseball\n",
      "Random Number is :  405\n",
      "Input guess number : 뮻\n",
      "Wrong Input, Input again\n",
      "Input guess number : 333\n",
      "Wrong Input, Input again\n",
      "Input guess number : 123.2\n",
      "Wrong Input, Input again\n",
      "Input guess number : 143\n",
      "Strikes :  0 Balls :  1\n",
      "Input guess number : 691\n",
      "Strikes :  0 Balls :  0\n",
      "Input guess number : 405\n",
      "Strikes :  3 Balls :  0\n"
     ]
    }
   ],
   "source": [
    "if __name__ == \"__main__\":\n",
    "    main()"
   ]
  },
  {
   "cell_type": "code",
   "execution_count": null,
   "metadata": {},
   "outputs": [],
   "source": [
    "strikes = get_strikes_or_ball(user_input, random_number)[0]\n",
    "balls = get_strikes_or_ball(user_input, random_number)[1]\n",
    "print(\"Strikes : \", strikes, \"Balls : \", balls)\n",
    "\n",
    "if strikes <3:\n",
    "    user_input = input(\"Input guess number : \")\n",
    "    while(strikes < 3 and user_input!=\"0\"):\n",
    "        strikes = get_strikes_or_ball(user_input, random_number)[0]\n",
    "        balls = get_strikes_or_ball(user_input, random_number)[1]\n",
    "        print(\"Strikes : \", strikes, \"Balls : \", balls)\n",
    "        user_input = input(\"Input guess number : \")\n",
    "    if user_input == \"0\":\n",
    "        user_input = 0\n",
    "    else:\n",
    "        \n",
    "#한번에 맞췄을때\n",
    "else:\n",
    "    "
   ]
  },
  {
   "cell_type": "code",
   "execution_count": null,
   "metadata": {},
   "outputs": [],
   "source": []
  },
  {
   "cell_type": "code",
   "execution_count": null,
   "metadata": {},
   "outputs": [],
   "source": []
  }
 ],
 "metadata": {
  "kernelspec": {
   "display_name": "Python 3",
   "language": "python",
   "name": "python3"
  },
  "language_info": {
   "codemirror_mode": {
    "name": "ipython",
    "version": 3
   },
   "file_extension": ".py",
   "mimetype": "text/x-python",
   "name": "python",
   "nbconvert_exporter": "python",
   "pygments_lexer": "ipython3",
   "version": "3.7.1"
  }
 },
 "nbformat": 4,
 "nbformat_minor": 2
}

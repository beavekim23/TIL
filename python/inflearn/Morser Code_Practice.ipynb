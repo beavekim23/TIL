{
 "cells": [
  {
   "cell_type": "markdown",
   "metadata": {},
   "source": [
    "-사람이 알파벳을 입력하면 모스부호로, 모스부호 입력하면 알파벳으로 변환해주는 프로그램<br/>\n",
    "-변환이 불가능한 input이 있으면 에러메세지 출력(try, except)<br/>\n",
    "-\"연결부호\".join(list) : list element들 사이에 연결부호 붙여서 string으로 return<br/>"
   ]
  },
  {
   "cell_type": "code",
   "execution_count": 1,
   "metadata": {},
   "outputs": [],
   "source": [
    "def get_morse_code_dict():\n",
    "    morse_code = {\n",
    "        \"A\": \".-\", \"N\": \"-.\", \"B\": \"-...\", \"O\": \"---\", \"C\": \"-.-.\", \"P\": \".--.\", \"D\": \"-..\", \"Q\": \"--.-\", \"E\": \".\",\n",
    "        \"R\": \".-.\", \"F\": \"..-.\", \"S\": \"...\", \"G\": \"--.\", \"T\": \"-\", \"H\": \"....\", \"U\": \"..-\", \"I\": \"..\", \"V\": \"...-\",\n",
    "        \"K\": \"-.-\", \"X\": \"-..-\", \"J\": \".---\", \"W\": \".--\", \"L\": \".-..\", \"Y\": \"-.--\", \"M\": \"--\", \"Z\": \"--..\"\n",
    "    }\n",
    "    return morse_code"
   ]
  },
  {
   "cell_type": "code",
   "execution_count": 2,
   "metadata": {},
   "outputs": [],
   "source": [
    "def get_help_message():\n",
    "    message = \"HELP - International Morse Code List\\n\"\n",
    "    morse_code = get_morse_code_dict()\n",
    "    #morse_code에 앞에 입력한 dict 넣어주기\n",
    "    \n",
    "    counter = 0\n",
    "\n",
    "    for key in sorted(morse_code):\n",
    "        counter += 1\n",
    "        message += \"%s: %s\\t\" % (key, morse_code[key])\n",
    "        if counter % 5 == 0:\n",
    "            message += \"\\n\"\n",
    "\n",
    "    return message\n"
   ]
  },
  {
   "cell_type": "code",
   "execution_count": null,
   "metadata": {},
   "outputs": [],
   "source": []
  },
  {
   "cell_type": "code",
   "execution_count": null,
   "metadata": {},
   "outputs": [],
   "source": []
  },
  {
   "cell_type": "code",
   "execution_count": null,
   "metadata": {},
   "outputs": [],
   "source": []
  },
  {
   "cell_type": "code",
   "execution_count": null,
   "metadata": {},
   "outputs": [],
   "source": []
  },
  {
   "cell_type": "code",
   "execution_count": null,
   "metadata": {},
   "outputs": [],
   "source": []
  },
  {
   "cell_type": "code",
   "execution_count": null,
   "metadata": {},
   "outputs": [],
   "source": []
  },
  {
   "cell_type": "code",
   "execution_count": null,
   "metadata": {},
   "outputs": [],
   "source": []
  },
  {
   "cell_type": "code",
   "execution_count": null,
   "metadata": {},
   "outputs": [],
   "source": []
  },
  {
   "cell_type": "code",
   "execution_count": null,
   "metadata": {},
   "outputs": [],
   "source": []
  },
  {
   "cell_type": "code",
   "execution_count": null,
   "metadata": {},
   "outputs": [],
   "source": []
  },
  {
   "cell_type": "code",
   "execution_count": null,
   "metadata": {},
   "outputs": [],
   "source": []
  },
  {
   "cell_type": "code",
   "execution_count": null,
   "metadata": {},
   "outputs": [],
   "source": []
  },
  {
   "cell_type": "code",
   "execution_count": null,
   "metadata": {},
   "outputs": [],
   "source": []
  }
 ],
 "metadata": {
  "kernelspec": {
   "display_name": "Python 3",
   "language": "python",
   "name": "python3"
  },
  "language_info": {
   "codemirror_mode": {
    "name": "ipython",
    "version": 3
   },
   "file_extension": ".py",
   "mimetype": "text/x-python",
   "name": "python",
   "nbconvert_exporter": "python",
   "pygments_lexer": "ipython3",
   "version": "3.7.1"
  }
 },
 "nbformat": 4,
 "nbformat_minor": 2
}

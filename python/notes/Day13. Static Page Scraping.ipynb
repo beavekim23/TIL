{
 "cells": [
  {
   "cell_type": "code",
   "execution_count": 6,
   "metadata": {},
   "outputs": [],
   "source": [
    "import requests\n",
    "from bs4 import BeautifulSoup"
   ]
  },
  {
   "cell_type": "markdown",
   "metadata": {},
   "source": [
    "# requests 연습"
   ]
  },
  {
   "cell_type": "code",
   "execution_count": 7,
   "metadata": {},
   "outputs": [
    {
     "data": {
      "text/plain": [
       "<Response [200]>"
      ]
     },
     "execution_count": 7,
     "metadata": {},
     "output_type": "execute_result"
    }
   ],
   "source": [
    "requests.get(\"https://www.google.com/\")"
   ]
  },
  {
   "cell_type": "code",
   "execution_count": 8,
   "metadata": {},
   "outputs": [],
   "source": [
    "url = \"https://www.google.com\"\n",
    "response = requests.get(url)"
   ]
  },
  {
   "cell_type": "code",
   "execution_count": 9,
   "metadata": {},
   "outputs": [
    {
     "data": {
      "text/plain": [
       "<Response [200]>"
      ]
     },
     "execution_count": 9,
     "metadata": {},
     "output_type": "execute_result"
    }
   ],
   "source": [
    "response"
   ]
  },
  {
   "cell_type": "code",
   "execution_count": 10,
   "metadata": {},
   "outputs": [
    {
     "data": {
      "text/plain": [
       "'<!doctype html><html'"
      ]
     },
     "execution_count": 10,
     "metadata": {},
     "output_type": "execute_result"
    }
   ],
   "source": [
    "response.text[:20]"
   ]
  },
  {
   "cell_type": "code",
   "execution_count": 11,
   "metadata": {},
   "outputs": [
    {
     "data": {
      "text/plain": [
       "'ISO-8859-1'"
      ]
     },
     "execution_count": 11,
     "metadata": {},
     "output_type": "execute_result"
    }
   ],
   "source": [
    "response.encoding"
   ]
  },
  {
   "cell_type": "code",
   "execution_count": 12,
   "metadata": {},
   "outputs": [
    {
     "data": {
      "text/plain": [
       "'text/html; charset=ISO-8859-1'"
      ]
     },
     "execution_count": 12,
     "metadata": {},
     "output_type": "execute_result"
    }
   ],
   "source": [
    "response.headers['Content-Type']"
   ]
  },
  {
   "cell_type": "code",
   "execution_count": 13,
   "metadata": {},
   "outputs": [],
   "source": [
    "url = \"https://www.theguardian.com/uk/technology\"\n",
    "response = requests. get(url)"
   ]
  },
  {
   "cell_type": "code",
   "execution_count": 14,
   "metadata": {},
   "outputs": [
    {
     "data": {
      "text/plain": [
       "'\\n<!DOCTYPE html>\\n<html id=\"js-context\" class=\"js-off is-not-modern id--signed-out\" lang=\"en\" data-pa'"
      ]
     },
     "execution_count": 14,
     "metadata": {},
     "output_type": "execute_result"
    }
   ],
   "source": [
    "response.text[:100]"
   ]
  },
  {
   "cell_type": "code",
   "execution_count": 15,
   "metadata": {},
   "outputs": [],
   "source": [
    "html = response.text"
   ]
  },
  {
   "cell_type": "markdown",
   "metadata": {},
   "source": [
    "# BeautifulSoup"
   ]
  },
  {
   "cell_type": "code",
   "execution_count": 16,
   "metadata": {},
   "outputs": [],
   "source": [
    "soup = BeautifulSoup(html, 'html.parser') # 'html.parser', 'lxml'"
   ]
  },
  {
   "cell_type": "code",
   "execution_count": 17,
   "metadata": {},
   "outputs": [],
   "source": [
    "# <ul class = \"headline-list\">\n",
    "ul = soup.find('ul', attrs={'class':'headline-list'}) \n",
    "#find():해당값중 첫번째만 return, find_all(): 해당하는 모든 값을 list로 return"
   ]
  },
  {
   "cell_type": "code",
   "execution_count": 18,
   "metadata": {},
   "outputs": [
    {
     "data": {
      "text/plain": [
       "<li class=\"headline-list__item headline-column__item headline-column--tablet__item headline-column--desktop__item tone-news--most-popular fc-item--pillar-news\">\n",
       "<div class=\"headline-list__link\" data-link-name=\"10 | text\">\n",
       "<span class=\"most-popular__number-10\"> <span class=\"inline-number-10 inline-numbers \">\n",
       "<svg class=\"inline-number-10__svg inline-numbers__svg\" height=\"40\" width=\"54\">\n",
       "<path d=\"M0 40h21v-1l-5.4-1.6V0h-4.3L.1 5.4v1.3l5.5-1.4v32.1L0 39.1zm37 0c-9.2 0-17-6.8-17-19.8C20 6.6 28.1 0 37.3 0 46.4 0 54 6.5 54 19.9 54 33.3 46.3 40 37 40zm.1-1c4 0 5.2-6.1 5.2-18.7C42.3 7 41 1.1 37.1 1.1c-4 0-5.4 6-5.4 18.7 0 13 1.4 19.1 5.4 19.1z\" fill-rule=\"evenodd\"></path>\n",
       "</svg> </span> </span>\n",
       "<div class=\"headline-list__text\">\n",
       "<h3 class=\"fc-item__title\"><a class=\"fc-item__link\" data-link-name=\"article\" href=\"https://www.theguardian.com/technology/2018/dec/18/controversial-engineer-i-travelled-over-3000-miles-in-a-self-driving-car\"> <span class=\"headline-list__body fc-item__headline\"> <span class=\"js-headline-text\">Self-driving car drove me from California to New York, claims ex-Uber engineer</span></span> </a></h3>\n",
       "</div>\n",
       "</div> </li>"
      ]
     },
     "execution_count": 18,
     "metadata": {},
     "output_type": "execute_result"
    }
   ],
   "source": [
    "lis = ul.find_all('li')\n",
    "lis[9]"
   ]
  },
  {
   "cell_type": "code",
   "execution_count": 20,
   "metadata": {},
   "outputs": [
    {
     "data": {
      "text/plain": [
       "'Uber loses appeal over driver employment rights'"
      ]
     },
     "execution_count": 20,
     "metadata": {},
     "output_type": "execute_result"
    }
   ],
   "source": [
    "#lis[0].find('a').span.span.text\n",
    "news_title = lis[0].find('a').text.strip()\n",
    "news_title"
   ]
  },
  {
   "cell_type": "code",
   "execution_count": 37,
   "metadata": {},
   "outputs": [
    {
     "data": {
      "text/plain": [
       "{'href': 'https://www.theguardian.com/technology/2018/dec/12/apple-129in-ipad-pro-review-bringing-back-the-wow-factor',\n",
       " 'class': ['fc-item__link'],\n",
       " 'data-link-name': 'article'}"
      ]
     },
     "execution_count": 37,
     "metadata": {},
     "output_type": "execute_result"
    }
   ],
   "source": [
    "lis[0].find('a').attrs"
   ]
  },
  {
   "cell_type": "code",
   "execution_count": 44,
   "metadata": {},
   "outputs": [
    {
     "data": {
      "text/plain": [
       "'https://www.theguardian.com/technology/2018/dec/12/apple-129in-ipad-pro-review-bringing-back-the-wow-factor'"
      ]
     },
     "execution_count": 44,
     "metadata": {},
     "output_type": "execute_result"
    }
   ],
   "source": [
    "news_link = lis[0].find('a').attrs['href']\n",
    "news_link"
   ]
  },
  {
   "cell_type": "code",
   "execution_count": 45,
   "metadata": {},
   "outputs": [
    {
     "name": "stdout",
     "output_type": "stream",
     "text": [
      "Apple 12.9in iPad Pro review: bringing back the wow factor https://www.theguardian.com/technology/2018/dec/12/apple-129in-ipad-pro-review-bringing-back-the-wow-factor\n",
      "Broadband too slow in more than a quarter of UK homes – report https://www.theguardian.com/technology/2018/dec/12/broadband-too-slow-in-more-than-a-quarter-of-uk-homes-report\n",
      "Meng Wanzhou: Canadian court frees Huawei CFO on bail https://www.theguardian.com/technology/2018/dec/12/meng-wanzhou-canada-frees-huawei-cfo-on-bail\n",
      "Revealed: Google's 'two-tier' workforce training document https://www.theguardian.com/technology/2018/dec/11/google-tvc-full-time-employees-training-document\n",
      "Why Facebook's new rule about sex is its weirdest yet https://www.theguardian.com/technology/commentisfree/2018/dec/11/why-facebooks-new-rule-about-sex-is-its-weirdest-yet\n",
      "Google CEO Sundar Pichai refuses to rule out censored Chinese search engine https://www.theguardian.com/technology/2018/dec/11/google-ceo-sundar-pichai-congress\n",
      "Encryption laws will allow targeting of those suspected of minor crimes, experts warn https://www.theguardian.com/technology/2018/dec/12/encryption-laws-will-allow-targeting-of-those-suspected-of-minor-crimes-experts-warn\n",
      "The 20 best gadgets of 2018 https://www.theguardian.com/technology/2018/dec/09/the-20-best-gadgets-of-2018\n",
      "Google+ to shut down early after privacy flaw affects over 50m users https://www.theguardian.com/technology/2018/dec/10/google-to-shut-down-early-after-privacy-flaw-affects-over-50m-users\n",
      "A brief guide to everything that’s annoying about Apple https://www.theguardian.com/technology/2016/apr/27/a-brief-guide-to-everything-thats-annoying-about-apple\n"
     ]
    },
    {
     "data": {
      "text/plain": [
       "[('Apple 12.9in iPad Pro review: bringing back the wow factor',\n",
       "  'https://www.theguardian.com/technology/2018/dec/12/apple-129in-ipad-pro-review-bringing-back-the-wow-factor'),\n",
       " ('Broadband too slow in more than a quarter of UK homes – report',\n",
       "  'https://www.theguardian.com/technology/2018/dec/12/broadband-too-slow-in-more-than-a-quarter-of-uk-homes-report'),\n",
       " ('Meng Wanzhou: Canadian court frees Huawei CFO on bail',\n",
       "  'https://www.theguardian.com/technology/2018/dec/12/meng-wanzhou-canada-frees-huawei-cfo-on-bail'),\n",
       " (\"Revealed: Google's 'two-tier' workforce training document\",\n",
       "  'https://www.theguardian.com/technology/2018/dec/11/google-tvc-full-time-employees-training-document'),\n",
       " (\"Why Facebook's new rule about sex is its weirdest yet\",\n",
       "  'https://www.theguardian.com/technology/commentisfree/2018/dec/11/why-facebooks-new-rule-about-sex-is-its-weirdest-yet'),\n",
       " ('Google CEO Sundar Pichai refuses to rule out censored Chinese search engine',\n",
       "  'https://www.theguardian.com/technology/2018/dec/11/google-ceo-sundar-pichai-congress'),\n",
       " ('Encryption laws will allow targeting of those suspected of minor crimes, experts warn',\n",
       "  'https://www.theguardian.com/technology/2018/dec/12/encryption-laws-will-allow-targeting-of-those-suspected-of-minor-crimes-experts-warn'),\n",
       " ('The 20 best gadgets of 2018',\n",
       "  'https://www.theguardian.com/technology/2018/dec/09/the-20-best-gadgets-of-2018'),\n",
       " ('Google+ to shut down early after privacy flaw affects over 50m users',\n",
       "  'https://www.theguardian.com/technology/2018/dec/10/google-to-shut-down-early-after-privacy-flaw-affects-over-50m-users'),\n",
       " ('A brief guide to everything that’s annoying about Apple',\n",
       "  'https://www.theguardian.com/technology/2016/apr/27/a-brief-guide-to-everything-thats-annoying-about-apple')]"
      ]
     },
     "execution_count": 45,
     "metadata": {},
     "output_type": "execute_result"
    }
   ],
   "source": [
    "results = []\n",
    "for li in lis:\n",
    "    news_title = li.find('a').text.strip()\n",
    "    news_link = li.find('a').attrs['href']\n",
    "    print(news_title, news_link)\n",
    "    results.append((news_title, news_link))\n",
    "    \n",
    "results"
   ]
  },
  {
   "cell_type": "markdown",
   "metadata": {},
   "source": [
    "## Rotten tomatoes"
   ]
  },
  {
   "cell_type": "code",
   "execution_count": 21,
   "metadata": {},
   "outputs": [],
   "source": [
    "url = \"https://www.rottentomatoes.com\"\n",
    "response = requests.get(url)    "
   ]
  },
  {
   "cell_type": "code",
   "execution_count": 22,
   "metadata": {},
   "outputs": [],
   "source": [
    "html = response.text"
   ]
  },
  {
   "cell_type": "code",
   "execution_count": 23,
   "metadata": {},
   "outputs": [],
   "source": [
    "soup = BeautifulSoup(html, 'html.parser')"
   ]
  },
  {
   "cell_type": "code",
   "execution_count": 24,
   "metadata": {},
   "outputs": [
    {
     "data": {
      "text/plain": [
       "<table class=\"movie_list\" id=\"Top-Box-Office\">\n",
       "<tr class=\"\">\n",
       "<td class=\"left_col\">\n",
       "<a href=\"/m/spider_man_into_the_spider_verse\">\n",
       "<span class=\"icon tiny certified_fresh\"></span>\n",
       "<span class=\"tMeterScore\">97%</span>\n",
       "</a>\n",
       "</td>\n",
       "<td class=\"middle_col\">\n",
       "<a href=\"/m/spider_man_into_the_spider_verse\">Spider-Man: Into the Spider-Verse</a>\n",
       "</td>\n",
       "<td class=\"right_col right\">\n",
       "<a href=\"/m/spider_man_into_the_spider_verse\">$35.5M</a>\n",
       "</td>\n",
       "</tr>\n",
       "<tr class=\"\">\n",
       "<td class=\"left_col\">\n",
       "<a href=\"/m/the_mule_2018\">\n",
       "<span class=\"icon tiny fresh\"></span>\n",
       "<span class=\"tMeterScore\">60%</span>\n",
       "</a>\n",
       "</td>\n",
       "<td class=\"middle_col\">\n",
       "<a href=\"/m/the_mule_2018\">The Mule</a>\n",
       "</td>\n",
       "<td class=\"right_col right\">\n",
       "<a href=\"/m/the_mule_2018\">$17.6M</a>\n",
       "</td>\n",
       "</tr>\n",
       "<tr class=\"\">\n",
       "<td class=\"left_col\">\n",
       "<a href=\"/m/the_grinch\">\n",
       "<span class=\"icon tiny rotten\"></span>\n",
       "<span class=\"tMeterScore\">57%</span>\n",
       "</a>\n",
       "</td>\n",
       "<td class=\"middle_col\">\n",
       "<a href=\"/m/the_grinch\">The Grinch</a>\n",
       "</td>\n",
       "<td class=\"right_col right\">\n",
       "<a href=\"/m/the_grinch\">$11.8M</a>\n",
       "</td>\n",
       "</tr>\n",
       "<tr class=\"\">\n",
       "<td class=\"left_col\">\n",
       "<a href=\"/m/ralph_breaks_the_internet\">\n",
       "<span class=\"icon tiny certified_fresh\"></span>\n",
       "<span class=\"tMeterScore\">88%</span>\n",
       "</a>\n",
       "</td>\n",
       "<td class=\"middle_col\">\n",
       "<a href=\"/m/ralph_breaks_the_internet\">Ralph Breaks the Internet</a>\n",
       "</td>\n",
       "<td class=\"right_col right\">\n",
       "<a href=\"/m/ralph_breaks_the_internet\">$9.3M</a>\n",
       "</td>\n",
       "</tr>\n",
       "<tr class=\"\">\n",
       "<td class=\"left_col\">\n",
       "<a href=\"/m/mortal_engines\">\n",
       "<span class=\"icon tiny rotten\"></span>\n",
       "<span class=\"tMeterScore\">27%</span>\n",
       "</a>\n",
       "</td>\n",
       "<td class=\"middle_col\">\n",
       "<a href=\"/m/mortal_engines\">Mortal Engines</a>\n",
       "</td>\n",
       "<td class=\"right_col right\">\n",
       "<a href=\"/m/mortal_engines\">$7.7M</a>\n",
       "</td>\n",
       "</tr>\n",
       "<tr class=\"\">\n",
       "<td class=\"left_col\">\n",
       "<a href=\"/m/creed_ii\">\n",
       "<span class=\"icon tiny certified_fresh\"></span>\n",
       "<span class=\"tMeterScore\">83%</span>\n",
       "</a>\n",
       "</td>\n",
       "<td class=\"middle_col\">\n",
       "<a href=\"/m/creed_ii\">Creed II</a>\n",
       "</td>\n",
       "<td class=\"right_col right\">\n",
       "<a href=\"/m/creed_ii\">$5.5M</a>\n",
       "</td>\n",
       "</tr>\n",
       "<tr class=\"\">\n",
       "<td class=\"left_col\">\n",
       "<a href=\"/m/bohemian_rhapsody\">\n",
       "<span class=\"icon tiny fresh\"></span>\n",
       "<span class=\"tMeterScore\">62%</span>\n",
       "</a>\n",
       "</td>\n",
       "<td class=\"middle_col\">\n",
       "<a href=\"/m/bohemian_rhapsody\">Bohemian Rhapsody</a>\n",
       "</td>\n",
       "<td class=\"right_col right\">\n",
       "<a href=\"/m/bohemian_rhapsody\">$4.3M</a>\n",
       "</td>\n",
       "</tr>\n",
       "<tr class=\"\">\n",
       "<td class=\"left_col\">\n",
       "<a href=\"/m/instant_family\">\n",
       "<span class=\"icon tiny certified_fresh\"></span>\n",
       "<span class=\"tMeterScore\">82%</span>\n",
       "</a>\n",
       "</td>\n",
       "<td class=\"middle_col\">\n",
       "<a href=\"/m/instant_family\">Instant Family</a>\n",
       "</td>\n",
       "<td class=\"right_col right\">\n",
       "<a href=\"/m/instant_family\">$3.9M</a>\n",
       "</td>\n",
       "</tr>\n",
       "<tr class=\"\">\n",
       "<td class=\"left_col\">\n",
       "<a href=\"/m/fantastic_beasts_the_crimes_of_grindelwald\">\n",
       "<span class=\"icon tiny rotten\"></span>\n",
       "<span class=\"tMeterScore\">38%</span>\n",
       "</a>\n",
       "</td>\n",
       "<td class=\"middle_col\">\n",
       "<a href=\"/m/fantastic_beasts_the_crimes_of_grindelwald\">Fantastic Beasts: The Crimes of Grindelwald</a>\n",
       "</td>\n",
       "<td class=\"right_col right\">\n",
       "<a href=\"/m/fantastic_beasts_the_crimes_of_grindelwald\">$3.8M</a>\n",
       "</td>\n",
       "</tr>\n",
       "<tr class=\"\">\n",
       "<td class=\"left_col\">\n",
       "<a href=\"/m/green_book\">\n",
       "<span class=\"icon tiny certified_fresh\"></span>\n",
       "<span class=\"tMeterScore\">82%</span>\n",
       "</a>\n",
       "</td>\n",
       "<td class=\"middle_col\">\n",
       "<a href=\"/m/green_book\">Green Book</a>\n",
       "</td>\n",
       "<td class=\"right_col right\">\n",
       "<a href=\"/m/green_book\">$2.9M</a>\n",
       "</td>\n",
       "</tr>\n",
       "</table>"
      ]
     },
     "execution_count": 24,
     "metadata": {},
     "output_type": "execute_result"
    }
   ],
   "source": [
    "table = soup.find('table', attrs = {'id' : \"Top-Box-Office\"})\n",
    "table"
   ]
  },
  {
   "cell_type": "code",
   "execution_count": 25,
   "metadata": {},
   "outputs": [
    {
     "data": {
      "text/plain": [
       "[<tr class=\"\">\n",
       " <td class=\"left_col\">\n",
       " <a href=\"/m/spider_man_into_the_spider_verse\">\n",
       " <span class=\"icon tiny certified_fresh\"></span>\n",
       " <span class=\"tMeterScore\">97%</span>\n",
       " </a>\n",
       " </td>\n",
       " <td class=\"middle_col\">\n",
       " <a href=\"/m/spider_man_into_the_spider_verse\">Spider-Man: Into the Spider-Verse</a>\n",
       " </td>\n",
       " <td class=\"right_col right\">\n",
       " <a href=\"/m/spider_man_into_the_spider_verse\">$35.5M</a>\n",
       " </td>\n",
       " </tr>, <tr class=\"\">\n",
       " <td class=\"left_col\">\n",
       " <a href=\"/m/the_mule_2018\">\n",
       " <span class=\"icon tiny fresh\"></span>\n",
       " <span class=\"tMeterScore\">60%</span>\n",
       " </a>\n",
       " </td>\n",
       " <td class=\"middle_col\">\n",
       " <a href=\"/m/the_mule_2018\">The Mule</a>\n",
       " </td>\n",
       " <td class=\"right_col right\">\n",
       " <a href=\"/m/the_mule_2018\">$17.6M</a>\n",
       " </td>\n",
       " </tr>, <tr class=\"\">\n",
       " <td class=\"left_col\">\n",
       " <a href=\"/m/the_grinch\">\n",
       " <span class=\"icon tiny rotten\"></span>\n",
       " <span class=\"tMeterScore\">57%</span>\n",
       " </a>\n",
       " </td>\n",
       " <td class=\"middle_col\">\n",
       " <a href=\"/m/the_grinch\">The Grinch</a>\n",
       " </td>\n",
       " <td class=\"right_col right\">\n",
       " <a href=\"/m/the_grinch\">$11.8M</a>\n",
       " </td>\n",
       " </tr>, <tr class=\"\">\n",
       " <td class=\"left_col\">\n",
       " <a href=\"/m/ralph_breaks_the_internet\">\n",
       " <span class=\"icon tiny certified_fresh\"></span>\n",
       " <span class=\"tMeterScore\">88%</span>\n",
       " </a>\n",
       " </td>\n",
       " <td class=\"middle_col\">\n",
       " <a href=\"/m/ralph_breaks_the_internet\">Ralph Breaks the Internet</a>\n",
       " </td>\n",
       " <td class=\"right_col right\">\n",
       " <a href=\"/m/ralph_breaks_the_internet\">$9.3M</a>\n",
       " </td>\n",
       " </tr>, <tr class=\"\">\n",
       " <td class=\"left_col\">\n",
       " <a href=\"/m/mortal_engines\">\n",
       " <span class=\"icon tiny rotten\"></span>\n",
       " <span class=\"tMeterScore\">27%</span>\n",
       " </a>\n",
       " </td>\n",
       " <td class=\"middle_col\">\n",
       " <a href=\"/m/mortal_engines\">Mortal Engines</a>\n",
       " </td>\n",
       " <td class=\"right_col right\">\n",
       " <a href=\"/m/mortal_engines\">$7.7M</a>\n",
       " </td>\n",
       " </tr>, <tr class=\"\">\n",
       " <td class=\"left_col\">\n",
       " <a href=\"/m/creed_ii\">\n",
       " <span class=\"icon tiny certified_fresh\"></span>\n",
       " <span class=\"tMeterScore\">83%</span>\n",
       " </a>\n",
       " </td>\n",
       " <td class=\"middle_col\">\n",
       " <a href=\"/m/creed_ii\">Creed II</a>\n",
       " </td>\n",
       " <td class=\"right_col right\">\n",
       " <a href=\"/m/creed_ii\">$5.5M</a>\n",
       " </td>\n",
       " </tr>, <tr class=\"\">\n",
       " <td class=\"left_col\">\n",
       " <a href=\"/m/bohemian_rhapsody\">\n",
       " <span class=\"icon tiny fresh\"></span>\n",
       " <span class=\"tMeterScore\">62%</span>\n",
       " </a>\n",
       " </td>\n",
       " <td class=\"middle_col\">\n",
       " <a href=\"/m/bohemian_rhapsody\">Bohemian Rhapsody</a>\n",
       " </td>\n",
       " <td class=\"right_col right\">\n",
       " <a href=\"/m/bohemian_rhapsody\">$4.3M</a>\n",
       " </td>\n",
       " </tr>, <tr class=\"\">\n",
       " <td class=\"left_col\">\n",
       " <a href=\"/m/instant_family\">\n",
       " <span class=\"icon tiny certified_fresh\"></span>\n",
       " <span class=\"tMeterScore\">82%</span>\n",
       " </a>\n",
       " </td>\n",
       " <td class=\"middle_col\">\n",
       " <a href=\"/m/instant_family\">Instant Family</a>\n",
       " </td>\n",
       " <td class=\"right_col right\">\n",
       " <a href=\"/m/instant_family\">$3.9M</a>\n",
       " </td>\n",
       " </tr>, <tr class=\"\">\n",
       " <td class=\"left_col\">\n",
       " <a href=\"/m/fantastic_beasts_the_crimes_of_grindelwald\">\n",
       " <span class=\"icon tiny rotten\"></span>\n",
       " <span class=\"tMeterScore\">38%</span>\n",
       " </a>\n",
       " </td>\n",
       " <td class=\"middle_col\">\n",
       " <a href=\"/m/fantastic_beasts_the_crimes_of_grindelwald\">Fantastic Beasts: The Crimes of Grindelwald</a>\n",
       " </td>\n",
       " <td class=\"right_col right\">\n",
       " <a href=\"/m/fantastic_beasts_the_crimes_of_grindelwald\">$3.8M</a>\n",
       " </td>\n",
       " </tr>, <tr class=\"\">\n",
       " <td class=\"left_col\">\n",
       " <a href=\"/m/green_book\">\n",
       " <span class=\"icon tiny certified_fresh\"></span>\n",
       " <span class=\"tMeterScore\">82%</span>\n",
       " </a>\n",
       " </td>\n",
       " <td class=\"middle_col\">\n",
       " <a href=\"/m/green_book\">Green Book</a>\n",
       " </td>\n",
       " <td class=\"right_col right\">\n",
       " <a href=\"/m/green_book\">$2.9M</a>\n",
       " </td>\n",
       " </tr>]"
      ]
     },
     "execution_count": 25,
     "metadata": {},
     "output_type": "execute_result"
    }
   ],
   "source": [
    "trs = table.find_all('tr')\n",
    "trs"
   ]
  },
  {
   "cell_type": "code",
   "execution_count": 27,
   "metadata": {},
   "outputs": [
    {
     "data": {
      "text/plain": [
       "'97'"
      ]
     },
     "execution_count": 27,
     "metadata": {},
     "output_type": "execute_result"
    }
   ],
   "source": [
    "rotten_index = trs[0].find('td', attrs = {'class' : 'left_col'}).text.strip(\"\\n%\")\n",
    "rotten_index"
   ]
  },
  {
   "cell_type": "code",
   "execution_count": 28,
   "metadata": {},
   "outputs": [
    {
     "data": {
      "text/plain": [
       "'\\nSpider-Man: Into the Spider-Verse\\n'"
      ]
     },
     "execution_count": 28,
     "metadata": {},
     "output_type": "execute_result"
    }
   ],
   "source": [
    "rotten_title = trs[0].find('td', attrs = {'class' : 'middle_col'}).text\n",
    "rotten_title"
   ]
  },
  {
   "cell_type": "code",
   "execution_count": 14,
   "metadata": {},
   "outputs": [
    {
     "data": {
      "text/plain": [
       "'/m/ralph_breaks_the_internet'"
      ]
     },
     "execution_count": 14,
     "metadata": {},
     "output_type": "execute_result"
    }
   ],
   "source": [
    "rotten_url = trs[0].find('a').attrs['href']\n",
    "rotten_url"
   ]
  },
  {
   "cell_type": "code",
   "execution_count": 15,
   "metadata": {},
   "outputs": [
    {
     "data": {
      "text/plain": [
       "'$16.4M'"
      ]
     },
     "execution_count": 15,
     "metadata": {},
     "output_type": "execute_result"
    }
   ],
   "source": [
    "rotten_revenue = trs[0].find('td', attrs = {'class' : 'right_col'}).text.strip(\"\\n\")\n",
    "rotten_revenue"
   ]
  },
  {
   "cell_type": "code",
   "execution_count": 20,
   "metadata": {},
   "outputs": [
    {
     "name": "stdout",
     "output_type": "stream",
     "text": [
      "88 Ralph Breaks the Internet https://www.rottentomatoes.com/m/ralph_breaks_the_internet $16.4M\n",
      "57 The Grinch https://www.rottentomatoes.com/m/the_grinch $15.1M\n",
      "83 Creed II https://www.rottentomatoes.com/m/creed_ii $10.1M\n",
      "38 Fantastic Beasts: The Crimes of Grindelwald https://www.rottentomatoes.com/m/fantastic_beasts_the_crimes_of_grindelwald $7M\n",
      "62 Bohemian Rhapsody https://www.rottentomatoes.com/m/bohemian_rhapsody $6.2M\n",
      "81 Instant Family https://www.rottentomatoes.com/m/instant_family $5.8M\n",
      "82 Green Book https://www.rottentomatoes.com/m/green_book $4M\n",
      "16 Robin Hood https://www.rottentomatoes.com/m/robin_hood_2018 $3.5M\n",
      "14 The Possession of Hannah Grace https://www.rottentomatoes.com/m/the_possession_of_hannah_grace $3.3M\n",
      "91 Widows https://www.rottentomatoes.com/m/widows_2018 $3.1M\n"
     ]
    },
    {
     "data": {
      "text/plain": [
       "[('88',\n",
       "  'Ralph Breaks the Internet',\n",
       "  'https://www.rottentomatoes.com/m/ralph_breaks_the_internet',\n",
       "  '$16.4M'),\n",
       " ('57', 'The Grinch', 'https://www.rottentomatoes.com/m/the_grinch', '$15.1M'),\n",
       " ('83', 'Creed II', 'https://www.rottentomatoes.com/m/creed_ii', '$10.1M'),\n",
       " ('38',\n",
       "  'Fantastic Beasts: The Crimes of Grindelwald',\n",
       "  'https://www.rottentomatoes.com/m/fantastic_beasts_the_crimes_of_grindelwald',\n",
       "  '$7M'),\n",
       " ('62',\n",
       "  'Bohemian Rhapsody',\n",
       "  'https://www.rottentomatoes.com/m/bohemian_rhapsody',\n",
       "  '$6.2M'),\n",
       " ('81',\n",
       "  'Instant Family',\n",
       "  'https://www.rottentomatoes.com/m/instant_family',\n",
       "  '$5.8M'),\n",
       " ('82', 'Green Book', 'https://www.rottentomatoes.com/m/green_book', '$4M'),\n",
       " ('16',\n",
       "  'Robin Hood',\n",
       "  'https://www.rottentomatoes.com/m/robin_hood_2018',\n",
       "  '$3.5M'),\n",
       " ('14',\n",
       "  'The Possession of Hannah Grace',\n",
       "  'https://www.rottentomatoes.com/m/the_possession_of_hannah_grace',\n",
       "  '$3.3M'),\n",
       " ('91', 'Widows', 'https://www.rottentomatoes.com/m/widows_2018', '$3.1M')]"
      ]
     },
     "execution_count": 20,
     "metadata": {},
     "output_type": "execute_result"
    }
   ],
   "source": [
    "results = []\n",
    "for tr in trs:\n",
    "    rotten_index = tr.find('td', attrs = {'class' : 'left_col'}).text.strip(\"\\n%\")\n",
    "    rotten_title = tr.find('td', attrs = {'class' : 'middle_col'}).text.strip(\"\\n\")\n",
    "    rotten_url = tr.find('a').attrs['href']\n",
    "    rotten_revenue = tr.find('td', attrs = {'class' : 'right_col'}).text.strip(\"\\n\")\n",
    "    \n",
    "    print(rotten_index, rotten_title, url+rotten_url, rotten_revenue)\n",
    "    results.append((rotten_index, rotten_title, url+rotten_url, rotten_revenue))\n",
    "    \n",
    "results"
   ]
  },
  {
   "cell_type": "code",
   "execution_count": null,
   "metadata": {},
   "outputs": [],
   "source": []
  },
  {
   "cell_type": "code",
   "execution_count": null,
   "metadata": {},
   "outputs": [],
   "source": []
  }
 ],
 "metadata": {
  "kernelspec": {
   "display_name": "Python 3",
   "language": "python",
   "name": "python3"
  },
  "language_info": {
   "codemirror_mode": {
    "name": "ipython",
    "version": 3
   },
   "file_extension": ".py",
   "mimetype": "text/x-python",
   "name": "python",
   "nbconvert_exporter": "python",
   "pygments_lexer": "ipython3",
   "version": "3.7.1"
  }
 },
 "nbformat": 4,
 "nbformat_minor": 2
}

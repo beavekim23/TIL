{
 "cells": [
  {
   "cell_type": "markdown",
   "metadata": {},
   "source": [
    "# Cloud Computing\n",
    "- Access internet without using computer<br/>\n",
    "- AWS, GCP, Microsoft Azure<br/>"
   ]
  },
  {
   "cell_type": "markdown",
   "metadata": {},
   "source": [
    "# AWS Lambda\n",
    "- Event-driven, serverless computing platform<br/>\n",
    "- Cloud fuction(GCP), Azure function(MS Azure)"
   ]
  },
  {
   "cell_type": "markdown",
   "metadata": {},
   "source": [
    "## Lambda enables\n",
    "- serverless API<br/>\n",
    "- preprocessing <br/>\n",
    "- authorizer <br/>\n",
    "- auto-scaling"
   ]
  },
  {
   "cell_type": "markdown",
   "metadata": {},
   "source": [
    "## Lambda Function with Python Modules"
   ]
  },
  {
   "cell_type": "markdown",
   "metadata": {},
   "source": [
    "### 1. Create function on AWS website \n",
    "<img src=\"./img/aws_create_function.png\" width=\"800\" style=\"float:left\">"
   ]
  },
  {
   "cell_type": "markdown",
   "metadata": {},
   "source": [
    "### 2. Download Modules under Virtual Environment\n",
    "- With Anaconda Prompt<br/>\n",
    "`$ conda update conda`<br/>\n",
    "`$ conda info --envs` <br/>\n",
    "`$ conda create -n <new-env> python 3.7`<br/>\n",
    "`$ conda activate <new-env>`<br/>\n",
    "`$ conda install <module>`<br/>\n",
    "`$ conda deactivate`<br/>\n",
    "\n",
    "- Some Tips for Virtual Environment<br/>\n",
    "To remove: <br/>\n",
    "`$ conda env remove -n <env>`<br/>\n",
    "To clone: <br/>\n",
    "`$ conda create -n <to_env> -c <from_env>`"
   ]
  },
  {
   "cell_type": "markdown",
   "metadata": {},
   "source": [
    "### 3. Zip Modules and function.py and Upload it to AWS\n",
    "<img src=\"./img/aws_upload_function.png\" width=\"800\" style=\"float:left\">"
   ]
  },
  {
   "cell_type": "markdown",
   "metadata": {},
   "source": [
    "### 4. Set CloudWatch Events with Cron If Necessary "
   ]
  },
  {
   "cell_type": "markdown",
   "metadata": {},
   "source": [
    "#### Cron\n",
    "- Schedule expressions<br/>\n",
    "<img src=\"./img/cron_def.png\" width=\"400\" style=\"float:left\"><br/>"
   ]
  },
  {
   "cell_type": "markdown",
   "metadata": {},
   "source": [
    "- Cron in AWS<br/>\n",
    "<img src=\"./img/cron_aws.png\" width=\"400\" style=\"float:left\"><br/>"
   ]
  },
  {
   "cell_type": "markdown",
   "metadata": {},
   "source": [
    "- Example<br/>\n",
    "`cron(*/20 9-18 * * mon-fri *)` : every year mon-fri every month every day of month 9-18 every 20 minutes <br/>\n",
    "- For More Docs for Cron<br/>\n",
    "(https://docs.aws.amazon.com/ko_kr/AmazonCloudWatch/latest/events/ScheduledEvents.html#RateExpressions)"
   ]
  },
  {
   "cell_type": "markdown",
   "metadata": {},
   "source": [
    "- Tips<br/>\n",
    "<img src=\"./img/cron_more.png\" width=\"400\" style=\"float:left\">"
   ]
  },
  {
   "cell_type": "markdown",
   "metadata": {},
   "source": [
    "- Set Cron on AWS<br/>\n",
    "<img src=\"./img/aws_cron1.png\" width=\"800\" style=\"float:left\">"
   ]
  },
  {
   "cell_type": "markdown",
   "metadata": {},
   "source": [
    "# EC2"
   ]
  },
  {
   "cell_type": "markdown",
   "metadata": {},
   "source": [
    "- Amazon Elastic Computer Cloud<br/>\n",
    "- Rent virtual computers<br/>\n",
    "- Other computer cloud: Google Compute Engine, Azure Virtual Machines<br/>"
   ]
  },
  {
   "cell_type": "markdown",
   "metadata": {},
   "source": [
    "## Warning\n",
    "- Given key pairs MUST be keep in private directory"
   ]
  }
 ],
 "metadata": {
  "kernelspec": {
   "display_name": "Python 3",
   "language": "python",
   "name": "python3"
  },
  "language_info": {
   "codemirror_mode": {
    "name": "ipython",
    "version": 3
   },
   "file_extension": ".py",
   "mimetype": "text/x-python",
   "name": "python",
   "nbconvert_exporter": "python",
   "pygments_lexer": "ipython3",
   "version": "3.7.1"
  }
 },
 "nbformat": 4,
 "nbformat_minor": 2
}

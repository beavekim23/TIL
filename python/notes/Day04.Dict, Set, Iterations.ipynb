{
 "cells": [
  {
   "cell_type": "markdown",
   "metadata": {},
   "source": [
    "## Review"
   ]
  },
  {
   "cell_type": "code",
   "execution_count": null,
   "metadata": {},
   "outputs": [],
   "source": [
    "weekdays = ['월', '화', '수', '목', '금']\n",
    "weekends = ['토', '일']\n",
    "\n",
    "user_input = input(\"요일을 입력하세요: \")\n",
    "if len(user_input) >1 and user_input[-2:] != \"요일\":\n",
    "    print(\"이상한 값을 입력하지 마세요\")\n",
    "else:\n",
    "    user_input = user_input[0]\n",
    "\n",
    "    result = \"평일이네요ㅜㅜ\" if user_input in weekdays else \"주말이네요^^!\" if user_input in weekends else \"다시 입력해라\"\n",
    "    print(result)"
   ]
  },
  {
   "cell_type": "markdown",
   "metadata": {},
   "source": [
    "## Dictionary"
   ]
  },
  {
   "cell_type": "code",
   "execution_count": 2,
   "metadata": {},
   "outputs": [],
   "source": [
    "dict1 = {}"
   ]
  },
  {
   "cell_type": "code",
   "execution_count": 3,
   "metadata": {},
   "outputs": [
    {
     "data": {
      "text/plain": [
       "{'ja': 1, 'chuk': 2, 'in': 3}"
      ]
     },
     "execution_count": 3,
     "metadata": {},
     "output_type": "execute_result"
    }
   ],
   "source": [
    "dict2 = {'ja':1, 'chuk':2, 'in':3}\n",
    "dict2"
   ]
  },
  {
   "cell_type": "code",
   "execution_count": 4,
   "metadata": {},
   "outputs": [
    {
     "data": {
      "text/plain": [
       "{'ja': 1, 'chuk': 2, 'in_': 3}"
      ]
     },
     "execution_count": 4,
     "metadata": {},
     "output_type": "execute_result"
    }
   ],
   "source": [
    "dict3 = dict(ja =1, chuk =2, in_=3)\n",
    "dict3"
   ]
  },
  {
   "cell_type": "code",
   "execution_count": 5,
   "metadata": {},
   "outputs": [
    {
     "data": {
      "text/plain": [
       "{1: 1, 2: 1, 3: 4}"
      ]
     },
     "execution_count": 5,
     "metadata": {},
     "output_type": "execute_result"
    }
   ],
   "source": [
    "dict4 = dict([(1,1), (2,1), (3,4)])\n",
    "dict4"
   ]
  },
  {
   "cell_type": "code",
   "execution_count": 6,
   "metadata": {},
   "outputs": [
    {
     "data": {
      "text/plain": [
       "{'ja': 1}"
      ]
     },
     "execution_count": 6,
     "metadata": {},
     "output_type": "execute_result"
    }
   ],
   "source": [
    "#값 추가하기\n",
    "dict1['ja'] = 1\n",
    "dict1"
   ]
  },
  {
   "cell_type": "code",
   "execution_count": 7,
   "metadata": {},
   "outputs": [
    {
     "data": {
      "text/plain": [
       "{'ja': 1, 'chuk': 2, 'in': 'Tiger', 'myo': ['토끼1', '토끼2', '토끼3']}"
      ]
     },
     "execution_count": 7,
     "metadata": {},
     "output_type": "execute_result"
    }
   ],
   "source": [
    "dict1['chuk'] = 2\n",
    "dict1['in'] = 'Tiger'\n",
    "dict1['myo'] = ['토끼1', '토끼2', '토끼3']\n",
    "dict1"
   ]
  },
  {
   "cell_type": "code",
   "execution_count": 8,
   "metadata": {},
   "outputs": [
    {
     "data": {
      "text/plain": [
       "{'ja': 1, 'chuk': 2, 'in': 'Tiger'}"
      ]
     },
     "execution_count": 8,
     "metadata": {},
     "output_type": "execute_result"
    }
   ],
   "source": [
    "del dict1['myo']\n",
    "dict1"
   ]
  },
  {
   "cell_type": "code",
   "execution_count": 12,
   "metadata": {},
   "outputs": [
    {
     "data": {
      "text/plain": [
       "['ja', 'chuk', 'in']"
      ]
     },
     "execution_count": 12,
     "metadata": {},
     "output_type": "execute_result"
    }
   ],
   "source": [
    "list(dict1.keys())\n",
    "#dict1의 모든 key 보여줌"
   ]
  },
  {
   "cell_type": "code",
   "execution_count": 10,
   "metadata": {},
   "outputs": [
    {
     "data": {
      "text/plain": [
       "dict_values([1, 2, 'Tiger'])"
      ]
     },
     "execution_count": 10,
     "metadata": {},
     "output_type": "execute_result"
    }
   ],
   "source": [
    "dict1.values()\n",
    "#dict1의 모든 value 보여줌"
   ]
  },
  {
   "cell_type": "code",
   "execution_count": 13,
   "metadata": {},
   "outputs": [
    {
     "data": {
      "text/plain": [
       "[('ja', 1), ('chuk', 2), ('in', 'Tiger')]"
      ]
     },
     "execution_count": 13,
     "metadata": {},
     "output_type": "execute_result"
    }
   ],
   "source": [
    "list(dict1.items())\n",
    "#dict1의 key랑 value둘다 보여줌"
   ]
  },
  {
   "cell_type": "code",
   "execution_count": 14,
   "metadata": {},
   "outputs": [
    {
     "data": {
      "text/plain": [
       "{'name': 'MJKIM',\n",
       " 'phone': 99886109,\n",
       " 'locale': 'Seoul, Korea',\n",
       " 'attended': [('DSES', 'fastcampus'), ('Mathematics', 'USA')]}"
      ]
     },
     "execution_count": 14,
     "metadata": {},
     "output_type": "execute_result"
    }
   ],
   "source": [
    "contacts = {}\n",
    "contacts['name'] = \"MJKIM\"\n",
    "contacts['phone'] = 99886109\n",
    "contacts['locale'] = \"Seoul, Korea\"\n",
    "contacts['attended'] = [('DSES', 'fastcampus'), ('Mathematics', 'USA')]\n",
    "contacts"
   ]
  },
  {
   "cell_type": "code",
   "execution_count": 15,
   "metadata": {},
   "outputs": [
    {
     "data": {
      "text/plain": [
       "99886109"
      ]
     },
     "execution_count": 15,
     "metadata": {},
     "output_type": "execute_result"
    }
   ],
   "source": [
    "phone_number = contacts.pop('phone')\n",
    "phone_number"
   ]
  },
  {
   "cell_type": "code",
   "execution_count": 16,
   "metadata": {},
   "outputs": [
    {
     "data": {
      "text/plain": [
       "{'name': 'MJKIM',\n",
       " 'locale': 'Seoul, Korea',\n",
       " 'attended': [('DSES', 'fastcampus'), ('Mathematics', 'USA')]}"
      ]
     },
     "execution_count": 16,
     "metadata": {},
     "output_type": "execute_result"
    }
   ],
   "source": [
    "contacts"
   ]
  },
  {
   "cell_type": "code",
   "execution_count": 17,
   "metadata": {},
   "outputs": [
    {
     "data": {
      "text/plain": [
       "('attended', [('DSES', 'fastcampus'), ('Mathematics', 'USA')])"
      ]
     },
     "execution_count": 17,
     "metadata": {},
     "output_type": "execute_result"
    }
   ],
   "source": [
    "some_pair = contacts.popitem()\n",
    "some_pair\n",
    "\n",
    "#popitem은 key와 value 모두 추출"
   ]
  },
  {
   "cell_type": "code",
   "execution_count": 18,
   "metadata": {},
   "outputs": [
    {
     "ename": "KeyError",
     "evalue": "'phone'",
     "output_type": "error",
     "traceback": [
      "\u001b[1;31m---------------------------------------------------------------------------\u001b[0m",
      "\u001b[1;31mKeyError\u001b[0m                                  Traceback (most recent call last)",
      "\u001b[1;32m<ipython-input-18-1c99ec77d4eb>\u001b[0m in \u001b[0;36m<module>\u001b[1;34m\u001b[0m\n\u001b[1;32m----> 1\u001b[1;33m \u001b[0mcontacts\u001b[0m\u001b[1;33m[\u001b[0m\u001b[1;34m'phone'\u001b[0m\u001b[1;33m]\u001b[0m\u001b[1;33m\u001b[0m\u001b[1;33m\u001b[0m\u001b[0m\n\u001b[0m",
      "\u001b[1;31mKeyError\u001b[0m: 'phone'"
     ]
    }
   ],
   "source": [
    "contacts['phone']"
   ]
  },
  {
   "cell_type": "code",
   "execution_count": 20,
   "metadata": {},
   "outputs": [
    {
     "data": {
      "text/plain": [
       "'None'"
      ]
     },
     "execution_count": 20,
     "metadata": {},
     "output_type": "execute_result"
    }
   ],
   "source": [
    "number_ = contacts.get('phone', 'None')\n",
    "number_"
   ]
  },
  {
   "cell_type": "code",
   "execution_count": 25,
   "metadata": {},
   "outputs": [
    {
     "name": "stdout",
     "output_type": "stream",
     "text": [
      "0\n"
     ]
    },
    {
     "data": {
      "text/plain": [
       "{'name': 'MJKIM', 'locale': 'Seoul, Korea', 'phone': 0}"
      ]
     },
     "execution_count": 25,
     "metadata": {},
     "output_type": "execute_result"
    }
   ],
   "source": [
    "number_ = contacts.setdefault('phone', 0)\n",
    "print(number_)\n",
    "contacts"
   ]
  },
  {
   "cell_type": "code",
   "execution_count": 26,
   "metadata": {},
   "outputs": [
    {
     "data": {
      "text/plain": [
       "{'a': 0, 'b': 0}"
      ]
     },
     "execution_count": 26,
     "metadata": {},
     "output_type": "execute_result"
    }
   ],
   "source": [
    "{}.fromkeys(['a', 'b'], 0)\n",
    "#생성할때 씀 dictionary.fromkeys([keys], value)"
   ]
  },
  {
   "cell_type": "code",
   "execution_count": 28,
   "metadata": {},
   "outputs": [
    {
     "data": {
      "text/plain": [
       "3"
      ]
     },
     "execution_count": 28,
     "metadata": {},
     "output_type": "execute_result"
    }
   ],
   "source": [
    "len(contacts)"
   ]
  },
  {
   "cell_type": "code",
   "execution_count": 29,
   "metadata": {},
   "outputs": [
    {
     "data": {
      "text/plain": [
       "{'name': 'mjkim',\n",
       " 'locale': 'Seoul, Korea',\n",
       " 'phone': 0,\n",
       " 'language': ['Korean', 'English']}"
      ]
     },
     "execution_count": 29,
     "metadata": {},
     "output_type": "execute_result"
    }
   ],
   "source": [
    "contacts.update({'name': 'mjkim', 'language':['Korean', 'English']})\n",
    "contacts"
   ]
  },
  {
   "cell_type": "code",
   "execution_count": 30,
   "metadata": {},
   "outputs": [
    {
     "data": {
      "text/plain": [
       "'Hi, Guido. You are from Netherlands'"
      ]
     },
     "execution_count": 30,
     "metadata": {},
     "output_type": "execute_result"
    }
   ],
   "source": [
    "infos = {'name': 'Guido', 'country': 'Netherlands'}\n",
    "\"Hi, {}. You are from {}\".format(\"Guido\", \"Netherlands\") "
   ]
  },
  {
   "cell_type": "code",
   "execution_count": 31,
   "metadata": {},
   "outputs": [
    {
     "data": {
      "text/plain": [
       "'Hi, Guido. You are from Netherlands'"
      ]
     },
     "execution_count": 31,
     "metadata": {},
     "output_type": "execute_result"
    }
   ],
   "source": [
    "\"Hi, {name}. You are from {country}\".format(**infos)"
   ]
  },
  {
   "cell_type": "markdown",
   "metadata": {},
   "source": [
    "## Set"
   ]
  },
  {
   "cell_type": "code",
   "execution_count": 32,
   "metadata": {},
   "outputs": [
    {
     "data": {
      "text/plain": [
       "{'apple', 'pen', 'pineapple'}"
      ]
     },
     "execution_count": 32,
     "metadata": {},
     "output_type": "execute_result"
    }
   ],
   "source": [
    "set_ = {'pen', 'pineapple', 'apple', 'pen'}\n",
    "set_"
   ]
  },
  {
   "cell_type": "code",
   "execution_count": 33,
   "metadata": {},
   "outputs": [
    {
     "data": {
      "text/plain": [
       "True"
      ]
     },
     "execution_count": 33,
     "metadata": {},
     "output_type": "execute_result"
    }
   ],
   "source": [
    "'pen' in set_"
   ]
  },
  {
   "cell_type": "code",
   "execution_count": 34,
   "metadata": {},
   "outputs": [
    {
     "data": {
      "text/plain": [
       "True"
      ]
     },
     "execution_count": 34,
     "metadata": {},
     "output_type": "execute_result"
    }
   ],
   "source": [
    "'pine' not in set_"
   ]
  },
  {
   "cell_type": "code",
   "execution_count": 37,
   "metadata": {},
   "outputs": [
    {
     "data": {
      "text/plain": [
       "{'a', 'e', 'i', 'l', 'n', 'p'}"
      ]
     },
     "execution_count": 37,
     "metadata": {},
     "output_type": "execute_result"
    }
   ],
   "source": [
    "result = set(\"pineapple\")\n",
    "result"
   ]
  },
  {
   "cell_type": "code",
   "execution_count": 38,
   "metadata": {},
   "outputs": [],
   "source": [
    "A_set = set(\"fastcampus\")\n",
    "B_set = set(\"python\")"
   ]
  },
  {
   "cell_type": "code",
   "execution_count": 39,
   "metadata": {},
   "outputs": [
    {
     "name": "stdout",
     "output_type": "stream",
     "text": [
      "{'a', 'f', 'p', 'u', 's', 'c', 'm', 't'} {'p', 'n', 'o', 'h', 'y', 't'}\n"
     ]
    }
   ],
   "source": [
    "print(A_set, B_set)"
   ]
  },
  {
   "cell_type": "code",
   "execution_count": 41,
   "metadata": {},
   "outputs": [
    {
     "data": {
      "text/plain": [
       "{'a', 'c', 'f', 'h', 'm', 'n', 'o', 'p', 's', 't', 'u', 'y'}"
      ]
     },
     "execution_count": 41,
     "metadata": {},
     "output_type": "execute_result"
    }
   ],
   "source": [
    "A_set | B_set"
   ]
  },
  {
   "cell_type": "code",
   "execution_count": 42,
   "metadata": {},
   "outputs": [
    {
     "data": {
      "text/plain": [
       "{'p', 't'}"
      ]
     },
     "execution_count": 42,
     "metadata": {},
     "output_type": "execute_result"
    }
   ],
   "source": [
    "A_set & B_set"
   ]
  },
  {
   "cell_type": "code",
   "execution_count": 43,
   "metadata": {},
   "outputs": [
    {
     "data": {
      "text/plain": [
       "{'a', 'c', 'f', 'm', 's', 'u'}"
      ]
     },
     "execution_count": 43,
     "metadata": {},
     "output_type": "execute_result"
    }
   ],
   "source": [
    "A_set - B_set"
   ]
  },
  {
   "cell_type": "code",
   "execution_count": 44,
   "metadata": {},
   "outputs": [
    {
     "data": {
      "text/plain": [
       "{'a', 'c', 'f', 'h', 'm', 'n', 'o', 's', 'u', 'y'}"
      ]
     },
     "execution_count": 44,
     "metadata": {},
     "output_type": "execute_result"
    }
   ],
   "source": [
    "A_set ^ B_set\n",
    "#교집합에 없는 애들 모임"
   ]
  },
  {
   "cell_type": "code",
   "execution_count": 45,
   "metadata": {},
   "outputs": [
    {
     "data": {
      "text/plain": [
       "['dog', 'cat']"
      ]
     },
     "execution_count": 45,
     "metadata": {},
     "output_type": "execute_result"
    }
   ],
   "source": [
    "duplicated = [\"dog\", \"cat\", \"dog\", \"cat\"]\n",
    "list(set(duplicated))"
   ]
  },
  {
   "cell_type": "markdown",
   "metadata": {},
   "source": [
    "## For, While"
   ]
  },
  {
   "cell_type": "code",
   "execution_count": 47,
   "metadata": {},
   "outputs": [
    {
     "name": "stdout",
     "output_type": "stream",
     "text": [
      "1\n",
      "2\n",
      "3\n",
      "4\n",
      "5\n",
      "6\n",
      "7\n",
      "8\n",
      "9\n",
      "10\n"
     ]
    }
   ],
   "source": [
    "for i in range(1, 10+1):\n",
    "    print(i)"
   ]
  },
  {
   "cell_type": "code",
   "execution_count": 49,
   "metadata": {},
   "outputs": [
    {
     "data": {
      "text/plain": [
       "[0, 1, 2, 3, 4, 5, 6, 7, 8, 9]"
      ]
     },
     "execution_count": 49,
     "metadata": {},
     "output_type": "execute_result"
    }
   ],
   "source": [
    "list(range(10))"
   ]
  },
  {
   "cell_type": "code",
   "execution_count": 50,
   "metadata": {},
   "outputs": [
    {
     "data": {
      "text/plain": [
       "range"
      ]
     },
     "execution_count": 50,
     "metadata": {},
     "output_type": "execute_result"
    }
   ],
   "source": [
    "type(range(10))"
   ]
  },
  {
   "cell_type": "code",
   "execution_count": 51,
   "metadata": {},
   "outputs": [
    {
     "name": "stdout",
     "output_type": "stream",
     "text": [
      "6\n",
      "12\n",
      "18\n",
      "24\n",
      "30\n",
      "36\n",
      "42\n",
      "48\n",
      "54\n",
      "60\n",
      "66\n",
      "72\n",
      "78\n",
      "84\n",
      "90\n",
      "96\n",
      "102\n",
      "108\n",
      "114\n",
      "120\n",
      "126\n",
      "132\n",
      "138\n",
      "144\n",
      "150\n",
      "156\n",
      "162\n",
      "168\n",
      "174\n",
      "180\n",
      "186\n",
      "192\n",
      "198\n",
      "204\n",
      "210\n",
      "216\n",
      "222\n",
      "228\n",
      "234\n",
      "240\n",
      "246\n",
      "252\n",
      "258\n",
      "264\n",
      "270\n",
      "276\n",
      "282\n",
      "288\n",
      "294\n",
      "300\n"
     ]
    }
   ],
   "source": [
    "for i in range(1, 100+1):\n",
    "    if i%2 == 0:\n",
    "        result = i*3\n",
    "        print(result)\n",
    "        "
   ]
  },
  {
   "cell_type": "code",
   "execution_count": 52,
   "metadata": {},
   "outputs": [
    {
     "name": "stdout",
     "output_type": "stream",
     "text": [
      "I love python\n",
      "I love go\n",
      "I love julia\n",
      "I love node.js\n"
     ]
    }
   ],
   "source": [
    "items = [\"python\", \"go\", \"julia\", \"node.js\"]\n",
    "for item in items:\n",
    "    print(\"I love {}\".format(item))"
   ]
  },
  {
   "cell_type": "code",
   "execution_count": 54,
   "metadata": {},
   "outputs": [
    {
     "name": "stdout",
     "output_type": "stream",
     "text": [
      "I'm here!\n"
     ]
    }
   ],
   "source": [
    "for _ in range(1, 1+1):\n",
    "    print(\"I'm here!\")"
   ]
  },
  {
   "cell_type": "code",
   "execution_count": 55,
   "metadata": {},
   "outputs": [
    {
     "name": "stdout",
     "output_type": "stream",
     "text": [
      "What's your name?MJKIM\n",
      "Hi, MJKIM\n",
      "What's your name?fastcampus\n",
      "Hi, fastcampus\n",
      "What's your name?exit\n"
     ]
    }
   ],
   "source": [
    "while True:\n",
    "    username = input(\"What's your name?\")\n",
    "    if username == 'exit':\n",
    "        break\n",
    "    else:\n",
    "        print(\"Hi, {}\".format(username))"
   ]
  },
  {
   "cell_type": "code",
   "execution_count": 59,
   "metadata": {},
   "outputs": [
    {
     "name": "stdout",
     "output_type": "stream",
     "text": [
      "1\n",
      "3\n",
      "5\n",
      "7\n",
      "9\n"
     ]
    }
   ],
   "source": [
    "for i in range(1,10+1):\n",
    "    if i%2 == 0:\n",
    "        continue\n",
    "    print(i)\n",
    "    \n",
    "#continue는 다음으로 넘어감(자기는 건너뛰고)"
   ]
  },
  {
   "cell_type": "markdown",
   "metadata": {},
   "source": [
    "## Dictionary with Iterations"
   ]
  },
  {
   "cell_type": "code",
   "execution_count": 64,
   "metadata": {},
   "outputs": [
    {
     "data": {
      "text/plain": [
       "['aback',\n",
       " 'abacus',\n",
       " 'abandon',\n",
       " 'abandoned',\n",
       " 'abandonment',\n",
       " 'abashed',\n",
       " 'abate',\n",
       " 'abbey',\n",
       " 'abbr.',\n",
       " 'abbreviate',\n",
       " 'abbreviation',\n",
       " 'ABC',\n",
       " \"ABC's\",\n",
       " 'abdicate',\n",
       " 'abdication',\n",
       " 'abdomen',\n",
       " 'abdominal',\n",
       " 'abduct',\n",
       " 'abduction',\n",
       " 'aberration',\n",
       " 'abet',\n",
       " 'abhor',\n",
       " 'abhorrence',\n",
       " 'abhorrent',\n",
       " 'abide',\n",
       " 'abiding',\n",
       " 'ability',\n",
       " 'abject',\n",
       " 'ablaze',\n",
       " 'able',\n",
       " 'able-bodied',\n",
       " 'ably',\n",
       " 'abnormal',\n",
       " 'abnormality',\n",
       " 'abnormally',\n",
       " 'aboard',\n",
       " 'abolish',\n",
       " 'abolition',\n",
       " 'abolitionist',\n",
       " 'abominable',\n",
       " 'aboriginal',\n",
       " 'aborigine',\n",
       " 'abort',\n",
       " 'abortion',\n",
       " 'abortive',\n",
       " 'abound',\n",
       " 'about',\n",
       " 'about-face',\n",
       " 'above',\n",
       " 'aboveboard',\n",
       " 'abrasive',\n",
       " 'abrasively',\n",
       " 'abreast',\n",
       " 'abridge',\n",
       " 'abridgment',\n",
       " 'abroad',\n",
       " 'abrupt',\n",
       " 'abruptly',\n",
       " 'abruptness',\n",
       " 'abscess',\n",
       " 'abscond',\n",
       " 'absence',\n",
       " 'absent',\n",
       " 'absentee',\n",
       " 'absenteeism',\n",
       " 'absently',\n",
       " 'absent-minded',\n",
       " 'absent-mindedly',\n",
       " 'absent-mindedness',\n",
       " 'absolute',\n",
       " 'absolutely',\n",
       " 'absolve',\n",
       " 'absorb',\n",
       " 'absorbed',\n",
       " 'absorbent',\n",
       " 'absorbing',\n",
       " 'absorption',\n",
       " 'abstain',\n",
       " 'abstention',\n",
       " 'abstinence',\n",
       " 'abstinent',\n",
       " 'abstract',\n",
       " 'abstraction',\n",
       " 'absurd',\n",
       " 'absurdity',\n",
       " 'absurdly',\n",
       " 'abundance',\n",
       " 'abundant',\n",
       " 'abundantly',\n",
       " 'abuse',\n",
       " 'abusive',\n",
       " 'abysmal',\n",
       " 'abysmally',\n",
       " 'abyss',\n",
       " 'AC',\n",
       " 'academic',\n",
       " 'academically',\n",
       " 'academy',\n",
       " 'accelerate',\n",
       " 'acceleration',\n",
       " 'accelerator',\n",
       " 'accent',\n",
       " 'accented',\n",
       " 'accentuate',\n",
       " 'accept',\n",
       " 'acceptability',\n",
       " 'acceptable',\n",
       " 'acceptably',\n",
       " 'acceptance',\n",
       " 'accepted',\n",
       " 'access',\n",
       " 'accessibility',\n",
       " 'accessible',\n",
       " 'accessory',\n",
       " 'accident',\n",
       " 'accidental',\n",
       " 'accidentally',\n",
       " 'accident-prone',\n",
       " 'acclaim',\n",
       " 'acclaimed',\n",
       " 'acclimate',\n",
       " 'acclimation',\n",
       " 'accolade',\n",
       " 'accommodate',\n",
       " 'accommodating',\n",
       " 'accommodation',\n",
       " 'accommodations',\n",
       " 'accompaniment',\n",
       " 'accompanist',\n",
       " 'accompany',\n",
       " 'accomplice',\n",
       " 'accomplish',\n",
       " 'accomplished',\n",
       " 'accomplishment',\n",
       " 'accord',\n",
       " 'accordance',\n",
       " 'accordingly',\n",
       " 'according to',\n",
       " 'accordion',\n",
       " 'accost',\n",
       " 'account',\n",
       " 'accountability',\n",
       " 'accountable',\n",
       " 'accountant',\n",
       " 'accounting',\n",
       " 'accreditation',\n",
       " 'accredited',\n",
       " 'accrue',\n",
       " 'accumulate',\n",
       " 'accumulation',\n",
       " 'accuracy',\n",
       " 'accurate',\n",
       " 'accurately',\n",
       " 'accusation',\n",
       " 'accuse',\n",
       " 'accused',\n",
       " 'accuser',\n",
       " 'accusing',\n",
       " 'accusingly',\n",
       " 'accustom',\n",
       " 'accustomed',\n",
       " 'ace',\n",
       " 'acerbic',\n",
       " 'ache',\n",
       " 'achieve',\n",
       " 'achievement',\n",
       " 'achiever',\n",
       " \"Achilles' heel\",\n",
       " 'achy',\n",
       " 'acid',\n",
       " 'acidic',\n",
       " 'acidity',\n",
       " 'acid rain',\n",
       " 'acknowledge',\n",
       " 'acknowledged',\n",
       " 'acknowledgment',\n",
       " 'acne',\n",
       " 'acorn',\n",
       " 'acoustic',\n",
       " 'acoustics',\n",
       " 'acquaint',\n",
       " 'acquaintance',\n",
       " 'acquainted',\n",
       " 'acquiesce',\n",
       " 'acquiescence',\n",
       " 'acquire',\n",
       " 'acquisition',\n",
       " 'acquit',\n",
       " 'acquittal',\n",
       " 'acre',\n",
       " 'acrid',\n",
       " 'acrimonious',\n",
       " 'acrimony',\n",
       " 'acrobat',\n",
       " 'acrobatic',\n",
       " 'acrobatics',\n",
       " 'acronym',\n",
       " 'across',\n",
       " 'across from',\n",
       " 'across-the-board',\n",
       " 'acrylic',\n",
       " 'ACT',\n",
       " 'act',\n",
       " 'acting',\n",
       " 'action',\n",
       " 'activate',\n",
       " 'activation',\n",
       " 'active',\n",
       " 'activism',\n",
       " 'activist',\n",
       " 'activity',\n",
       " 'actor',\n",
       " 'actress',\n",
       " 'actual',\n",
       " 'actuality',\n",
       " 'actualization',\n",
       " 'actually',\n",
       " 'acumen',\n",
       " 'acupuncture',\n",
       " 'acute',\n",
       " 'acute angle',\n",
       " 'acutely',\n",
       " 'ad',\n",
       " 'A.D.',\n",
       " 'adage',\n",
       " 'adamant',\n",
       " 'adamantly',\n",
       " \"Adam's apple\",\n",
       " 'adapt',\n",
       " 'adaptable',\n",
       " 'adaptation',\n",
       " 'adapter',\n",
       " 'add',\n",
       " 'addict',\n",
       " 'addicted',\n",
       " 'addiction',\n",
       " 'addictive',\n",
       " 'addition',\n",
       " 'additional',\n",
       " 'additionally',\n",
       " 'additive',\n",
       " 'address',\n",
       " 'adept',\n",
       " 'adeptly',\n",
       " 'adequacy',\n",
       " 'adequate',\n",
       " 'adequately',\n",
       " 'adhere',\n",
       " 'adherence',\n",
       " 'adherent',\n",
       " 'adhesion',\n",
       " 'adhesive',\n",
       " 'ad hoc',\n",
       " 'adjacent',\n",
       " 'adjectival',\n",
       " 'adjective',\n",
       " 'adjoin',\n",
       " 'adjoining',\n",
       " 'adjourn',\n",
       " 'adjournment',\n",
       " 'adjudicate',\n",
       " 'adjudicator',\n",
       " 'adjunct',\n",
       " 'adjust',\n",
       " 'adjustable',\n",
       " 'adjustment',\n",
       " 'ad lib',\n",
       " 'ad-lib',\n",
       " 'administer',\n",
       " 'administration',\n",
       " 'administrative',\n",
       " 'administrator',\n",
       " 'admirable',\n",
       " 'admirably',\n",
       " 'admiral',\n",
       " 'admiration',\n",
       " 'admire',\n",
       " 'admirer',\n",
       " 'admiring',\n",
       " 'admiringly',\n",
       " 'admissible',\n",
       " 'admission',\n",
       " 'admit',\n",
       " 'admittance',\n",
       " 'admittedly',\n",
       " 'admonish',\n",
       " 'admonition',\n",
       " 'adobe',\n",
       " 'adolescence',\n",
       " 'adolescent',\n",
       " 'adopt',\n",
       " 'adopted',\n",
       " 'adoption',\n",
       " 'adoptive',\n",
       " 'adorable',\n",
       " 'adoration',\n",
       " 'adore',\n",
       " 'adorn',\n",
       " 'adornment',\n",
       " 'adrenaline',\n",
       " 'adrift',\n",
       " 'adroit',\n",
       " 'adroitly',\n",
       " 'adulation',\n",
       " 'adult',\n",
       " 'adulterate',\n",
       " 'adulteration',\n",
       " 'adultery',\n",
       " 'advance',\n",
       " 'advanced',\n",
       " 'advancement',\n",
       " 'advantage',\n",
       " 'advantageous',\n",
       " 'Advent',\n",
       " 'advent',\n",
       " 'adventure',\n",
       " 'adventurer',\n",
       " 'adventurous',\n",
       " 'adverb',\n",
       " 'adverbial',\n",
       " 'adversary',\n",
       " 'adverse',\n",
       " 'adversely',\n",
       " 'adversity',\n",
       " 'advertise',\n",
       " 'advertisement',\n",
       " 'advertiser',\n",
       " 'advertising',\n",
       " 'advice',\n",
       " 'advisable',\n",
       " 'advise',\n",
       " 'adviser',\n",
       " 'advisory',\n",
       " 'advocacy',\n",
       " 'advocate',\n",
       " 'aerial',\n",
       " 'aerobic',\n",
       " 'aerobics',\n",
       " 'aerodynamic',\n",
       " 'aerodynamics',\n",
       " 'aerosol',\n",
       " 'aerospace',\n",
       " 'aesthetic',\n",
       " 'aesthetically',\n",
       " 'aesthetics',\n",
       " 'afar',\n",
       " 'affable',\n",
       " 'affably',\n",
       " 'affair',\n",
       " 'affairs',\n",
       " 'affect',\n",
       " 'affectation',\n",
       " 'affected',\n",
       " 'affection',\n",
       " 'affectionate',\n",
       " 'affectionately',\n",
       " 'affidavit',\n",
       " 'affiliate',\n",
       " 'affiliated',\n",
       " 'affiliation',\n",
       " 'affinity',\n",
       " 'affirm',\n",
       " 'affirmation',\n",
       " 'affirmative',\n",
       " 'affirmative action',\n",
       " 'affirmatively',\n",
       " 'affix',\n",
       " 'afflict',\n",
       " 'affliction',\n",
       " 'affluence',\n",
       " 'affluent',\n",
       " 'afford',\n",
       " 'affordable',\n",
       " 'affront',\n",
       " 'afloat',\n",
       " 'afraid',\n",
       " 'afresh',\n",
       " 'Africa',\n",
       " 'African',\n",
       " 'African-American',\n",
       " 'after',\n",
       " 'aftereffect',\n",
       " 'afterlife',\n",
       " 'aftermath',\n",
       " 'afternoon',\n",
       " 'aftershave',\n",
       " 'aftershock',\n",
       " 'afterthought',\n",
       " 'afterward',\n",
       " 'afterwards',\n",
       " 'again',\n",
       " 'against',\n",
       " 'age',\n",
       " 'aged',\n",
       " 'agency',\n",
       " 'agenda',\n",
       " 'agent',\n",
       " 'ages',\n",
       " 'aggravate',\n",
       " 'aggravating',\n",
       " 'aggravation',\n",
       " 'aggression',\n",
       " 'aggressive',\n",
       " 'aggressively',\n",
       " 'aggressiveness',\n",
       " 'aggressor',\n",
       " 'aggrieved',\n",
       " 'aghast',\n",
       " 'agile',\n",
       " 'agility',\n",
       " 'aging',\n",
       " 'agitate',\n",
       " 'agitated',\n",
       " 'agitation',\n",
       " 'agitator',\n",
       " 'agnostic',\n",
       " 'agnosticism',\n",
       " 'ago',\n",
       " 'agonize',\n",
       " 'agonized',\n",
       " 'agonizing',\n",
       " 'agonizingly',\n",
       " 'agony',\n",
       " 'agree',\n",
       " 'agreeable',\n",
       " 'agreeably',\n",
       " 'agreed',\n",
       " 'agreement',\n",
       " 'agricultural',\n",
       " 'agriculture',\n",
       " 'ah',\n",
       " 'aha',\n",
       " 'ahead',\n",
       " 'aid',\n",
       " 'aide',\n",
       " 'AIDS',\n",
       " 'ailing',\n",
       " 'ailment',\n",
       " 'aim',\n",
       " 'aimless',\n",
       " 'aimlessly',\n",
       " \"ain't\",\n",
       " 'air',\n",
       " 'air bag',\n",
       " 'air base',\n",
       " 'airborne',\n",
       " 'air-conditioned',\n",
       " 'air conditioner',\n",
       " 'air conditioning',\n",
       " 'aircraft',\n",
       " 'aircraft carrier',\n",
       " 'airfare',\n",
       " 'airfield',\n",
       " 'air force',\n",
       " 'airily',\n",
       " 'airing',\n",
       " 'airless',\n",
       " 'airline',\n",
       " 'airliner',\n",
       " 'airmail',\n",
       " 'airplane',\n",
       " 'airport',\n",
       " 'air raid',\n",
       " 'airs',\n",
       " 'airspace',\n",
       " 'airstrip',\n",
       " 'airtight',\n",
       " 'air time',\n",
       " 'air traffic controller',\n",
       " 'airwaves',\n",
       " 'airy',\n",
       " 'aisle',\n",
       " 'ajar',\n",
       " 'akin',\n",
       " 'a la carte',\n",
       " 'a la mode',\n",
       " 'alarm',\n",
       " 'alarm clock',\n",
       " 'alarmed',\n",
       " 'alarming',\n",
       " 'alarmingly',\n",
       " 'alarmist',\n",
       " 'alas',\n",
       " 'albeit',\n",
       " 'albino',\n",
       " 'album',\n",
       " 'alcohol',\n",
       " 'alcoholic',\n",
       " 'alcoholism',\n",
       " 'alcove',\n",
       " 'alderman',\n",
       " 'alderwoman',\n",
       " 'ale',\n",
       " 'alert',\n",
       " 'alfalfa',\n",
       " 'algae',\n",
       " 'algebra',\n",
       " 'algebraic',\n",
       " 'algorithm',\n",
       " 'alias',\n",
       " 'alibi',\n",
       " 'alien',\n",
       " 'alienate',\n",
       " 'alienation',\n",
       " 'alight',\n",
       " 'align',\n",
       " 'alignment',\n",
       " 'alike',\n",
       " 'alimony',\n",
       " 'alive',\n",
       " 'alkali',\n",
       " 'alkaline',\n",
       " 'all',\n",
       " 'Allah',\n",
       " 'all-American',\n",
       " 'all-around',\n",
       " 'allay',\n",
       " 'all-clear',\n",
       " 'allegation',\n",
       " 'allege',\n",
       " 'alleged',\n",
       " 'allegedly',\n",
       " 'allegiance',\n",
       " 'allegorical',\n",
       " 'allegory',\n",
       " 'allergic',\n",
       " 'allergy',\n",
       " 'alleviate',\n",
       " 'alleviation',\n",
       " 'alley',\n",
       " 'alliance',\n",
       " 'allied',\n",
       " 'alligator',\n",
       " 'all-inclusive',\n",
       " 'allocate',\n",
       " 'allocation',\n",
       " 'allot',\n",
       " 'allotment',\n",
       " 'all-out',\n",
       " 'allow',\n",
       " 'allowable',\n",
       " 'allowance',\n",
       " 'alloy',\n",
       " 'all right',\n",
       " 'all-star',\n",
       " 'allude',\n",
       " 'allure',\n",
       " 'alluring',\n",
       " 'allusion',\n",
       " 'ally',\n",
       " 'alma mater',\n",
       " 'almanac',\n",
       " 'almighty',\n",
       " 'almond',\n",
       " 'almost',\n",
       " 'alms',\n",
       " 'aloft',\n",
       " 'aloha',\n",
       " 'alone',\n",
       " 'along',\n",
       " 'alongside',\n",
       " 'aloof',\n",
       " 'aloud',\n",
       " 'alphabet',\n",
       " 'alphabetical',\n",
       " 'alphabetically',\n",
       " 'alpine',\n",
       " 'already',\n",
       " 'alright',\n",
       " 'also',\n",
       " 'altar',\n",
       " 'alter',\n",
       " 'alteration',\n",
       " 'altercation',\n",
       " 'alternate',\n",
       " 'alternately',\n",
       " 'alternation',\n",
       " 'alternative',\n",
       " 'alternatively',\n",
       " 'although',\n",
       " 'altitude',\n",
       " 'alto',\n",
       " 'altogether',\n",
       " 'altruism',\n",
       " 'altruistic',\n",
       " 'aluminum',\n",
       " 'alumna',\n",
       " 'alumnae',\n",
       " 'alumni',\n",
       " 'alumnus',\n",
       " 'always',\n",
       " 'AM',\n",
       " 'am',\n",
       " 'A.M.',\n",
       " 'amalgamate',\n",
       " 'amalgamation',\n",
       " 'amass',\n",
       " 'amateur',\n",
       " 'amateurish',\n",
       " 'amaze',\n",
       " 'amazed',\n",
       " 'amazement',\n",
       " 'amazing',\n",
       " 'amazingly',\n",
       " 'ambassador',\n",
       " 'ambassadorial',\n",
       " 'amber',\n",
       " 'ambiance',\n",
       " 'ambidextrous',\n",
       " 'ambiguity',\n",
       " 'ambiguous',\n",
       " 'ambiguously',\n",
       " 'ambition',\n",
       " 'ambitious',\n",
       " 'ambitiously',\n",
       " 'ambivalence',\n",
       " 'ambivalent',\n",
       " 'amble',\n",
       " 'ambulance',\n",
       " 'ambush',\n",
       " 'ameliorate',\n",
       " 'amelioration',\n",
       " 'amen',\n",
       " 'amenable',\n",
       " 'amend',\n",
       " 'amendment',\n",
       " 'amends',\n",
       " 'amenity',\n",
       " 'America',\n",
       " 'American',\n",
       " 'Americana',\n",
       " 'American dream',\n",
       " 'American Indian',\n",
       " 'Americanism',\n",
       " 'amiable',\n",
       " 'amiably',\n",
       " 'amicable',\n",
       " 'amicably',\n",
       " 'amid',\n",
       " 'amidst',\n",
       " 'amiss',\n",
       " 'ammo',\n",
       " 'ammonia',\n",
       " 'ammunition',\n",
       " 'amnesia',\n",
       " 'amnesiac',\n",
       " 'amnesty',\n",
       " 'amoeba',\n",
       " 'amok',\n",
       " 'among',\n",
       " 'amongst',\n",
       " 'amoral',\n",
       " 'amorous',\n",
       " 'amorphous',\n",
       " 'amount',\n",
       " 'amp',\n",
       " 'ampere',\n",
       " 'amphetamine',\n",
       " 'amphibian',\n",
       " 'amphibious']"
      ]
     },
     "execution_count": 64,
     "metadata": {},
     "output_type": "execute_result"
    }
   ],
   "source": [
    "with open('./a_word_list.txt', 'r') as f:\n",
    "    texts = f.readlines()\n",
    "    results = []\n",
    "    for text in texts:\n",
    "        text = text.replace('\\n', '')\n",
    "        results.append(text)\n",
    "                     \n",
    "results"
   ]
  },
  {
   "cell_type": "code",
   "execution_count": 67,
   "metadata": {},
   "outputs": [],
   "source": [
    "len_count = {}\n",
    "for len_ in map(len, results):\n",
    "    len_count[len_] = len_count.get(len_, 0) + 1\n",
    "#len_count dictionary에 len_를 조회해서 없다면 0으로 setting 후 1을 더해라"
   ]
  },
  {
   "cell_type": "code",
   "execution_count": 68,
   "metadata": {},
   "outputs": [
    {
     "data": {
      "text/plain": [
       "dict_items([(5, 67), (6, 80), (7, 85), (9, 89), (11, 47), (10, 86), (12, 25), (3, 14), (8, 96), (4, 28), (13, 15), (15, 4), (17, 1), (2, 5), (14, 12), (16, 4), (18, 1), (22, 1)])"
      ]
     },
     "execution_count": 68,
     "metadata": {},
     "output_type": "execute_result"
    }
   ],
   "source": [
    "len_count.items()"
   ]
  },
  {
   "cell_type": "code",
   "execution_count": 69,
   "metadata": {},
   "outputs": [
    {
     "data": {
      "text/plain": [
       "{5: ['aback',\n",
       "  'abate',\n",
       "  'abbey',\n",
       "  'abbr.',\n",
       "  \"ABC's\",\n",
       "  'abhor',\n",
       "  'abide',\n",
       "  'abort',\n",
       "  'about',\n",
       "  'above',\n",
       "  'abuse',\n",
       "  'abyss',\n",
       "  'acorn',\n",
       "  'acrid',\n",
       "  'actor',\n",
       "  'acute',\n",
       "  'adage',\n",
       "  'adapt',\n",
       "  'adept',\n",
       "  'admit',\n",
       "  'adobe',\n",
       "  'adopt',\n",
       "  'adore',\n",
       "  'adorn',\n",
       "  'adult',\n",
       "  'affix',\n",
       "  'after',\n",
       "  'again',\n",
       "  'agent',\n",
       "  'agile',\n",
       "  'aging',\n",
       "  'agony',\n",
       "  'agree',\n",
       "  'ahead',\n",
       "  \"ain't\",\n",
       "  'aisle',\n",
       "  'alarm',\n",
       "  'album',\n",
       "  'alert',\n",
       "  'algae',\n",
       "  'alias',\n",
       "  'alibi',\n",
       "  'alien',\n",
       "  'align',\n",
       "  'alike',\n",
       "  'alive',\n",
       "  'Allah',\n",
       "  'allay',\n",
       "  'alley',\n",
       "  'allot',\n",
       "  'allow',\n",
       "  'alloy',\n",
       "  'aloft',\n",
       "  'aloha',\n",
       "  'alone',\n",
       "  'along',\n",
       "  'aloof',\n",
       "  'aloud',\n",
       "  'altar',\n",
       "  'alter',\n",
       "  'amass',\n",
       "  'amaze',\n",
       "  'amber',\n",
       "  'amble',\n",
       "  'amend',\n",
       "  'amiss',\n",
       "  'among'],\n",
       " 6: ['abacus',\n",
       "  'abduct',\n",
       "  'abject',\n",
       "  'ablaze',\n",
       "  'aboard',\n",
       "  'abound',\n",
       "  'abroad',\n",
       "  'abrupt',\n",
       "  'absent',\n",
       "  'absorb',\n",
       "  'absurd',\n",
       "  'accent',\n",
       "  'accept',\n",
       "  'access',\n",
       "  'accord',\n",
       "  'accost',\n",
       "  'accrue',\n",
       "  'accuse',\n",
       "  'acidic',\n",
       "  'acquit',\n",
       "  'across',\n",
       "  'acting',\n",
       "  'action',\n",
       "  'active',\n",
       "  'actual',\n",
       "  'acumen',\n",
       "  'addict',\n",
       "  'adhere',\n",
       "  'ad hoc',\n",
       "  'adjoin',\n",
       "  'adjust',\n",
       "  'ad lib',\n",
       "  'ad-lib',\n",
       "  'admire',\n",
       "  'adrift',\n",
       "  'adroit',\n",
       "  'Advent',\n",
       "  'advent',\n",
       "  'adverb',\n",
       "  'advice',\n",
       "  'advise',\n",
       "  'aerial',\n",
       "  'affair',\n",
       "  'affect',\n",
       "  'affirm',\n",
       "  'afford',\n",
       "  'afloat',\n",
       "  'afraid',\n",
       "  'afresh',\n",
       "  'Africa',\n",
       "  'agency',\n",
       "  'agenda',\n",
       "  'aghast',\n",
       "  'agreed',\n",
       "  'ailing',\n",
       "  'airily',\n",
       "  'airing',\n",
       "  'albeit',\n",
       "  'albino',\n",
       "  'alcove',\n",
       "  'alight',\n",
       "  'alkali',\n",
       "  'allege',\n",
       "  'allied',\n",
       "  'allude',\n",
       "  'allure',\n",
       "  'almond',\n",
       "  'almost',\n",
       "  'alpine',\n",
       "  'alumna',\n",
       "  'alumni',\n",
       "  'always',\n",
       "  'amazed',\n",
       "  'ambush',\n",
       "  'amends',\n",
       "  'amidst',\n",
       "  'amoeba',\n",
       "  'amoral',\n",
       "  'amount',\n",
       "  'ampere'],\n",
       " 7: ['abandon',\n",
       "  'abashed',\n",
       "  'abdomen',\n",
       "  'abiding',\n",
       "  'ability',\n",
       "  'abolish',\n",
       "  'abreast',\n",
       "  'abridge',\n",
       "  'abscess',\n",
       "  'abscond',\n",
       "  'absence',\n",
       "  'absolve',\n",
       "  'abstain',\n",
       "  'abusive',\n",
       "  'abysmal',\n",
       "  'academy',\n",
       "  'acclaim',\n",
       "  'account',\n",
       "  'accused',\n",
       "  'accuser',\n",
       "  'acerbic',\n",
       "  'achieve',\n",
       "  'acidity',\n",
       "  'acquire',\n",
       "  'acrobat',\n",
       "  'acronym',\n",
       "  'acrylic',\n",
       "  'actress',\n",
       "  'acutely',\n",
       "  'adamant',\n",
       "  'adapter',\n",
       "  'address',\n",
       "  'adeptly',\n",
       "  'adjourn',\n",
       "  'adjunct',\n",
       "  'admiral',\n",
       "  'admirer',\n",
       "  'adopted',\n",
       "  'advance',\n",
       "  'adverse',\n",
       "  'adviser',\n",
       "  'aerobic',\n",
       "  'aerosol',\n",
       "  'affable',\n",
       "  'affably',\n",
       "  'affairs',\n",
       "  'afflict',\n",
       "  'affront',\n",
       "  'African',\n",
       "  'against',\n",
       "  'agility',\n",
       "  'agitate',\n",
       "  'agonize',\n",
       "  'ailment',\n",
       "  'aimless',\n",
       "  'air bag',\n",
       "  'airfare',\n",
       "  'airless',\n",
       "  'airline',\n",
       "  'airmail',\n",
       "  'airport',\n",
       "  'alarmed',\n",
       "  'alcohol',\n",
       "  'alfalfa',\n",
       "  'algebra',\n",
       "  'alimony',\n",
       "  'alleged',\n",
       "  'allergy',\n",
       "  'all-out',\n",
       "  'almanac',\n",
       "  'already',\n",
       "  'alright',\n",
       "  'alumnae',\n",
       "  'alumnus',\n",
       "  'amateur',\n",
       "  'amazing',\n",
       "  'amenity',\n",
       "  'America',\n",
       "  'amiable',\n",
       "  'amiably',\n",
       "  'ammonia',\n",
       "  'amnesia',\n",
       "  'amnesty',\n",
       "  'amongst',\n",
       "  'amorous'],\n",
       " 9: ['abandoned',\n",
       "  'abdominal',\n",
       "  'abduction',\n",
       "  'abhorrent',\n",
       "  'abolition',\n",
       "  'aborigine',\n",
       "  'absorbent',\n",
       "  'absorbing',\n",
       "  'abstinent',\n",
       "  'absurdity',\n",
       "  'abundance',\n",
       "  'abysmally',\n",
       "  'accessory',\n",
       "  'acclaimed',\n",
       "  'acclimate',\n",
       "  'accompany',\n",
       "  'accordion',\n",
       "  'acid rain',\n",
       "  'acoustics',\n",
       "  'acquiesce',\n",
       "  'acquittal',\n",
       "  'acrobatic',\n",
       "  'actuality',\n",
       "  'adamantly',\n",
       "  'adaptable',\n",
       "  'addiction',\n",
       "  'addictive',\n",
       "  'adherence',\n",
       "  'adjective',\n",
       "  'adjoining',\n",
       "  'admirable',\n",
       "  'admirably',\n",
       "  'admission',\n",
       "  'adoration',\n",
       "  'adornment',\n",
       "  'adulation',\n",
       "  'advantage',\n",
       "  'adventure',\n",
       "  'adverbial',\n",
       "  'adversary',\n",
       "  'adversely',\n",
       "  'adversity',\n",
       "  'advertise',\n",
       "  'advisable',\n",
       "  'aerospace',\n",
       "  'aesthetic',\n",
       "  'affection',\n",
       "  'affidavit',\n",
       "  'affiliate',\n",
       "  'affluence',\n",
       "  'afterlife',\n",
       "  'aftermath',\n",
       "  'afternoon',\n",
       "  'afterward',\n",
       "  'aggravate',\n",
       "  'aggressor',\n",
       "  'aggrieved',\n",
       "  'agitation',\n",
       "  'agonizing',\n",
       "  'agreeable',\n",
       "  'agreeably',\n",
       "  'agreement',\n",
       "  'aimlessly',\n",
       "  'air force',\n",
       "  'a la mode',\n",
       "  'alcoholic',\n",
       "  'algebraic',\n",
       "  'algorithm',\n",
       "  'alignment',\n",
       "  'all-clear',\n",
       "  'allegedly',\n",
       "  'alleviate',\n",
       "  'alligator',\n",
       "  'allotment',\n",
       "  'allowable',\n",
       "  'allowance',\n",
       "  'all right',\n",
       "  'alongside',\n",
       "  'alternate',\n",
       "  'amazement',\n",
       "  'amazingly',\n",
       "  'ambiguity',\n",
       "  'ambiguous',\n",
       "  'ambitious',\n",
       "  'ambulance',\n",
       "  'amendment',\n",
       "  'Americana',\n",
       "  'amorphous',\n",
       "  'amphibian'],\n",
       " 11: ['abandonment',\n",
       "  'able-bodied',\n",
       "  'abnormality',\n",
       "  'absenteeism',\n",
       "  'abstraction',\n",
       "  'accelerator',\n",
       "  'acclimation',\n",
       "  'accommodate',\n",
       "  'accompanist',\n",
       "  'accordingly',\n",
       "  'accountable',\n",
       "  'achievement',\n",
       "  'acknowledge',\n",
       "  'acquisition',\n",
       "  'acrimonious',\n",
       "  'across from',\n",
       "  'acupuncture',\n",
       "  'acute angle',\n",
       "  'adjournment',\n",
       "  'adjudicator',\n",
       "  'adolescence',\n",
       "  'advancement',\n",
       "  'adventurous',\n",
       "  'advertising',\n",
       "  'aerodynamic',\n",
       "  'affectation',\n",
       "  'affiliation',\n",
       "  'affirmation',\n",
       "  'affirmative',\n",
       "  'aftereffect',\n",
       "  'aggravating',\n",
       "  'aggravation',\n",
       "  'agnosticism',\n",
       "  'agonizingly',\n",
       "  'agriculture',\n",
       "  'alarm clock',\n",
       "  'allegorical',\n",
       "  'alleviation',\n",
       "  'altercation',\n",
       "  'alternately',\n",
       "  'alternation',\n",
       "  'alternative',\n",
       "  'ambiguously',\n",
       "  'ambitiously',\n",
       "  'ambivalence',\n",
       "  'Americanism',\n",
       "  'amphetamine'],\n",
       " 10: ['abbreviate',\n",
       "  'abdication',\n",
       "  'aberration',\n",
       "  'abhorrence',\n",
       "  'abnormally',\n",
       "  'abominable',\n",
       "  'aboriginal',\n",
       "  'about-face',\n",
       "  'aboveboard',\n",
       "  'abrasively',\n",
       "  'abridgment',\n",
       "  'abruptness',\n",
       "  'absolutely',\n",
       "  'absorption',\n",
       "  'abstention',\n",
       "  'abstinence',\n",
       "  'abundantly',\n",
       "  'accelerate',\n",
       "  'accentuate',\n",
       "  'acceptable',\n",
       "  'acceptably',\n",
       "  'acceptance',\n",
       "  'accessible',\n",
       "  'accidental',\n",
       "  'accomplice',\n",
       "  'accomplish',\n",
       "  'accordance',\n",
       "  'accountant',\n",
       "  'accounting',\n",
       "  'accredited',\n",
       "  'accumulate',\n",
       "  'accurately',\n",
       "  'accusation',\n",
       "  'accusingly',\n",
       "  'accustomed',\n",
       "  'acquainted',\n",
       "  'acrobatics',\n",
       "  'activation',\n",
       "  'adaptation',\n",
       "  'additional',\n",
       "  'adequately',\n",
       "  'adjectival',\n",
       "  'adjudicate',\n",
       "  'adjustable',\n",
       "  'adjustment',\n",
       "  'administer',\n",
       "  'admiration',\n",
       "  'admiringly',\n",
       "  'admissible',\n",
       "  'admittance',\n",
       "  'admittedly',\n",
       "  'admonition',\n",
       "  'adolescent',\n",
       "  'adrenaline',\n",
       "  'adulterate',\n",
       "  'adventurer',\n",
       "  'advertiser',\n",
       "  'aesthetics',\n",
       "  'affiliated',\n",
       "  'affliction',\n",
       "  'affordable',\n",
       "  'aftershave',\n",
       "  'aftershock',\n",
       "  'afterwards',\n",
       "  'aggression',\n",
       "  'aggressive',\n",
       "  'a la carte',\n",
       "  'alarmingly',\n",
       "  'alcoholism',\n",
       "  'alderwoman',\n",
       "  'alienation',\n",
       "  'all-around',\n",
       "  'allegation',\n",
       "  'allegiance',\n",
       "  'allocation',\n",
       "  'alma mater',\n",
       "  'alteration',\n",
       "  'altogether',\n",
       "  'altruistic',\n",
       "  'amalgamate',\n",
       "  'amateurish',\n",
       "  'ambassador',\n",
       "  'ambivalent',\n",
       "  'ameliorate',\n",
       "  'ammunition',\n",
       "  'amphibious'],\n",
       " 12: ['abbreviation',\n",
       "  'abolitionist',\n",
       "  'academically',\n",
       "  'acceleration',\n",
       "  'accidentally',\n",
       "  'accomplished',\n",
       "  'according to',\n",
       "  'accumulation',\n",
       "  'acknowledged',\n",
       "  'acquaintance',\n",
       "  'acquiescence',\n",
       "  \"Adam's apple\",\n",
       "  'additionally',\n",
       "  'adulteration',\n",
       "  'advantageous',\n",
       "  'aerodynamics',\n",
       "  'affectionate',\n",
       "  'afterthought',\n",
       "  'aggressively',\n",
       "  'agricultural',\n",
       "  'all-American',\n",
       "  'alphabetical',\n",
       "  'amalgamation',\n",
       "  'ambidextrous',\n",
       "  'amelioration'],\n",
       " 3: ['ABC',\n",
       "  'ace',\n",
       "  'ACT',\n",
       "  'act',\n",
       "  'add',\n",
       "  'age',\n",
       "  'ago',\n",
       "  'aha',\n",
       "  'aid',\n",
       "  'aim',\n",
       "  'air',\n",
       "  'ale',\n",
       "  'all',\n",
       "  'amp'],\n",
       " 8: ['abdicate',\n",
       "  'abnormal',\n",
       "  'abortion',\n",
       "  'abortive',\n",
       "  'abrasive',\n",
       "  'abruptly',\n",
       "  'absentee',\n",
       "  'absently',\n",
       "  'absolute',\n",
       "  'absorbed',\n",
       "  'abstract',\n",
       "  'absurdly',\n",
       "  'abundant',\n",
       "  'academic',\n",
       "  'accented',\n",
       "  'accepted',\n",
       "  'accident',\n",
       "  'accolade',\n",
       "  'accuracy',\n",
       "  'accurate',\n",
       "  'accusing',\n",
       "  'accustom',\n",
       "  'achiever',\n",
       "  'acoustic',\n",
       "  'acquaint',\n",
       "  'acrimony',\n",
       "  'activate',\n",
       "  'activism',\n",
       "  'activist',\n",
       "  'activity',\n",
       "  'actually',\n",
       "  'addicted',\n",
       "  'addition',\n",
       "  'additive',\n",
       "  'adequacy',\n",
       "  'adequate',\n",
       "  'adherent',\n",
       "  'adhesion',\n",
       "  'adhesive',\n",
       "  'adjacent',\n",
       "  'admiring',\n",
       "  'admonish',\n",
       "  'adoption',\n",
       "  'adoptive',\n",
       "  'adorable',\n",
       "  'adroitly',\n",
       "  'adultery',\n",
       "  'advanced',\n",
       "  'advisory',\n",
       "  'advocacy',\n",
       "  'advocate',\n",
       "  'aerobics',\n",
       "  'affected',\n",
       "  'affinity',\n",
       "  'affluent',\n",
       "  'agitated',\n",
       "  'agitator',\n",
       "  'agnostic',\n",
       "  'agonized',\n",
       "  'air base',\n",
       "  'airborne',\n",
       "  'aircraft',\n",
       "  'airfield',\n",
       "  'airliner',\n",
       "  'airplane',\n",
       "  'air raid',\n",
       "  'airspace',\n",
       "  'airstrip',\n",
       "  'airtight',\n",
       "  'air time',\n",
       "  'airwaves',\n",
       "  'alarming',\n",
       "  'alarmist',\n",
       "  'alderman',\n",
       "  'alienate',\n",
       "  'alkaline',\n",
       "  'allegory',\n",
       "  'allergic',\n",
       "  'alliance',\n",
       "  'allocate',\n",
       "  'all-star',\n",
       "  'alluring',\n",
       "  'allusion',\n",
       "  'almighty',\n",
       "  'alphabet',\n",
       "  'although',\n",
       "  'altitude',\n",
       "  'altruism',\n",
       "  'aluminum',\n",
       "  'ambiance',\n",
       "  'ambition',\n",
       "  'amenable',\n",
       "  'American',\n",
       "  'amicable',\n",
       "  'amicably',\n",
       "  'amnesiac'],\n",
       " 4: ['abet',\n",
       "  'able',\n",
       "  'ably',\n",
       "  'ache',\n",
       "  'achy',\n",
       "  'acid',\n",
       "  'acne',\n",
       "  'acre',\n",
       "  'A.D.',\n",
       "  'afar',\n",
       "  'aged',\n",
       "  'ages',\n",
       "  'aide',\n",
       "  'AIDS',\n",
       "  'airs',\n",
       "  'airy',\n",
       "  'ajar',\n",
       "  'akin',\n",
       "  'alas',\n",
       "  'ally',\n",
       "  'alms',\n",
       "  'also',\n",
       "  'alto',\n",
       "  'A.M.',\n",
       "  'amen',\n",
       "  'amid',\n",
       "  'ammo',\n",
       "  'amok'],\n",
       " 13: ['absent-minded',\n",
       "  'acceptability',\n",
       "  'accessibility',\n",
       "  'accommodating',\n",
       "  'accommodation',\n",
       "  'accompaniment',\n",
       "  'accreditation',\n",
       "  'actualization',\n",
       "  'administrator',\n",
       "  'advertisement',\n",
       "  'aesthetically',\n",
       "  'affirmatively',\n",
       "  'all-inclusive',\n",
       "  'alternatively',\n",
       "  'ambassadorial'],\n",
       " 15: ['absent-mindedly',\n",
       "  'air-conditioned',\n",
       "  'air conditioner',\n",
       "  'American Indian'],\n",
       " 17: ['absent-mindedness'],\n",
       " 2: ['AC', 'ad', 'ah', 'AM', 'am'],\n",
       " 14: ['accident-prone',\n",
       "  'accommodations',\n",
       "  'accomplishment',\n",
       "  'accountability',\n",
       "  \"Achilles' heel\",\n",
       "  'acknowledgment',\n",
       "  'administration',\n",
       "  'administrative',\n",
       "  'affectionately',\n",
       "  'aggressiveness',\n",
       "  'alphabetically',\n",
       "  'American dream'],\n",
       " 16: ['across-the-board',\n",
       "  'African-American',\n",
       "  'air conditioning',\n",
       "  'aircraft carrier'],\n",
       " 18: ['affirmative action'],\n",
       " 22: ['air traffic controller']}"
      ]
     },
     "execution_count": 69,
     "metadata": {},
     "output_type": "execute_result"
    }
   ],
   "source": [
    "filtered_dict = {}\n",
    "for word in results:\n",
    "    filtered_dict.setdefault(len(word), []).append(word)\n",
    "filtered_dict"
   ]
  },
  {
   "cell_type": "markdown",
   "metadata": {},
   "source": [
    "## Small Project"
   ]
  },
  {
   "cell_type": "code",
   "execution_count": 72,
   "metadata": {},
   "outputs": [
    {
     "name": "stdout",
     "output_type": "stream",
     "text": [
      "1\n",
      "2\n",
      "Fizz\n",
      "4\n",
      "Buzz\n",
      "Fizz\n",
      "7\n",
      "8\n",
      "Fizz\n",
      "Buzz\n",
      "11\n",
      "Fizz\n",
      "13\n",
      "14\n",
      "FizzBuzz\n",
      "16\n",
      "17\n",
      "Fizz\n",
      "19\n",
      "Buzz\n",
      "Fizz\n",
      "22\n",
      "23\n",
      "Fizz\n",
      "Buzz\n",
      "26\n",
      "Fizz\n",
      "28\n",
      "29\n",
      "FizzBuzz\n",
      "31\n",
      "32\n",
      "Fizz\n",
      "34\n",
      "Buzz\n",
      "Fizz\n",
      "37\n",
      "38\n",
      "Fizz\n",
      "Buzz\n",
      "41\n",
      "Fizz\n",
      "43\n",
      "44\n",
      "FizzBuzz\n",
      "46\n",
      "47\n",
      "Fizz\n",
      "49\n",
      "Buzz\n",
      "Fizz\n",
      "52\n",
      "53\n",
      "Fizz\n",
      "Buzz\n",
      "56\n",
      "Fizz\n",
      "58\n",
      "59\n",
      "FizzBuzz\n",
      "61\n",
      "62\n",
      "Fizz\n",
      "64\n",
      "Buzz\n",
      "Fizz\n",
      "67\n",
      "68\n",
      "Fizz\n",
      "Buzz\n",
      "71\n",
      "Fizz\n",
      "73\n",
      "74\n",
      "FizzBuzz\n",
      "76\n",
      "77\n",
      "Fizz\n",
      "79\n",
      "Buzz\n",
      "Fizz\n",
      "82\n",
      "83\n",
      "Fizz\n",
      "Buzz\n",
      "86\n",
      "Fizz\n",
      "88\n",
      "89\n",
      "FizzBuzz\n",
      "91\n",
      "92\n",
      "Fizz\n",
      "94\n",
      "Buzz\n",
      "Fizz\n",
      "97\n",
      "98\n",
      "Fizz\n",
      "Buzz\n"
     ]
    }
   ],
   "source": [
    "for i in range(1, 100+1):\n",
    "    if i%15 == 0:\n",
    "        print(\"FizzBuzz\")\n",
    "    elif i%3 == 0:\n",
    "        print(\"Fizz\")\n",
    "    elif i%5 == 0:\n",
    "        print(\"Buzz\")\n",
    "    else:\n",
    "        print(i)\n",
    "        "
   ]
  },
  {
   "cell_type": "code",
   "execution_count": 74,
   "metadata": {},
   "outputs": [
    {
     "name": "stdout",
     "output_type": "stream",
     "text": [
      "1\n",
      "2\n",
      "fizz\n",
      "4\n",
      "buzz\n",
      "fizz\n",
      "7\n",
      "8\n",
      "fizz\n",
      "buzz\n",
      "11\n",
      "fizz\n",
      "13\n",
      "14\n",
      "FizzBuzz\n",
      "16\n",
      "17\n",
      "fizz\n",
      "19\n",
      "buzz\n",
      "fizz\n",
      "22\n",
      "23\n",
      "fizz\n",
      "buzz\n",
      "26\n",
      "fizz\n",
      "28\n",
      "29\n",
      "FizzBuzz\n",
      "31\n",
      "32\n",
      "fizz\n",
      "34\n",
      "buzz\n",
      "fizz\n",
      "37\n",
      "38\n",
      "fizz\n",
      "buzz\n",
      "41\n",
      "fizz\n",
      "43\n",
      "44\n",
      "FizzBuzz\n",
      "46\n",
      "47\n",
      "fizz\n",
      "49\n",
      "buzz\n",
      "fizz\n",
      "52\n",
      "53\n",
      "fizz\n",
      "buzz\n",
      "56\n",
      "fizz\n",
      "58\n",
      "59\n",
      "FizzBuzz\n",
      "61\n",
      "62\n",
      "fizz\n",
      "64\n",
      "buzz\n",
      "fizz\n",
      "67\n",
      "68\n",
      "fizz\n",
      "buzz\n",
      "71\n",
      "fizz\n",
      "73\n",
      "74\n",
      "FizzBuzz\n",
      "76\n",
      "77\n",
      "fizz\n",
      "79\n",
      "buzz\n",
      "fizz\n",
      "82\n",
      "83\n",
      "fizz\n",
      "buzz\n",
      "86\n",
      "fizz\n",
      "88\n",
      "89\n",
      "FizzBuzz\n",
      "91\n",
      "92\n",
      "fizz\n",
      "94\n",
      "buzz\n",
      "fizz\n",
      "97\n",
      "98\n",
      "fizz\n",
      "buzz\n"
     ]
    }
   ],
   "source": [
    "for i in range(1, 100+1):\n",
    "    if i%15 == 0:\n",
    "        print(\"FizzBuzz\")\n",
    "    else:\n",
    "        print(\"fizz\" if i % 3 == 0 else \"buzz\" if i % 5 == 0 else i)"
   ]
  },
  {
   "cell_type": "code",
   "execution_count": null,
   "metadata": {},
   "outputs": [],
   "source": []
  },
  {
   "cell_type": "code",
   "execution_count": null,
   "metadata": {},
   "outputs": [],
   "source": []
  },
  {
   "cell_type": "code",
   "execution_count": null,
   "metadata": {},
   "outputs": [],
   "source": []
  },
  {
   "cell_type": "code",
   "execution_count": null,
   "metadata": {},
   "outputs": [],
   "source": []
  },
  {
   "cell_type": "code",
   "execution_count": null,
   "metadata": {},
   "outputs": [],
   "source": []
  },
  {
   "cell_type": "code",
   "execution_count": null,
   "metadata": {},
   "outputs": [],
   "source": []
  },
  {
   "cell_type": "code",
   "execution_count": null,
   "metadata": {},
   "outputs": [],
   "source": []
  },
  {
   "cell_type": "code",
   "execution_count": null,
   "metadata": {},
   "outputs": [],
   "source": []
  },
  {
   "cell_type": "code",
   "execution_count": null,
   "metadata": {},
   "outputs": [],
   "source": []
  },
  {
   "cell_type": "code",
   "execution_count": null,
   "metadata": {},
   "outputs": [],
   "source": []
  },
  {
   "cell_type": "code",
   "execution_count": null,
   "metadata": {},
   "outputs": [],
   "source": []
  }
 ],
 "metadata": {
  "kernelspec": {
   "display_name": "Python 3",
   "language": "python",
   "name": "python3"
  },
  "language_info": {
   "codemirror_mode": {
    "name": "ipython",
    "version": 3
   },
   "file_extension": ".py",
   "mimetype": "text/x-python",
   "name": "python",
   "nbconvert_exporter": "python",
   "pygments_lexer": "ipython3",
   "version": "3.7.1"
  }
 },
 "nbformat": 4,
 "nbformat_minor": 2
}

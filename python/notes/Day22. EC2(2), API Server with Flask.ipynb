{
 "cells": [
  {
   "cell_type": "markdown",
   "metadata": {},
   "source": [
    "# EC2(continued) : run Jupyter Notebook"
   ]
  },
  {
   "cell_type": "markdown",
   "metadata": {},
   "source": [
    "## on AWS EC2:\n",
    "- after changing the instance status to \"running\", copy the public DNS of it<br/>"
   ]
  },
  {
   "cell_type": "markdown",
   "metadata": {},
   "source": [
    "## With Powershell :"
   ]
  },
  {
   "cell_type": "markdown",
   "metadata": {},
   "source": [
    "- Move to the directory where the key pair is located<br/>\n",
    "`$ ssh -i \"<your-key-pair>\" ubuntu@<your-public-DNS>`<br/>\n",
    "- Install Anaconda<br/>\n",
    "`$ wget https://repo.continuum.io/archive/Anaconda3-4.4.0-Linux-x86_64.sh`<br/>\n",
    "`$ bash Anaconda3-4.4.0-Linux-x86_64.sh`<br/>\n",
    "- Check whether Path is correctly input with Vim<br/>\n",
    "`$ vi ~/.bashrc`<br/>\n",
    "`export PATH=\"/home/ec2-user/anaconda3/bin:$PATH\"`<br/>\n",
    "- Check whether Python runs properly through Anaconda<br/>\n",
    "`$ python`<br/>\n",
    "- Run ipython and enter password<br/>\n",
    "`$ ipython`<br/>\n",
    "- Copy SHA string <br/>\n",
    "- Edit jupyter notebook config <br/>\n",
    "`$ jupyter notebook --generate-config`<br/>\n",
    "`$ mkdir certs && cd certs`<br/>\n",
    "`$ sudo openssl req -x509 -nodes -days 365 -newkey rsa:1024 -keyout mycert.pem -out mycert.pem`<br/>\n",
    "`$ vi .jupyter/jupyter_notebook_config.py`<br/>"
   ]
  },
  {
   "cell_type": "markdown",
   "metadata": {},
   "source": [
    "```\n",
    "c = get_config()\n",
    "\n",
    "# Kernel config\n",
    "c.IPKernelApp.pylab = 'inline'\n",
    "\n",
    "# Notebook config\n",
    "c.NotebookApp.certfile = u'/home/ubuntu/certs/mycert.pem' #location of your certificate file\n",
    "c.NotebookApp.ip = '*'\n",
    "c.NotebookApp.open_browser = False  \n",
    "c.NotebookApp.password = u'<your-SHA-string>'  \n",
    "\n",
    "c.NotebookApp.port = 8888\n",
    "```"
   ]
  },
  {
   "cell_type": "markdown",
   "metadata": {},
   "source": [
    "`$ mkdir dev/pynbs && cd dev/pynbs`<br/>\n",
    "`$ jupyter notebook`<br/>"
   ]
  },
  {
   "cell_type": "markdown",
   "metadata": {},
   "source": [
    "## On Browser:\n",
    "- Open jupyter notebook<br/>\n",
    "`https://<your-public-DNS>:8888/`<br/>"
   ]
  },
  {
   "cell_type": "markdown",
   "metadata": {},
   "source": [
    "## Now you can connect jupyter notebook:\n",
    "- Let the instance start running and copy your public DNS<br/>\n",
    "- Move to the directory where the key pair is located<br/>\n",
    "- And<br/>\n",
    "`$ ssh -i \"<your-key-pair>\" ubuntu@<your-public-DNS>`<br/>\n",
    "`$ ls` for check<br/>\n",
    "`$ cd ipynbs`<br/>\n",
    "`$ jupyter notebook`<br/>\n",
    "`https://<your-public-DNS>` <br/>\n",
    "- To shut down: simply stop the instance on browser<br/>"
   ]
  },
  {
   "cell_type": "markdown",
   "metadata": {},
   "source": [
    "# Flask"
   ]
  },
  {
   "cell_type": "markdown",
   "metadata": {},
   "source": [
    "## Web Frameworks Built with Python\n",
    "- Full-stack<br/>\n",
    "Django<br/>\n",
    "Pyramid<br/>\n",
    "Web2py<br/>\n",
    "- Microframework<br/>\n",
    "**Flask**<br/>\n",
    "Bottle<br/>\n",
    "- Async <br/>\n",
    "Tornado<br/>\n",
    "Sanic<br/>"
   ]
  },
  {
   "cell_type": "markdown",
   "metadata": {},
   "source": [
    "## Install Flask\n",
    "`$ pip install flask`"
   ]
  },
  {
   "cell_type": "markdown",
   "metadata": {},
   "source": [
    "## Hello World with Flask\n",
    "- server.py"
   ]
  },
  {
   "cell_type": "markdown",
   "metadata": {},
   "source": [
    "```\n",
    "from flask import Flask\n",
    "\n",
    "\n",
    "app = Flask(__name__)\n",
    "\n",
    "@app.route('/')\n",
    "def index():\n",
    "\treturn 'hello world!'\n",
    "    \n",
    "if __name__ == '__main__':\n",
    "\tapp.run(host='0.0.0.0', port=8080, debug=True)\n",
    "```"
   ]
  },
  {
   "cell_type": "markdown",
   "metadata": {},
   "source": [
    "`$ python server.py`"
   ]
  },
  {
   "cell_type": "markdown",
   "metadata": {},
   "source": [
    "## Flask-route"
   ]
  },
  {
   "cell_type": "markdown",
   "metadata": {},
   "source": [
    "```\n",
    "from flask import Flask\n",
    "\n",
    "\n",
    "app = Flask(__name__)\n",
    "\n",
    "@app.route('/')\n",
    "def index():\n",
    "\treturn 'hello'\n",
    "\n",
    "@app.route('/about')\n",
    "def about():\n",
    "\treturn 'about'\n",
    "\n",
    "if __name__ == '__main__':\n",
    "\tapp.run(host='0.0.0.0', port=8080, debug=True)\n",
    "```"
   ]
  },
  {
   "cell_type": "markdown",
   "metadata": {},
   "source": [
    "## Flask-render"
   ]
  },
  {
   "cell_type": "markdown",
   "metadata": {},
   "source": [
    "- Inspect templates<br/>\n",
    "```\n",
    "/\n",
    "  server.py\n",
    "  /templates\n",
    "    index.html\n",
    "    about.html\n",
    "```"
   ]
  },
  {
   "cell_type": "markdown",
   "metadata": {},
   "source": [
    "- on Editor\n",
    "\n",
    "```\n",
    "from flask import Flask, render_template\n",
    "\n",
    "\n",
    "app = Flask(__name__)\n",
    "\n",
    "@app.route('/')\n",
    "def index(name=None):\n",
    "\treturn render_template('index.html', name=name)\n",
    "\n",
    "@app.route('/about')\n",
    "def about(name=None):\n",
    "\treturn render_template('about.html', name=name)\n",
    "\n",
    "if __name__ == '__main__':\n",
    "\tapp.run(host='0.0.0.0', port=8080, debug=True)\n",
    "```"
   ]
  },
  {
   "cell_type": "markdown",
   "metadata": {},
   "source": [
    "## Flask with BeautifulSoup\n",
    "```\n",
    "from flask import Flask\n",
    "from bs import BeautifulSoup\n",
    "from time import ctime\n",
    "import requests\n",
    "\n",
    "app = Flask(__name__)\n",
    "\n",
    "@app.route('/')\n",
    "def index():\n",
    "    naver_uri = \"https://www.naver.com\"\n",
    "    executed_time = ctime()\n",
    "    naver_html = requests.get(naver_uri).text\n",
    "    \n",
    "    soup = BeautifulSoup(naver_html, 'html.parser')\n",
    "    kw_ul = soup.find('ul', attrs={'class':'ah_l'})\n",
    "    keywords = [li.text for li in kw_ul.find_all('span', attrs={'class': 'ah_k'})]\n",
    "\n",
    "    return render_template('index.html', time=executed_time, keywords=keywords)\n",
    "    \n",
    "if __name__=='__main__':\n",
    "    app.run(host='0.0.0.0', port=80, debug=False)\n",
    "```"
   ]
  },
  {
   "cell_type": "markdown",
   "metadata": {},
   "source": [
    "## Route with querystring, path\n",
    "```\n",
    "from flask import Flask, render_template, request\n",
    "\n",
    "\n",
    "app = Flask(__name__)\n",
    "\n",
    "@app.route('/user/<string:name>')\n",
    "def user(name=None):\n",
    "    return render_template('user.html', msg=name)\n",
    "    \n",
    "@app.route('/users')\n",
    "def users():\n",
    "    querystring = request.args\n",
    "    return render_template('users.html', rows=querystring)\n",
    "if __name__=='__main__':\n",
    "    app.run(host='0.0.0.0', port=80, debug=False)\n",
    "```"
   ]
  },
  {
   "cell_type": "markdown",
   "metadata": {},
   "source": [
    "## SQL with SQLite\n",
    "```\n",
    "from flask import Flask, render_template, request\n",
    "import sqlite3 as lite\n",
    "\n",
    "\n",
    "app = Flask(__name__)\n",
    "\n",
    "@app.route('/movies', methods=[\"GET\", \"POST\"])\n",
    "def movies():\n",
    "    if request.method == \"GET\":\n",
    "        try:\n",
    "            conn = lite.connect('./data/data.db')\n",
    "            conn.row_factory = lite.Row\n",
    "            \n",
    "            cur = conn.cursor()\n",
    "            query = \"SELECT * FROM Movies;\"\n",
    "            cur.execute(query)\n",
    "\n",
    "            rows = cur.fetchall()\n",
    "            conn.close()\n",
    "\n",
    "            return render_template('movies.html', rows=rows)\n",
    "        except:\n",
    "            pass\n",
    "\n",
    "    elif request.method == \"POST\":\n",
    "        try:\n",
    "            input_name = request.form[\"movie-name\"]\n",
    "            input_year = request.form[\"movie-year\"]\n",
    "            input_studio = request.form[\"movie-studio\"]\n",
    "\n",
    "            with lite.connect('./data/data.db') as conn:\n",
    "                cur = conn.cursor()\n",
    "                query = \"\"\"\n",
    "                    INSERT INTO Movies(name, year, studio)\n",
    "                    VALUES(?,?,?)\n",
    "                \"\"\"\n",
    "                cur.execute(query,\n",
    "                        (input_name, \n",
    "                         input_year, \n",
    "                         input_studio,\n",
    "                         )\n",
    "                        )\n",
    "                conn.commit()\n",
    "                msg = \"Success\"\n",
    "        except:\n",
    "            conn.rollback()\n",
    "            msg = \"Failed\"\n",
    "        finally:\n",
    "            return render_template('movies.html', msg=msg)\n",
    "            \n",
    "if __name__=='__main__':\n",
    "    app.run(host='0.0.0.0', port=80, debug=False)\n",
    "```"
   ]
  },
  {
   "cell_type": "markdown",
   "metadata": {},
   "source": [
    "## Simple API Server with Flask, mLab\n",
    "```\n",
    "from flask import Flask, jsonify\n",
    "import requests\n",
    "from pymongo import MongoClient\n",
    "\n",
    "app = Flask(__name__)\n",
    "\n",
    "mongo_uri = \"mongodb://<mLabusername>:<mLabpassword>@ds145299.mlab.com:45299/mydbinstance\"\n",
    "\n",
    "@app.route('/api/v1/item')\n",
    "def api():\n",
    "    client = MongoClient(mongo_uri)\n",
    "    db = client.mydbinstance\n",
    "    items = db.bigbang\n",
    "    try:\n",
    "        query = {}\n",
    "        projection= {\n",
    "                \"_id\":0,\n",
    "                \"title\":1,\n",
    "                \"item\":1,\n",
    "                }\n",
    "        result = list(items.find(query, projection))\n",
    "    except:\n",
    "        result = \"failed\"\n",
    "    finally:\n",
    "        return jsonify({\"items\":result})\n",
    "        \n",
    "if __name__=='__main__':\n",
    "    app.run(host='0.0.0.0', port=80, debug=False)\n",
    "```"
   ]
  },
  {
   "cell_type": "markdown",
   "metadata": {},
   "source": [
    "# EC2 with Flask\n",
    "- Create repo on Github and clone it<br/>\n",
    "`$ git clone <copied-repo-address>`<br/>"
   ]
  },
  {
   "cell_type": "markdown",
   "metadata": {},
   "source": [
    "```\n",
    "if __name__=='__main__':\n",
    "    app.run(host='0.0.0.0', port=80, debug=False)\n",
    "```"
   ]
  },
  {
   "cell_type": "markdown",
   "metadata": {},
   "source": [
    "- Run server.py<br/>\n",
    "`$ python server.py`"
   ]
  }
 ],
 "metadata": {
  "kernelspec": {
   "display_name": "Python 3",
   "language": "python",
   "name": "python3"
  },
  "language_info": {
   "codemirror_mode": {
    "name": "ipython",
    "version": 3
   },
   "file_extension": ".py",
   "mimetype": "text/x-python",
   "name": "python",
   "nbconvert_exporter": "python",
   "pygments_lexer": "ipython3",
   "version": "3.7.1"
  }
 },
 "nbformat": 4,
 "nbformat_minor": 2
}

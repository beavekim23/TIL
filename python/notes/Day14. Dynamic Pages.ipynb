{
 "cells": [
  {
   "cell_type": "code",
   "execution_count": 8,
   "metadata": {},
   "outputs": [],
   "source": [
    "import requests\n",
    "from bs4 import BeautifulSoup\n",
    "import lxml"
   ]
  },
  {
   "cell_type": "code",
   "execution_count": 9,
   "metadata": {},
   "outputs": [
    {
     "data": {
      "text/plain": [
       "<Response [200]>"
      ]
     },
     "execution_count": 9,
     "metadata": {},
     "output_type": "execute_result"
    }
   ],
   "source": [
    "## Homework REVIEW\n",
    "# Set url\n",
    "url = \"https://www.rottentomatoes.com\"\n",
    "\n",
    "response = requests.get(url)\n",
    "response"
   ]
  },
  {
   "cell_type": "code",
   "execution_count": 10,
   "metadata": {},
   "outputs": [],
   "source": [
    "# assign html with response text\n",
    "html = response.text"
   ]
  },
  {
   "cell_type": "code",
   "execution_count": 12,
   "metadata": {},
   "outputs": [],
   "source": [
    "# parse start\n",
    "soup = BeautifulSoup(html, \"html.parser\") # html.parser or lxml"
   ]
  },
  {
   "cell_type": "code",
   "execution_count": 13,
   "metadata": {},
   "outputs": [],
   "source": [
    "table = soup.find('table', attrs={'id':'Top-Box-Office'})\n",
    "all_tr = table.find_all('tr')"
   ]
  },
  {
   "cell_type": "code",
   "execution_count": 14,
   "metadata": {},
   "outputs": [
    {
     "data": {
      "text/plain": [
       "<tr class=\"\">\n",
       "<td class=\"left_col\">\n",
       "<a href=\"/m/ralph_breaks_the_internet\">\n",
       "<span class=\"icon tiny certified_fresh\"></span>\n",
       "<span class=\"tMeterScore\">88%</span>\n",
       "</a>\n",
       "</td>\n",
       "<td class=\"middle_col\">\n",
       "<a href=\"/m/ralph_breaks_the_internet\">Ralph Breaks the Internet</a>\n",
       "</td>\n",
       "<td class=\"right_col right\">\n",
       "<a href=\"/m/ralph_breaks_the_internet\">$16.4M</a>\n",
       "</td>\n",
       "</tr>"
      ]
     },
     "execution_count": 14,
     "metadata": {},
     "output_type": "execute_result"
    }
   ],
   "source": [
    "all_tr[0]"
   ]
  },
  {
   "cell_type": "code",
   "execution_count": 16,
   "metadata": {},
   "outputs": [],
   "source": [
    "score = int(all_tr[0].find('span', attrs={'class':'tMeterScore'})\\\n",
    "    .text.strip('%'))\n",
    "title = all_tr[0].find('td', attrs={'class':'middle_col'})\\\n",
    "    .text.strip('\\n')\n",
    "revenue = float(all_tr[0].find('td', attrs={'class':'right_col'})\\\n",
    "    .a.text.strip('$M'))\n",
    "link = url + all_tr[0].find('a')['href']"
   ]
  },
  {
   "cell_type": "code",
   "execution_count": 17,
   "metadata": {},
   "outputs": [
    {
     "data": {
      "text/plain": [
       "{1: {'score': 88,\n",
       "  'title': 'Ralph Breaks the Internet',\n",
       "  'revenue': 16.4,\n",
       "  'link': 'https://www.rottentomatoes.com/m/ralph_breaks_the_internet'},\n",
       " 2: {'score': 57,\n",
       "  'title': 'The Grinch',\n",
       "  'revenue': 15.1,\n",
       "  'link': 'https://www.rottentomatoes.com/m/the_grinch'},\n",
       " 3: {'score': 83,\n",
       "  'title': 'Creed II',\n",
       "  'revenue': 10.1,\n",
       "  'link': 'https://www.rottentomatoes.com/m/creed_ii'},\n",
       " 4: {'score': 38,\n",
       "  'title': 'Fantastic Beasts: The Crimes of Grindelwald',\n",
       "  'revenue': 7.0,\n",
       "  'link': 'https://www.rottentomatoes.com/m/fantastic_beasts_the_crimes_of_grindelwald'},\n",
       " 5: {'score': 62,\n",
       "  'title': 'Bohemian Rhapsody',\n",
       "  'revenue': 6.2,\n",
       "  'link': 'https://www.rottentomatoes.com/m/bohemian_rhapsody'},\n",
       " 6: {'score': 81,\n",
       "  'title': 'Instant Family',\n",
       "  'revenue': 5.8,\n",
       "  'link': 'https://www.rottentomatoes.com/m/instant_family'},\n",
       " 7: {'score': 82,\n",
       "  'title': 'Green Book',\n",
       "  'revenue': 4.0,\n",
       "  'link': 'https://www.rottentomatoes.com/m/green_book'},\n",
       " 8: {'score': 16,\n",
       "  'title': 'Robin Hood',\n",
       "  'revenue': 3.5,\n",
       "  'link': 'https://www.rottentomatoes.com/m/robin_hood_2018'},\n",
       " 9: {'score': 14,\n",
       "  'title': 'The Possession of Hannah Grace',\n",
       "  'revenue': 3.3,\n",
       "  'link': 'https://www.rottentomatoes.com/m/the_possession_of_hannah_grace'},\n",
       " 10: {'score': 91,\n",
       "  'title': 'Widows',\n",
       "  'revenue': 3.1,\n",
       "  'link': 'https://www.rottentomatoes.com/m/widows_2018'}}"
      ]
     },
     "execution_count": 17,
     "metadata": {},
     "output_type": "execute_result"
    }
   ],
   "source": [
    "box_office_list = []\n",
    "box_office_dict = {} \n",
    "# {'1':{\n",
    "#   'score':88,\n",
    "#   'title':'Ralph Breaks the Internet',\n",
    "#   ..\n",
    "# }}\n",
    "for tr,i in zip(all_tr, range(len(all_tr))):\n",
    "    score = int(tr.find('span', attrs={'class':'tMeterScore'})\\\n",
    "        .text.strip('%'))\n",
    "    title = tr.find('td', attrs={'class':'middle_col'})\\\n",
    "        .text.strip('\\n')\n",
    "    revenue = float(tr.find('td', attrs={'class':'right_col'})\\\n",
    "        .a.text.strip('$M'))\n",
    "    link = url + tr.find('a')['href']\n",
    "    box_office_list.append((\n",
    "        score,\n",
    "        title,\n",
    "        revenue,\n",
    "        link,\n",
    "    ))\n",
    "    box_office_dict[i+1] = dict([\n",
    "        (name, eval(name)) \n",
    "            for name in [\"score\",\"title\",\"revenue\",\"link\"]\n",
    "    ])\n",
    "box_office_dict"
   ]
  },
  {
   "cell_type": "code",
   "execution_count": 18,
   "metadata": {},
   "outputs": [
    {
     "data": {
      "text/plain": [
       "{'href': '/m/ralph_breaks_the_internet'}"
      ]
     },
     "execution_count": 18,
     "metadata": {},
     "output_type": "execute_result"
    }
   ],
   "source": [
    "all_tr[0].find('a').attrs"
   ]
  },
  {
   "cell_type": "code",
   "execution_count": 19,
   "metadata": {},
   "outputs": [
    {
     "data": {
      "text/plain": [
       "[('a', 1), ('b', 2), ('c', 3)]"
      ]
     },
     "execution_count": 19,
     "metadata": {},
     "output_type": "execute_result"
    }
   ],
   "source": [
    "alpha = ['a','b','c']\n",
    "nums = [1,2,3]\n",
    "list(zip(alpha, nums))"
   ]
  },
  {
   "cell_type": "markdown",
   "metadata": {},
   "source": [
    "## Stackoverflow - python search result\n",
    "- https://stackoverflow.com/questions/tagged/python 에 접근하여\n",
    "- 1페이지의 질문 블록에서\n",
    "- 질문제목, 링크, 요약 텍스트를 추출하기\n",
    "- advanced: 질문의 vote, tag 까지"
   ]
  },
  {
   "cell_type": "code",
   "execution_count": 20,
   "metadata": {},
   "outputs": [
    {
     "data": {
      "text/plain": [
       "'<!DOCTYPE html>\\r\\n\\r\\n\\r\\n    <html itemscope itemtype=\"http://schema.org/QAPage\" class=\"html__responsive\">\\r\\n\\r\\n    <head>\\r\\n\\r\\n        <title>Newest &#39;python&#39; Questions - Stack Overflow</title>\\r\\n     '"
      ]
     },
     "execution_count": 20,
     "metadata": {},
     "output_type": "execute_result"
    }
   ],
   "source": [
    "domain = \"https://stackoverflow.com\"\n",
    "term = \"python\"\n",
    "url = domain + \"/questions/tagged/\" + term\n",
    "html = requests.get(url).text\n",
    "html[:200]"
   ]
  },
  {
   "cell_type": "code",
   "execution_count": 22,
   "metadata": {},
   "outputs": [
    {
     "data": {
      "text/plain": [
       "50"
      ]
     },
     "execution_count": 22,
     "metadata": {},
     "output_type": "execute_result"
    }
   ],
   "source": [
    "soup = BeautifulSoup(html, 'html.parser')\n",
    "question_section = soup.find('div', attrs={'id':'questions'})\n",
    "questions = question_section.find_all('div', attrs={'class':'summary'})\n",
    "len(questions)"
   ]
  },
  {
   "cell_type": "code",
   "execution_count": 23,
   "metadata": {},
   "outputs": [
    {
     "name": "stdout",
     "output_type": "stream",
     "text": [
      "Heroku :Application error An error occurred in the application and your page could not be served. If you are the application owner\n",
      "https://stackoverflow.com/questions/53799428/heroku-application-error-an-error-occurred-in-the-application-and-your-page-cou\n",
      "i pushed my django app to heroku but when i tried to access the application i got this error \n",
      "here is my logs \n",
      "\n",
      "    018-12-16T04:16:53.837508+00:00 heroku[router]: at=error code=H10 desc=\"App crashed\" ...\n",
      "Python: Open Excel file with win32\n",
      "https://stackoverflow.com/questions/53799407/python-open-excel-file-with-win32\n",
      "My code was working yesterday but today when I tried running it again it threw me an error and I've try to figure this out but I couldn't. Hope you can help me out here. Thanks much!\n",
      "\n",
      "import fnmatch\n",
      "...\n",
      "Bad model accuracy keras\n",
      "https://stackoverflow.com/questions/53799396/bad-model-accuracy-keras\n",
      "I want to implement an object-detection system using keras. I am sliding windows over the images to find where toys are located. \n",
      "\n",
      "def sliding_window(image, stepSize, windowSize):\n",
      "        # slide a ...\n",
      "Input file example\n",
      "https://stackoverflow.com/questions/53799391/input-file-example\n",
      "Can you give an example of the input file being pulled in on the first line?\n",
      "\n",
      "---------- Code Snippet ------------------------\n",
      "\n",
      "f = open(\"10thousand.txt\", \"r\")\n",
      "data = f.read()\n",
      "f.close\n",
      "\n",
      "#clean the data\n",
      "...\n",
      "How to make GUI in python and code in c/c++\n",
      "https://stackoverflow.com/questions/53799388/how-to-make-gui-in-python-and-code-in-c-c\n",
      "I want to make GUI in python Tkinter and write the actual code in C/C++\n",
      "This is a simple tkinter code I wrote. \n",
      "\n",
      "from tkinter import *\n",
      "root=Tk()\n",
      "\n",
      "label_1=Label(root,text=\"A\")\n",
      "label_2=Label(root,text=\"...\n",
      "Python calculate factorial, OverflowError: int too large to convert to float\n",
      "https://stackoverflow.com/questions/53799342/python-calculate-factorial-overflowerror-int-too-large-to-convert-to-float\n",
      "I want to write a function that calculate (1 / n!) * (1! + 2! + 3! + ... + n!) with n as the parameter of the function, also the result is truncated to 6 decimals (not rounded).\n",
      "Below is my code:\n",
      "\n",
      "def ...\n",
      "AttributeError: module 'pickle' has no attribute '_Pickler'\n",
      "https://stackoverflow.com/questions/53799337/attributeerror-module-pickle-has-no-attribute-pickler\n",
      "I tried to open a Flask app via Heroku and got this error:\n",
      "AttributeError: module 'pickle' has no attribute '_Pickler'\n",
      "\n",
      "I created model.pkl in separate file:\n",
      "\n",
      "model1 = Pipeline([\n",
      "    ('CountVectorizer'...\n",
      "Python: My dataset has over 10,000 why is this not reflected in my lists?\n",
      "https://stackoverflow.com/questions/53799333/python-my-dataset-has-over-10-000-why-is-this-not-reflected-in-my-lists\n",
      "#open, read, close output.txt (smaller version)\n",
      "f = open(\"10thousand.txt\", \"r\")\n",
      "data = f.read()\n",
      "f.close\n",
      "\n",
      "#clean the data\n",
      "data = data.replace('\\n', '\\t')\n",
      "data = data.split('\\t')\n",
      "\n",
      "ageList = []\n",
      "\n",
      "#append ...\n",
      "Can't install any package - EnvironmentError [Errno 2]\n",
      "https://stackoverflow.com/questions/53799294/cant-install-any-package-environmenterror-errno-2\n",
      "I've got the following message when trying to install a package with 'pip install slackclient':\n",
      "\n",
      "Could not install packages due to an EnvironmentError: [Errno 2] No such file or directory: 'c:\\users\\...\n",
      "Matplotlib Multiple Stacked Bar Charts in One Graph\n",
      "https://stackoverflow.com/questions/53799279/matplotlib-multiple-stacked-bar-charts-in-one-graph\n",
      "I'm trying to create a graph like the image here\r\n",
      "How can I do this using a matplotlib python script? I will want to generate multiple versions of this, so please use the object oriented interface if ...\n",
      "How to identify and remove garbage characters?\n",
      "https://stackoverflow.com/questions/53799256/how-to-identify-and-remove-garbage-characters\n",
      "I have a Chinese text file that includes a lot of garbled text in between the good Chinese text (this is from a PDF to TXT conversion.)\n",
      "\n",
      "How would I go about removing the garbled text while keeping ...\n",
      "drop duplicate values and count the values\n",
      "https://stackoverflow.com/questions/53799217/drop-duplicate-values-and-count-the-values\n",
      "I extracted a list of countries and I am trying to process the data to generate a report. I use \"value_counts()\" to count the elements of the countries. The result shows like belows. \n",
      "\n",
      ">>>...\n",
      "python co integrating data , pvalue always same with error RuntimeWarning: divide by zero encountered in double_scalars\n",
      "https://stackoverflow.com/questions/53799202/python-co-integrating-data-pvalue-always-same-with-error-runtimewarning-divid\n",
      "I have the below data set :\n",
      "\n",
      "data_fut['Close'].head\n",
      "<bound method Series.head of Date\n",
      "2018-11-29    170.15\n",
      "2018-11-30    165.65\n",
      "2018-12-03    167.15\n",
      "2018-12-04    163.35\n",
      "2018-12-05    157.90\n",
      "2018-...\n",
      "TkInter 'Label' object is not callable\n",
      "https://stackoverflow.com/questions/53799195/tkinter-label-object-is-not-callable\n",
      "In my GUI, I have an entry box bound to the Return key, every time I enter something into the entry box and hit return, my console shows the error in the title. Where is my code wrong? \n",
      "\n",
      "def correct():...\n",
      "My Heroku app seems to be running more than 1 instance\n",
      "https://stackoverflow.com/questions/53799174/my-heroku-app-seems-to-be-running-more-than-1-instance\n",
      "As the title says, I have an app hosted on Heroku that seems to have more than one instance running.  This is a problem because I am trying to keep track of single letter posts on a GroupMe in order ...\n",
      "find the pair of adjacent elements that has the largest product\n",
      "https://stackoverflow.com/questions/53799168/find-the-pair-of-adjacent-elements-that-has-the-largest-product\n",
      "I had to look up how to complete this challenge:\n",
      "\n",
      "Given an array of integers, find the pair of adjacent elements that has the largest product and return that product.\n",
      "\n",
      "Example\n",
      "\n",
      "For inputArray = [3, 6, ...\n",
      "Binary Search using a for loop, searching for words in a list and comparing\n",
      "https://stackoverflow.com/questions/53799104/binary-search-using-a-for-loop-searching-for-words-in-a-list-and-comparing\n",
      "I'm trying to compare the words in \"alice_list\" to \"dictionary_list\", and if a word isnt found in the \"dictionary_list\" to print it and say it is probably misspelled. I'm having issues where its not ...\n",
      "Download an image but urllib.error.HTTPError\n",
      "https://stackoverflow.com/questions/53799101/download-an-image-but-urllib-error-httperror\n",
      "I'm trying to download an image using Python but I got the error \"HTTP Error 403: Forbidden\". I have no clue what to do to solve the issue. Here is my code:\n",
      "\n",
      "import urllib.request as req\n",
      "imgurl =\"http:...\n",
      "Python and Ruby limitations [on hold]\n",
      "https://stackoverflow.com/questions/53799090/python-and-ruby-limitations\n",
      "What limitations do Python and Ruby have when it comes to building high traffic websites? Both of them have GIL that prevents true concurrency and prevents from leveraging multiple cores. If thats the ...\n",
      "Flightaware API\n",
      "https://stackoverflow.com/questions/53799087/flightaware-api\n",
      "parsing json and get TypeError: string indices must be integers.  One part of my code works fine but the other does not. I do not see the difference. Any help would be appreciated\n",
      "\n",
      "#!//usr/bin/env ...\n",
      "What does setuptools.setup do with all the metadata keywords?\n",
      "https://stackoverflow.com/questions/53799086/what-does-setuptools-setup-do-with-all-the-metadata-keywords\n",
      "Getting to a point with my project that I want to distribute it, so I am reading the docs to better familiarize myself with all the information. Eventually I found myself looking at distutils.core....\n",
      "How can i read a file as relative path in Python with Visual Studio Code?\n",
      "https://stackoverflow.com/questions/53799070/how-can-i-read-a-file-as-relative-path-in-python-with-visual-studio-code\n",
      "File not found error occurs when reading a file as relative path in Visual Studio Code.\n",
      "The file is currently in the same folder as the python script.\n",
      "The same script is read successfully by running ...\n",
      "Creating an MDP // Artificial Intelligence for 2D game w/ multiple terminals\n",
      "https://stackoverflow.com/questions/53799050/creating-an-mdp-artificial-intelligence-for-2d-game-w-multiple-terminals\n",
      "so I'm sure everyone has heard about the Berkeley Pac-Man AI challenge at some point or another. A while ago I created a 2D platformer (doesn't scroll) and figured it would be pretty cool to take some ...\n",
      "readline() function returns type <class 'str'> [duplicate]\n",
      "https://stackoverflow.com/questions/53799028/readline-function-returns-type-class-str\n",
      "Working with python 3.6.4 in a jupyter notebook to read the first line of ~30k files. I create a list of the contents that is read from the first line of each file. I then compare that to a list that ...\n",
      "set separate grid for two different frames\n",
      "https://stackoverflow.com/questions/53799025/set-separate-grid-for-two-different-frames\n",
      "I want a window that contains two frames. The top frame includes five labels for user input. The bottom frame includes two buttons. I got this result:\r\n",
      "It is obvious that the button location is wrong. ...\n",
      "Python 3.6 module appscript install error\n",
      "https://stackoverflow.com/questions/53799014/python-3-6-module-appscript-install-error\n",
      "I wanted to install the module xlwings, and one of its dependencies is appscript. So when I do:\n",
      "\n",
      "pip3.6 install xlwings\r\n",
      "I get the following error:\n",
      "\n",
      "Collecting xlwings\n",
      "  Using cached https://files....\n",
      "Remove all StructType columns from PySpark DataFrame\n",
      "https://stackoverflow.com/questions/53799007/remove-all-structtype-columns-from-pyspark-dataframe\n",
      "I have a data frame df that reads a JSON file as follows:\n",
      "\n",
      "df = spark.read.json(\"/myfiles/file1.json\")\r\n",
      "df.dtypes shows the following columns and data types:\r\n",
      "id – string\n",
      "Name - struct\n",
      "address - ...\n",
      "python MySQLdb query tables iteratively\n",
      "https://stackoverflow.com/questions/53798991/python-mysqldb-query-tables-iteratively\n",
      "I'm trying to query one table against the other using Python and MySQLdb. Here's what I've got so far: \n",
      "\n",
      "db = MySQLdb.connect( host = 'localhost', user = 'user', passwd= \n",
      "'password', db = 'vacants')\n",
      "\n",
      "...\n",
      "Pandas version <=0.16: AttributeError: 'DataFrame' object has no attribute 'sort_values' [duplicate]\n",
      "https://stackoverflow.com/questions/53798955/pandas-version-0-16-attributeerror-dataframe-object-has-no-attribute-sort\n",
      "I have a code that runs fine on my computer with Pandas 0.24.4 installed. The code has the following line \n",
      "\n",
      "best_config = hourly_data.sort_values(['HOY_avg_lists', 'HOY_LUR_lists'], ascending=[False, ...\n",
      "Dictionary value replace\n",
      "https://stackoverflow.com/questions/53798927/dictionary-value-replace\n",
      "Imagine I have a dictionary like this:\n",
      "\n",
      "d = {'1':['a'], '2':['b', 'c', 'd'], '3':['e', 'f'], '4':['g']}\r\n",
      "Each key of the dictionary represents a unique person of a certain class.\n",
      "Each key must have ...\n",
      "Function that sets empty dictionary when Flask app starts using flask sessions [duplicate]\n",
      "https://stackoverflow.com/questions/53798918/function-that-sets-empty-dictionary-when-flask-app-starts-using-flask-sessions\n",
      "I would like to start Flask app with empty dictionary which later is populated by users, however, when I initialize it like this:\n",
      "\n",
      "@app.route(\"/\")                                                       ...\n",
      "pyqtgraph.opengl VS OpenGL.GL - how to display axis at PyQt5 OpenGL embedded widget\n",
      "https://stackoverflow.com/questions/53798877/pyqtgraph-opengl-vs-opengl-gl-how-to-display-axis-at-pyqt5-opengl-embedded-wid\n",
      "How to interact with PyQt5.QtWidgets openGLWidget using pyqtgraph.opengl instead of OpenGL.GL?\n",
      "I need to make a next graphical output to openGLWidget on the PyQt5 form: \n",
      "\n",
      "def plot_line(line):\n",
      "    ...\n",
      "How to add decimal or dot to whole number to convert like ratings out of 10 example 56 to 5.6, 78 to 7.8, 10 to 10, 7 to 7.0, 6 to 6.0 keeping NaNs\n",
      "https://stackoverflow.com/questions/53798876/how-to-add-decimal-or-dot-to-whole-number-to-convert-like-ratings-out-of-10-exam\n",
      "How to add decimal or dot to whole number to convert? Like ratings out of 10 example 56 to 5.6, 78 to 7.8, 10 to 10, 7 to 7.0, 6 to 6.0, keeping NaNs\n",
      "\n",
      "d = {'col1' : [78, 56, 7, 3, 33, 99, 10, NaN]}\n",
      "\n",
      "...\n",
      "Python: How do I scrape ESPN for game matchups\n",
      "https://stackoverflow.com/questions/53798872/python-how-do-i-scrape-espn-for-game-matchups\n",
      "Fairly new to programming, apologies is the question is broad. \n",
      "\n",
      "import requests\n",
      "from bs4 import BeautifulSoup\n",
      "\n",
      "def data():\n",
      "    League = ['nba', 'nfl', 'mlb']\n",
      "    url = f\"http://www.espn.com/{League[0]...\n",
      "Filtering Django Objects and displaying data to HTML\n",
      "https://stackoverflow.com/questions/53798851/filtering-django-objects-and-displaying-data-to-html\n",
      "I have a Django web app which I want to do some basic filtering on. Basically, I have a social media like site where Users register their hobbies. What I want to do is have a filter where Users can ...\n",
      "exec name “templet_1h” is not defined\n",
      "https://stackoverflow.com/questions/53798843/exec-name-templet-1h-is-not-defined\n",
      "I'm trying to write a code with exec and eval function to read lists of variables from a numpy .npz file.\n",
      "\n",
      "When I ran the code without defining it as a function def, the code worked. However, when I ...\n",
      "tensorflow “Could not retrieve class for Options: google.protobuf.MessageOptions”\n",
      "https://stackoverflow.com/questions/53798814/tensorflow-could-not-retrieve-class-for-options-google-protobuf-messageoptions\n",
      "I try to use the GANEstimator model in tensorflow here \n",
      "\n",
      "https://github.com/tensorflow/models/blob/master/research/gan/tutorial.ipynb\n",
      "and try the second case GANEstimator,but when I run the code to ...\n",
      "retrieving object attribute in python\n",
      "https://stackoverflow.com/questions/53798777/retrieving-object-attribute-in-python\n",
      "Below is my Dialog object -- entity.message value which i added below code snippets.\n",
      "\n",
      "Dialog(name='Anonymous', date=datetime.datetime(2018, 12, 15, 19, 45, 7, tzinfo=datetime.timezone.utc), draft=<...\n",
      "Running FreeCAD module drawing_dimensioning or TechDrawGui from python script\n",
      "https://stackoverflow.com/questions/53798769/running-freecad-module-drawing-dimensioning-or-techdrawgui-from-python-script\n",
      "Note - I'm not running a script in the python console inside FreeCAD. This is all in a python script in a docker container with FreeCAD installed.\n",
      "\n",
      "I'm trying to make an SVG of a page generated by ...\n",
      "While loop stops at if statement - pygame\n",
      "https://stackoverflow.com/questions/53798737/while-loop-stops-at-if-statement-pygame\n",
      "Whenever I run this code, it stops right before the screen.blit while still looping, printing the 'debug3' over and over.\n",
      "\n",
      "It doesn't even recognize that the screen is not defined, and my intention is ...\n",
      "Measure the time with time.time() and Keydown\n",
      "https://stackoverflow.com/questions/53798735/measure-the-time-with-time-time-and-keydown\n",
      "I got sounds that I play from a list called sounds. It plays a sound, store the time when the sound is played in start, waits 6 seconds and plays the next sound from the list. Now I want to capture a ...\n",
      "Threshold comparison 2 different sized numpy arrays error\n",
      "https://stackoverflow.com/questions/53798732/threshold-comparison-2-different-sized-numpy-arrays-error\n",
      "I have been trying to get an evaluation of True when comparing these 2 different but similar numpy arrays. They are images that I isolated the trail from the rest of the map, I'm trying to get it to ...\n",
      "Creating a new dataframe from the output of .value_counts() on an existing dataframe [duplicate]\n",
      "https://stackoverflow.com/questions/53798714/creating-a-new-dataframe-from-the-output-of-value-counts-on-an-existing-dataf\n",
      "I was just wondering is it possible to get the output of a pandas .value_counts() to be a new dataframe? It is typically output in a couple of columns looking like a table, but something like the ...\n",
      "difference between .fit() and .cross_validate() - python\n",
      "https://stackoverflow.com/questions/53798690/difference-between-fit-and-cross-validate-python\n",
      "I have a dataframe of four numeric columns and they are X1, X2, X3, Y. I split it in 80% train and 20% test. There is no nan in the whole dataframe and now I need to create the model and evaluate it (...\n",
      "pyinstaller command not found\n",
      "https://stackoverflow.com/questions/53798660/pyinstaller-command-not-found\n",
      "I am using Ubuntu on VirtualBox. How do I add pyinstaller to the PATH?\n",
      "\n",
      "It says it installed correctly, and according to other posts, I think it has, but I just can't get it to work. I ran:\n",
      "\n",
      "pip ...\n",
      "searching a list in python\n",
      "https://stackoverflow.com/questions/53798659/searching-a-list-in-python\n",
      "is there anyway to search a list you have created and print off the values associated with it e.g\n",
      "\n",
      "#EMP_NO, EMP_NAME, AGE, POSITION, SALARY, YRS_EMP\n",
      "001, Peter Smyth, 26, Developer, 29000, 4\n",
      "002, ...\n",
      "selenium + python + chromedriver.exe does not run as expected, I am setting the binary\n",
      "https://stackoverflow.com/questions/53798643/selenium-python-chromedriver-exe-does-not-run-as-expected-i-am-setting-the\n",
      "I've got this code:\n",
      "\n",
      "options = webdriver.ChromeOptions()\n",
      "options.add_argument(\"--user-data-dir=C:/Users/RvBVakama/AppData/Local/Google/Chrome/User Data\")\n",
      "options.add_argument(\"--disable-extensions\")\n",
      "...\n",
      "python loop for programming a xbox one controller to do a task over and over\n",
      "https://stackoverflow.com/questions/53798605/python-loop-for-programming-a-xbox-one-controller-to-do-a-task-over-and-over\n",
      "is there a way to program my xbox controller to\n",
      "- when I press a combination on buttons\n",
      "   - press A\n",
      "   - wait 3 sec\n",
      "   - press A\n",
      "   - press LT then RT over and over for 60 sec\n",
      "   - wait 5 sec\n",
      "   - ...\n",
      "Unzipping values inside list comprehension\n",
      "https://stackoverflow.com/questions/53798587/unzipping-values-inside-list-comprehension\n",
      "I want to do the following:\n",
      "\n",
      "A, B = [[x, y] for (x, y) in Z]\r\n",
      "desiring an output:\n",
      "\n",
      "A = [x1, x2, ...] # xN are the N x values in Z\n",
      "B = [y1, y2, ...]\r\n",
      "There is the obvious solution to do:\n",
      "\n",
      "A, B = [x for ...\n",
      "Is Elmo a word embedding or a sentence embedding?\n",
      "https://stackoverflow.com/questions/53798582/is-elmo-a-word-embedding-or-a-sentence-embedding\n",
      "Supposedly, Elmo is a word embedding.\n",
      "So if the input is a sentence or a sequence of words, the output should be a sequence of vectors. Apparently, this is not the case.\n",
      "\n",
      "The code below uses keras and ...\n"
     ]
    }
   ],
   "source": [
    "for question in questions:\n",
    "    # find title, link\n",
    "    title_link = question.find(\n",
    "        'a', attrs={'class':'question-hyperlink'})\n",
    "    title = title_link.text\n",
    "    link = domain + title_link['href']\n",
    "    # find abstract_text\n",
    "    abstact_text = question.find('div', attrs={'class':'excerpt'})\\\n",
    "        .text.strip(' \\r\\n')\n",
    "    print(title, link, abstact_text, sep='\\n')"
   ]
  },
  {
   "cell_type": "code",
   "execution_count": 24,
   "metadata": {},
   "outputs": [
    {
     "name": "stdout",
     "output_type": "stream",
     "text": [
      "Heroku :Application error An error occurred in the application and your page could not be served. If you are the application owner https://stackoverflow.com/questions/53799428/heroku-application-error-an-error-occurred-in-the-application-and-your-page-cou\n"
     ]
    }
   ],
   "source": [
    "title_link = questions[0].find(\n",
    "    'a', attrs={'class':'question-hyperlink'})\n",
    "title = title_link.text\n",
    "link = domain + title_link['href']\n",
    "print(title, link)"
   ]
  },
  {
   "cell_type": "code",
   "execution_count": 25,
   "metadata": {},
   "outputs": [
    {
     "data": {
      "text/plain": [
       "'i pushed my django app to heroku but when i tried to access the application i got this error \\nhere is my logs \\n\\n    018-12-16T04:16:53.837508+00:00 heroku[router]: at=error code=H10 desc=\"App crashed\" ...'"
      ]
     },
     "execution_count": 25,
     "metadata": {},
     "output_type": "execute_result"
    }
   ],
   "source": [
    "abstact_text = questions[0].find('div', attrs={'class':'excerpt'})\\\n",
    "    .text.strip(' \\r\\n')\n",
    "abstact_text"
   ]
  },
  {
   "cell_type": "markdown",
   "metadata": {},
   "source": [
    "# Selenium"
   ]
  },
  {
   "cell_type": "code",
   "execution_count": 1,
   "metadata": {},
   "outputs": [],
   "source": [
    "import selenium\n",
    "# 다음부터는 무조건 이렇게 하도록 해요\n",
    "from selenium import webdriver"
   ]
  },
  {
   "cell_type": "code",
   "execution_count": 2,
   "metadata": {
    "scrolled": true
   },
   "outputs": [],
   "source": [
    "ch_driver = webdriver.Chrome('C:/Users/beave/AppData/Roaming/Microsoft/Windows/Start Menu/Programs/Python 3.7/chromedriver.exe')\n",
    "#for mac\n",
    "# ch_driver = webdriver.Chrome('/Users/ulgoon/Documents/dev/chromedriver')"
   ]
  },
  {
   "cell_type": "code",
   "execution_count": 71,
   "metadata": {},
   "outputs": [],
   "source": [
    "ch_driver.get('https://www.google.com/')"
   ]
  },
  {
   "cell_type": "code",
   "execution_count": 4,
   "metadata": {},
   "outputs": [],
   "source": [
    "# get naver login page\n",
    "ch_driver.get('https://nid.naver.com/nidlogin.login')"
   ]
  },
  {
   "cell_type": "code",
   "execution_count": 5,
   "metadata": {},
   "outputs": [],
   "source": [
    "# find element to send keys to login id input\n",
    "#driver.find_element_by_id(\"id\").send_keys(\"kmj0423\")\n",
    "#find_element_by_id() 로 id가져와서 거기에 send_keys()로 입력\n",
    "\n",
    "id_input = ch_driver.find_element_by_id(\"id\")\n",
    "id_input.send_keys(\"naverid\")\n",
    "pw_input = ch_driver.find_element_by_id(\"pw\")\n",
    "pw_input.send_keys(\"naverpw\")"
   ]
  },
  {
   "cell_type": "code",
   "execution_count": 6,
   "metadata": {},
   "outputs": [],
   "source": [
    "#find login button and click it\n",
    "\n",
    "login_btn = ch_driver.find_element_by_class_name(\"btn_global\")\n",
    "login_btn.click()"
   ]
  },
  {
   "cell_type": "code",
   "execution_count": 7,
   "metadata": {},
   "outputs": [],
   "source": [
    "pw_input = ch_driver.find_element_by_id(\"pw\")\n",
    "pw_input.send_keys(\"naverpw\")\n",
    "chptcha_area = ch_driver.find_element_by_id(\"chptcha\")\n",
    "chptcha_area.send_keys(\"S95D7\")\n",
    "login_btn = ch_driver.find_element_by_class_name(\"btn_global\")\n",
    "login_btn.click()"
   ]
  },
  {
   "cell_type": "markdown",
   "metadata": {},
   "source": [
    "## 중고나라 검색결과 가져오기"
   ]
  },
  {
   "cell_type": "code",
   "execution_count": 85,
   "metadata": {},
   "outputs": [],
   "source": [
    "# get joonggonara\n",
    "ch_driver.get(\"https://cafe.naver.com/joonggonara\")"
   ]
  },
  {
   "cell_type": "code",
   "execution_count": 86,
   "metadata": {},
   "outputs": [],
   "source": [
    "# 검색어 지정하고 searchBoard();로 검색 진행하기\n",
    "query = \"맥북프로\"\n",
    "query_input = ch_driver.find_element_by_id(\"topLayerQueryInput\")\n",
    "query_input.send_keys(query) #검색창에 맥북프로 입력\n",
    "\n",
    "ch_driver.execute_script(\"searchBoard();\") #검색 버튼 클릭"
   ]
  },
  {
   "cell_type": "code",
   "execution_count": 87,
   "metadata": {},
   "outputs": [],
   "source": [
    "# 스크립트 예제\n",
    "ch_driver.execute_script(\"console.log('haha');\")"
   ]
  },
  {
   "cell_type": "code",
   "execution_count": 88,
   "metadata": {},
   "outputs": [
    {
     "name": "stderr",
     "output_type": "stream",
     "text": [
      "c:\\python37\\lib\\site-packages\\ipykernel_launcher.py:3: DeprecationWarning: use driver.switch_to.frame instead\n",
      "  This is separate from the ipykernel package so we can avoid doing imports until\n"
     ]
    }
   ],
   "source": [
    "# 메인프레임에서 검색결과 프레임으로 전환하여 결과게시판 접근하기\n",
    "result_bbs = ch_driver.find_element_by_id(\"cafe_main\")\n",
    "ch_driver.switch_to_frame(result_bbs)"
   ]
  },
  {
   "cell_type": "code",
   "execution_count": 57,
   "metadata": {},
   "outputs": [
    {
     "data": {
      "text/plain": [
       "'https://cafe.naver.com/ArticleRead.nhn?clubid=10050146&page=1&inCafeSearch=true&searchBy=1&query=%B8%C6%BA%CF%C7%C1%B7%CE&includeAll=&exclude=&include=&exact=&searchdate=all&media=0&sortBy=date&articleid=540869968&referrerAllArticles=true'"
      ]
     },
     "execution_count": 57,
     "metadata": {},
     "output_type": "execute_result"
    }
   ],
   "source": [
    "# article이라는 클래스를 가진 요소로 접근하여 성공여부 확인하기\n",
    "title_link = ch_driver.find_elements_by_class_name(\"article\")\n",
    "title_link[0].get_attribute('href')"
   ]
  },
  {
   "cell_type": "code",
   "execution_count": 52,
   "metadata": {},
   "outputs": [],
   "source": [
    "# 게시판 리스트 전체에 대해 게시물 텍스트와 링크 가져와 프린트하기\n",
    "for item in title_link:\n",
    "    title = item.text\n",
    "    link = item.get_attribute('href')\n",
    "    print(title, link, sep='\\n')"
   ]
  },
  {
   "cell_type": "markdown",
   "metadata": {},
   "source": [
    "## 숙제\n",
    "- www.seoul.go.kr 에 접속하여 새소식 게시판에서\n",
    "- 10페이지까지 이동하며 결과물 스크래핑하기"
   ]
  },
  {
   "cell_type": "code",
   "execution_count": 3,
   "metadata": {},
   "outputs": [],
   "source": [
    "ch_driver.get(\"http://www.seoul.go.kr\") #www.seoul.go.kr 접속"
   ]
  },
  {
   "cell_type": "code",
   "execution_count": 4,
   "metadata": {},
   "outputs": [],
   "source": [
    "more_link = ch_driver.find_element_by_link_text(\"전체보기\")\n",
    "more_link.click() #새소식 페이지 들어가기"
   ]
  },
  {
   "cell_type": "code",
   "execution_count": 34,
   "metadata": {},
   "outputs": [
    {
     "data": {
      "text/plain": [
       "'[20738] 우리동네 S히어로 06_ 청년 마을살이 책자 발간 알림'"
      ]
     },
     "execution_count": 34,
     "metadata": {},
     "output_type": "execute_result"
    }
   ],
   "source": [
    "title_list = ch_driver.find_elements_by_class_name(\"subject\")\n",
    "title_list[0].text"
   ]
  },
  {
   "cell_type": "code",
   "execution_count": 35,
   "metadata": {},
   "outputs": [
    {
     "name": "stdout",
     "output_type": "stream",
     "text": [
      "[20738] 우리동네 S히어로 06_ 청년 마을살이 책자 발간 알림\n",
      "[20737] 피해 학생의 학교폭력 재심청구 안내\n",
      "[20736] 우리 동네 S히어로 05_ 좌충우돌! 엄마아빠의 공동육아 이야기 웹툰 책자 게시\n",
      "[20735] 서울시, 양재 R&CD 1주년…전 세계 석학과 ‘딥러닝 인공지능’의 미래 모색\n",
      "[20734] 서울 블록체인 거버넌스단 모집\n",
      "[20733] 시민이 뽑은 「내 삶을 바꾼 2018 서울시 10대 뉴스 』 는?!\n",
      "[20732] 다산신도시 자연앤자이 서울시 기관추천 일정변경 안내 공고\n",
      "[20731] 뚜띠모띠의 서울마을공동체 탐방기 제8탄 '마을공동체와 함께 했던 한해를 되돌아보며...'\n",
      "[20730] 자동차 친환경등급제, 서울시가 먼저 시작합니다.\n",
      "[20729] [서울창업카페 천호점] 스타트업 네트워킹 파티 안내\n"
     ]
    }
   ],
   "source": [
    "#첫 페이지 기사 제목 뽑기\n",
    "for item in title_list:\n",
    "    title = item.text\n",
    "    print(title) "
   ]
  },
  {
   "cell_type": "code",
   "execution_count": null,
   "metadata": {},
   "outputs": [],
   "source": []
  },
  {
   "cell_type": "code",
   "execution_count": null,
   "metadata": {},
   "outputs": [],
   "source": []
  }
 ],
 "metadata": {
  "kernelspec": {
   "display_name": "Python 3",
   "language": "python",
   "name": "python3"
  },
  "language_info": {
   "codemirror_mode": {
    "name": "ipython",
    "version": 3
   },
   "file_extension": ".py",
   "mimetype": "text/x-python",
   "name": "python",
   "nbconvert_exporter": "python",
   "pygments_lexer": "ipython3",
   "version": "3.7.1"
  }
 },
 "nbformat": 4,
 "nbformat_minor": 2
}

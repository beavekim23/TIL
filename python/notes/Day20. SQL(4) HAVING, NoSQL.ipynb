{
 "cells": [
  {
   "cell_type": "markdown",
   "metadata": {},
   "source": [
    "# GROUP BY, HAVING"
   ]
  },
  {
   "cell_type": "code",
   "execution_count": 86,
   "metadata": {},
   "outputs": [],
   "source": [
    "import sqlite3 as lite\n",
    "import pandas as pd"
   ]
  },
  {
   "cell_type": "code",
   "execution_count": 87,
   "metadata": {},
   "outputs": [],
   "source": [
    "db = lite.connect('./products.db')"
   ]
  },
  {
   "cell_type": "code",
   "execution_count": 88,
   "metadata": {},
   "outputs": [],
   "source": [
    "pd.options.display.max_colwidth = 200"
   ]
  },
  {
   "cell_type": "markdown",
   "metadata": {},
   "source": [
    "## To-do\n",
    "- Get the total sales, total revenue, and the average price per month on orders whose quantity > 20"
   ]
  },
  {
   "cell_type": "code",
   "execution_count": 89,
   "metadata": {},
   "outputs": [
    {
     "data": {
      "text/html": [
       "<div>\n",
       "<style scoped>\n",
       "    .dataframe tbody tr th:only-of-type {\n",
       "        vertical-align: middle;\n",
       "    }\n",
       "\n",
       "    .dataframe tbody tr th {\n",
       "        vertical-align: top;\n",
       "    }\n",
       "\n",
       "    .dataframe thead th {\n",
       "        text-align: right;\n",
       "    }\n",
       "</style>\n",
       "<table border=\"1\" class=\"dataframe\">\n",
       "  <thead>\n",
       "    <tr style=\"text-align: right;\">\n",
       "      <th></th>\n",
       "      <th>name</th>\n",
       "      <th>sql</th>\n",
       "    </tr>\n",
       "  </thead>\n",
       "  <tbody>\n",
       "    <tr>\n",
       "      <th>0</th>\n",
       "      <td>Categories</td>\n",
       "      <td>CREATE TABLE Categories(\\n  \"CategoryID\" TEXT,\\n  \"CategoryName\" TEXT,\\n  \"Description\" TEXT\\n)</td>\n",
       "    </tr>\n",
       "    <tr>\n",
       "      <th>1</th>\n",
       "      <td>Customers</td>\n",
       "      <td>CREATE TABLE Customers(\\n  \"CustomerID\" TEXT,\\n  \"CustomerName\" TEXT,\\n  \"ContactName\" TEXT,\\n  \"Address\" TEXT,\\n  \"City\" TEXT,\\n  \"PostalCode\" TEXT,\\n  \"Country\" TEXT\\n)</td>\n",
       "    </tr>\n",
       "    <tr>\n",
       "      <th>2</th>\n",
       "      <td>Employees</td>\n",
       "      <td>CREATE TABLE Employees(\\n  \"EmployeeID\" TEXT,\\n  \"LastName\" TEXT,\\n  \"FirstName\" TEXT,\\n  \"BirthDate\" TEXT,\\n  \"Photo\" TEXT,\\n  \"Notes\" TEXT\\n)</td>\n",
       "    </tr>\n",
       "    <tr>\n",
       "      <th>3</th>\n",
       "      <td>Shippers</td>\n",
       "      <td>CREATE TABLE Shippers(\\n  \"ShipperID\" TEXT,\\n  \"ShipperName\" TEXT,\\n  \"Phone\" TEXT\\n)</td>\n",
       "    </tr>\n",
       "    <tr>\n",
       "      <th>4</th>\n",
       "      <td>Suppliers</td>\n",
       "      <td>CREATE TABLE Suppliers(\\n  \"SupplierID\" TEXT,\\n  \"SupplierName\" TEXT,\\n  \"ContactName\" TEXT,\\n  \"Address\" TEXT,\\n  \"City\" TEXT,\\n  \"PostalCode\" TEXT,\\n  \"Country\" TEXT,\\n  \"Phone\" TEXT\\n)</td>\n",
       "    </tr>\n",
       "    <tr>\n",
       "      <th>5</th>\n",
       "      <td>Orders</td>\n",
       "      <td>CREATE TABLE Orders(\\nOrderID integer,\\nCustomerID integer,\\nEmployeeID integer,\\nOrderDate date,\\nShipperID integer)</td>\n",
       "    </tr>\n",
       "    <tr>\n",
       "      <th>6</th>\n",
       "      <td>OrderDetails</td>\n",
       "      <td>CREATE TABLE OrderDetails(\\nOrderDetailID integer,\\nOrderID integer,\\nProductID integer,\\nQuantity integer)</td>\n",
       "    </tr>\n",
       "    <tr>\n",
       "      <th>7</th>\n",
       "      <td>Products</td>\n",
       "      <td>CREATE TABLE Products(\\nProductID integer,\\nProductName text,\\nSupplierID integer,\\nCategoryID integer,\\nUnit text,\\nPrice integer\\n)</td>\n",
       "    </tr>\n",
       "  </tbody>\n",
       "</table>\n",
       "</div>"
      ],
      "text/plain": [
       "           name  \\\n",
       "0    Categories   \n",
       "1     Customers   \n",
       "2     Employees   \n",
       "3      Shippers   \n",
       "4     Suppliers   \n",
       "5        Orders   \n",
       "6  OrderDetails   \n",
       "7      Products   \n",
       "\n",
       "                                                                                                                                                                                           sql  \n",
       "0                                                                                              CREATE TABLE Categories(\\n  \"CategoryID\" TEXT,\\n  \"CategoryName\" TEXT,\\n  \"Description\" TEXT\\n)  \n",
       "1                   CREATE TABLE Customers(\\n  \"CustomerID\" TEXT,\\n  \"CustomerName\" TEXT,\\n  \"ContactName\" TEXT,\\n  \"Address\" TEXT,\\n  \"City\" TEXT,\\n  \"PostalCode\" TEXT,\\n  \"Country\" TEXT\\n)  \n",
       "2                                              CREATE TABLE Employees(\\n  \"EmployeeID\" TEXT,\\n  \"LastName\" TEXT,\\n  \"FirstName\" TEXT,\\n  \"BirthDate\" TEXT,\\n  \"Photo\" TEXT,\\n  \"Notes\" TEXT\\n)  \n",
       "3                                                                                                        CREATE TABLE Shippers(\\n  \"ShipperID\" TEXT,\\n  \"ShipperName\" TEXT,\\n  \"Phone\" TEXT\\n)  \n",
       "4  CREATE TABLE Suppliers(\\n  \"SupplierID\" TEXT,\\n  \"SupplierName\" TEXT,\\n  \"ContactName\" TEXT,\\n  \"Address\" TEXT,\\n  \"City\" TEXT,\\n  \"PostalCode\" TEXT,\\n  \"Country\" TEXT,\\n  \"Phone\" TEXT\\n)  \n",
       "5                                                                        CREATE TABLE Orders(\\nOrderID integer,\\nCustomerID integer,\\nEmployeeID integer,\\nOrderDate date,\\nShipperID integer)  \n",
       "6                                                                                  CREATE TABLE OrderDetails(\\nOrderDetailID integer,\\nOrderID integer,\\nProductID integer,\\nQuantity integer)  \n",
       "7                                                        CREATE TABLE Products(\\nProductID integer,\\nProductName text,\\nSupplierID integer,\\nCategoryID integer,\\nUnit text,\\nPrice integer\\n)  "
      ]
     },
     "execution_count": 89,
     "metadata": {},
     "output_type": "execute_result"
    }
   ],
   "source": [
    "# Inspect tables, schema\n",
    "query = \"\"\"\n",
    "SELECT name, sql \n",
    "FROM sqlite_master\n",
    ";\n",
    "\"\"\"\n",
    "\n",
    "pd.read_sql(query, db)"
   ]
  },
  {
   "cell_type": "code",
   "execution_count": 90,
   "metadata": {},
   "outputs": [
    {
     "data": {
      "text/html": [
       "<div>\n",
       "<style scoped>\n",
       "    .dataframe tbody tr th:only-of-type {\n",
       "        vertical-align: middle;\n",
       "    }\n",
       "\n",
       "    .dataframe tbody tr th {\n",
       "        vertical-align: top;\n",
       "    }\n",
       "\n",
       "    .dataframe thead th {\n",
       "        text-align: right;\n",
       "    }\n",
       "</style>\n",
       "<table border=\"1\" class=\"dataframe\">\n",
       "  <thead>\n",
       "    <tr style=\"text-align: right;\">\n",
       "      <th></th>\n",
       "      <th>OrderDetailID</th>\n",
       "      <th>OrderID</th>\n",
       "      <th>ProductID</th>\n",
       "      <th>Quantity</th>\n",
       "      <th>ProductID</th>\n",
       "      <th>ProductName</th>\n",
       "      <th>SupplierID</th>\n",
       "      <th>CategoryID</th>\n",
       "      <th>Unit</th>\n",
       "      <th>Price</th>\n",
       "      <th>OrderID</th>\n",
       "      <th>CustomerID</th>\n",
       "      <th>EmployeeID</th>\n",
       "      <th>OrderDate</th>\n",
       "      <th>ShipperID</th>\n",
       "    </tr>\n",
       "  </thead>\n",
       "  <tbody>\n",
       "    <tr>\n",
       "      <th>0</th>\n",
       "      <td>1</td>\n",
       "      <td>10248</td>\n",
       "      <td>11</td>\n",
       "      <td>12</td>\n",
       "      <td>11</td>\n",
       "      <td>Queso Cabrales</td>\n",
       "      <td>5</td>\n",
       "      <td>4</td>\n",
       "      <td>1 kg pkg.</td>\n",
       "      <td>21.00</td>\n",
       "      <td>10248</td>\n",
       "      <td>90</td>\n",
       "      <td>5</td>\n",
       "      <td>1996-07-04</td>\n",
       "      <td>3</td>\n",
       "    </tr>\n",
       "    <tr>\n",
       "      <th>1</th>\n",
       "      <td>2</td>\n",
       "      <td>10248</td>\n",
       "      <td>42</td>\n",
       "      <td>10</td>\n",
       "      <td>42</td>\n",
       "      <td>Singaporean Hokkien Fried Mee</td>\n",
       "      <td>20</td>\n",
       "      <td>5</td>\n",
       "      <td>32 - 1 kg pkgs.</td>\n",
       "      <td>14.00</td>\n",
       "      <td>10248</td>\n",
       "      <td>90</td>\n",
       "      <td>5</td>\n",
       "      <td>1996-07-04</td>\n",
       "      <td>3</td>\n",
       "    </tr>\n",
       "    <tr>\n",
       "      <th>2</th>\n",
       "      <td>3</td>\n",
       "      <td>10248</td>\n",
       "      <td>72</td>\n",
       "      <td>5</td>\n",
       "      <td>72</td>\n",
       "      <td>Mozzarella di Giovanni</td>\n",
       "      <td>14</td>\n",
       "      <td>4</td>\n",
       "      <td>24 - 200 g pkgs.</td>\n",
       "      <td>34.80</td>\n",
       "      <td>10248</td>\n",
       "      <td>90</td>\n",
       "      <td>5</td>\n",
       "      <td>1996-07-04</td>\n",
       "      <td>3</td>\n",
       "    </tr>\n",
       "    <tr>\n",
       "      <th>3</th>\n",
       "      <td>4</td>\n",
       "      <td>10249</td>\n",
       "      <td>14</td>\n",
       "      <td>9</td>\n",
       "      <td>14</td>\n",
       "      <td>Tofu</td>\n",
       "      <td>6</td>\n",
       "      <td>7</td>\n",
       "      <td>40 - 100 g pkgs.</td>\n",
       "      <td>23.25</td>\n",
       "      <td>10249</td>\n",
       "      <td>81</td>\n",
       "      <td>6</td>\n",
       "      <td>1996-07-05</td>\n",
       "      <td>1</td>\n",
       "    </tr>\n",
       "    <tr>\n",
       "      <th>4</th>\n",
       "      <td>5</td>\n",
       "      <td>10249</td>\n",
       "      <td>51</td>\n",
       "      <td>40</td>\n",
       "      <td>51</td>\n",
       "      <td>Manjimup Dried Apples</td>\n",
       "      <td>24</td>\n",
       "      <td>7</td>\n",
       "      <td>50 - 300 g pkgs.</td>\n",
       "      <td>53.00</td>\n",
       "      <td>10249</td>\n",
       "      <td>81</td>\n",
       "      <td>6</td>\n",
       "      <td>1996-07-05</td>\n",
       "      <td>1</td>\n",
       "    </tr>\n",
       "  </tbody>\n",
       "</table>\n",
       "</div>"
      ],
      "text/plain": [
       "   OrderDetailID  OrderID  ProductID  Quantity  ProductID  \\\n",
       "0              1    10248         11        12         11   \n",
       "1              2    10248         42        10         42   \n",
       "2              3    10248         72         5         72   \n",
       "3              4    10249         14         9         14   \n",
       "4              5    10249         51        40         51   \n",
       "\n",
       "                     ProductName  SupplierID  CategoryID              Unit  \\\n",
       "0                 Queso Cabrales           5           4         1 kg pkg.   \n",
       "1  Singaporean Hokkien Fried Mee          20           5   32 - 1 kg pkgs.   \n",
       "2         Mozzarella di Giovanni          14           4  24 - 200 g pkgs.   \n",
       "3                           Tofu           6           7  40 - 100 g pkgs.   \n",
       "4          Manjimup Dried Apples          24           7  50 - 300 g pkgs.   \n",
       "\n",
       "   Price  OrderID  CustomerID  EmployeeID   OrderDate  ShipperID  \n",
       "0  21.00    10248          90           5  1996-07-04          3  \n",
       "1  14.00    10248          90           5  1996-07-04          3  \n",
       "2  34.80    10248          90           5  1996-07-04          3  \n",
       "3  23.25    10249          81           6  1996-07-05          1  \n",
       "4  53.00    10249          81           6  1996-07-05          1  "
      ]
     },
     "execution_count": 90,
     "metadata": {},
     "output_type": "execute_result"
    }
   ],
   "source": [
    "#join the tables on the requirement\n",
    "query = \"\"\"\n",
    "SELECT *\n",
    "FROM OrderDetails D\n",
    "    JOIN\n",
    "        Products P\n",
    "        ON\n",
    "            P.ProductID = D.ProductID\n",
    "    JOIN \n",
    "        Orders O\n",
    "        ON \n",
    "            O.OrderID = D.OrderID   \n",
    ";\n",
    "\"\"\"\n",
    "\n",
    "pd.read_sql(query, db).head()"
   ]
  },
  {
   "cell_type": "code",
   "execution_count": 91,
   "metadata": {},
   "outputs": [
    {
     "data": {
      "text/html": [
       "<div>\n",
       "<style scoped>\n",
       "    .dataframe tbody tr th:only-of-type {\n",
       "        vertical-align: middle;\n",
       "    }\n",
       "\n",
       "    .dataframe tbody tr th {\n",
       "        vertical-align: top;\n",
       "    }\n",
       "\n",
       "    .dataframe thead th {\n",
       "        text-align: right;\n",
       "    }\n",
       "</style>\n",
       "<table border=\"1\" class=\"dataframe\">\n",
       "  <thead>\n",
       "    <tr style=\"text-align: right;\">\n",
       "      <th></th>\n",
       "      <th>Quantity</th>\n",
       "      <th>Price</th>\n",
       "      <th>OrderDate</th>\n",
       "    </tr>\n",
       "  </thead>\n",
       "  <tbody>\n",
       "    <tr>\n",
       "      <th>0</th>\n",
       "      <td>12</td>\n",
       "      <td>21.00</td>\n",
       "      <td>1996-07-04</td>\n",
       "    </tr>\n",
       "    <tr>\n",
       "      <th>1</th>\n",
       "      <td>10</td>\n",
       "      <td>14.00</td>\n",
       "      <td>1996-07-04</td>\n",
       "    </tr>\n",
       "    <tr>\n",
       "      <th>2</th>\n",
       "      <td>5</td>\n",
       "      <td>34.80</td>\n",
       "      <td>1996-07-04</td>\n",
       "    </tr>\n",
       "    <tr>\n",
       "      <th>3</th>\n",
       "      <td>9</td>\n",
       "      <td>23.25</td>\n",
       "      <td>1996-07-05</td>\n",
       "    </tr>\n",
       "    <tr>\n",
       "      <th>4</th>\n",
       "      <td>40</td>\n",
       "      <td>53.00</td>\n",
       "      <td>1996-07-05</td>\n",
       "    </tr>\n",
       "  </tbody>\n",
       "</table>\n",
       "</div>"
      ],
      "text/plain": [
       "   Quantity  Price   OrderDate\n",
       "0        12  21.00  1996-07-04\n",
       "1        10  14.00  1996-07-04\n",
       "2         5  34.80  1996-07-04\n",
       "3         9  23.25  1996-07-05\n",
       "4        40  53.00  1996-07-05"
      ]
     },
     "execution_count": 91,
     "metadata": {},
     "output_type": "execute_result"
    }
   ],
   "source": [
    "# select the required data ( D.Quantity, P.Price, O.OrderDate)\n",
    "query = \"\"\"\n",
    "SELECT D.Quantity, P.Price, O.OrderDate\n",
    "FROM OrderDetails D\n",
    "    JOIN\n",
    "        Products P\n",
    "        ON\n",
    "            P.ProductID = D.ProductID\n",
    "    JOIN \n",
    "        Orders O\n",
    "        ON \n",
    "            O.OrderID = D.OrderID   \n",
    ";\n",
    "\"\"\"\n",
    "\n",
    "pd.read_sql(query, db).head()"
   ]
  },
  {
   "cell_type": "code",
   "execution_count": 92,
   "metadata": {},
   "outputs": [
    {
     "data": {
      "text/html": [
       "<div>\n",
       "<style scoped>\n",
       "    .dataframe tbody tr th:only-of-type {\n",
       "        vertical-align: middle;\n",
       "    }\n",
       "\n",
       "    .dataframe tbody tr th {\n",
       "        vertical-align: top;\n",
       "    }\n",
       "\n",
       "    .dataframe thead th {\n",
       "        text-align: right;\n",
       "    }\n",
       "</style>\n",
       "<table border=\"1\" class=\"dataframe\">\n",
       "  <thead>\n",
       "    <tr style=\"text-align: right;\">\n",
       "      <th></th>\n",
       "      <th>Month</th>\n",
       "      <th>Quantity</th>\n",
       "      <th>Price</th>\n",
       "      <th>OrderDate</th>\n",
       "    </tr>\n",
       "  </thead>\n",
       "  <tbody>\n",
       "    <tr>\n",
       "      <th>0</th>\n",
       "      <td>1996-07</td>\n",
       "      <td>12</td>\n",
       "      <td>21.00</td>\n",
       "      <td>1996-07-04</td>\n",
       "    </tr>\n",
       "    <tr>\n",
       "      <th>1</th>\n",
       "      <td>1996-07</td>\n",
       "      <td>10</td>\n",
       "      <td>14.00</td>\n",
       "      <td>1996-07-04</td>\n",
       "    </tr>\n",
       "    <tr>\n",
       "      <th>2</th>\n",
       "      <td>1996-07</td>\n",
       "      <td>5</td>\n",
       "      <td>34.80</td>\n",
       "      <td>1996-07-04</td>\n",
       "    </tr>\n",
       "    <tr>\n",
       "      <th>3</th>\n",
       "      <td>1996-07</td>\n",
       "      <td>9</td>\n",
       "      <td>23.25</td>\n",
       "      <td>1996-07-05</td>\n",
       "    </tr>\n",
       "    <tr>\n",
       "      <th>4</th>\n",
       "      <td>1996-07</td>\n",
       "      <td>40</td>\n",
       "      <td>53.00</td>\n",
       "      <td>1996-07-05</td>\n",
       "    </tr>\n",
       "  </tbody>\n",
       "</table>\n",
       "</div>"
      ],
      "text/plain": [
       "     Month  Quantity  Price   OrderDate\n",
       "0  1996-07        12  21.00  1996-07-04\n",
       "1  1996-07        10  14.00  1996-07-04\n",
       "2  1996-07         5  34.80  1996-07-04\n",
       "3  1996-07         9  23.25  1996-07-05\n",
       "4  1996-07        40  53.00  1996-07-05"
      ]
     },
     "execution_count": 92,
     "metadata": {},
     "output_type": "execute_result"
    }
   ],
   "source": [
    "# add a new column named \"Month\" using substr\n",
    "# index in SQL starts from 1, not 0\n",
    "\n",
    "query = \"\"\"\n",
    "SELECT substr(O.OrderDate, 1, 7) \"Month\", D.Quantity, P.Price, O.OrderDate\n",
    "FROM OrderDetails D\n",
    "    JOIN\n",
    "        Products P\n",
    "        ON\n",
    "            P.ProductID = D.ProductID\n",
    "    JOIN \n",
    "        Orders O\n",
    "        ON \n",
    "            O.OrderID = D.OrderID   \n",
    ";\n",
    "\"\"\"\n",
    "\n",
    "pd.read_sql(query, db).head()"
   ]
  },
  {
   "cell_type": "code",
   "execution_count": 13,
   "metadata": {},
   "outputs": [
    {
     "data": {
      "text/html": [
       "<div>\n",
       "<style scoped>\n",
       "    .dataframe tbody tr th:only-of-type {\n",
       "        vertical-align: middle;\n",
       "    }\n",
       "\n",
       "    .dataframe tbody tr th {\n",
       "        vertical-align: top;\n",
       "    }\n",
       "\n",
       "    .dataframe thead th {\n",
       "        text-align: right;\n",
       "    }\n",
       "</style>\n",
       "<table border=\"1\" class=\"dataframe\">\n",
       "  <thead>\n",
       "    <tr style=\"text-align: right;\">\n",
       "      <th></th>\n",
       "      <th>Month</th>\n",
       "      <th>Quantity</th>\n",
       "      <th>Price</th>\n",
       "      <th>OrderDate</th>\n",
       "    </tr>\n",
       "  </thead>\n",
       "  <tbody>\n",
       "    <tr>\n",
       "      <th>0</th>\n",
       "      <td>1996-07</td>\n",
       "      <td>20</td>\n",
       "      <td>34.80</td>\n",
       "      <td>1996-07-31</td>\n",
       "    </tr>\n",
       "    <tr>\n",
       "      <th>1</th>\n",
       "      <td>1996-08</td>\n",
       "      <td>6</td>\n",
       "      <td>7.75</td>\n",
       "      <td>1996-08-30</td>\n",
       "    </tr>\n",
       "    <tr>\n",
       "      <th>2</th>\n",
       "      <td>1996-09</td>\n",
       "      <td>20</td>\n",
       "      <td>18.00</td>\n",
       "      <td>1996-09-30</td>\n",
       "    </tr>\n",
       "    <tr>\n",
       "      <th>3</th>\n",
       "      <td>1996-10</td>\n",
       "      <td>15</td>\n",
       "      <td>18.00</td>\n",
       "      <td>1996-10-31</td>\n",
       "    </tr>\n",
       "    <tr>\n",
       "      <th>4</th>\n",
       "      <td>1996-11</td>\n",
       "      <td>35</td>\n",
       "      <td>33.25</td>\n",
       "      <td>1996-11-29</td>\n",
       "    </tr>\n",
       "  </tbody>\n",
       "</table>\n",
       "</div>"
      ],
      "text/plain": [
       "     Month  Quantity  Price   OrderDate\n",
       "0  1996-07        20  34.80  1996-07-31\n",
       "1  1996-08         6   7.75  1996-08-30\n",
       "2  1996-09        20  18.00  1996-09-30\n",
       "3  1996-10        15  18.00  1996-10-31\n",
       "4  1996-11        35  33.25  1996-11-29"
      ]
     },
     "execution_count": 13,
     "metadata": {},
     "output_type": "execute_result"
    }
   ],
   "source": [
    "#group by Month\n",
    "\n",
    "query = \"\"\"\n",
    "SELECT substr(O.OrderDate, 1, 7) \"Month\", D.Quantity, P.Price, O.OrderDate\n",
    "FROM OrderDetails D\n",
    "    JOIN\n",
    "        Products P\n",
    "        ON\n",
    "            P.ProductID = D.ProductID\n",
    "    JOIN \n",
    "        Orders O\n",
    "        ON \n",
    "            O.OrderID = D.OrderID   \n",
    "    GROUP BY \n",
    "        substr(O.OrderDate, 1, 7)\n",
    ";\n",
    "\"\"\"\n",
    "\n",
    "pd.read_sql(query, db).head()"
   ]
  },
  {
   "cell_type": "code",
   "execution_count": 17,
   "metadata": {},
   "outputs": [
    {
     "data": {
      "text/html": [
       "<div>\n",
       "<style scoped>\n",
       "    .dataframe tbody tr th:only-of-type {\n",
       "        vertical-align: middle;\n",
       "    }\n",
       "\n",
       "    .dataframe tbody tr th {\n",
       "        vertical-align: top;\n",
       "    }\n",
       "\n",
       "    .dataframe thead th {\n",
       "        text-align: right;\n",
       "    }\n",
       "</style>\n",
       "<table border=\"1\" class=\"dataframe\">\n",
       "  <thead>\n",
       "    <tr style=\"text-align: right;\">\n",
       "      <th></th>\n",
       "      <th>Month</th>\n",
       "      <th>Quantity</th>\n",
       "      <th>Price</th>\n",
       "      <th>OrderDate</th>\n",
       "      <th>SalesCount</th>\n",
       "      <th>Revenue</th>\n",
       "      <th>Average</th>\n",
       "    </tr>\n",
       "  </thead>\n",
       "  <tbody>\n",
       "    <tr>\n",
       "      <th>0</th>\n",
       "      <td>1996-07</td>\n",
       "      <td>20</td>\n",
       "      <td>34.80</td>\n",
       "      <td>1996-07-31</td>\n",
       "      <td>1462</td>\n",
       "      <td>37779.85</td>\n",
       "      <td>640.34</td>\n",
       "    </tr>\n",
       "    <tr>\n",
       "      <th>1</th>\n",
       "      <td>1996-08</td>\n",
       "      <td>6</td>\n",
       "      <td>7.75</td>\n",
       "      <td>1996-08-30</td>\n",
       "      <td>1322</td>\n",
       "      <td>33285.49</td>\n",
       "      <td>482.40</td>\n",
       "    </tr>\n",
       "    <tr>\n",
       "      <th>2</th>\n",
       "      <td>1996-09</td>\n",
       "      <td>20</td>\n",
       "      <td>18.00</td>\n",
       "      <td>1996-09-30</td>\n",
       "      <td>1124</td>\n",
       "      <td>34565.60</td>\n",
       "      <td>606.41</td>\n",
       "    </tr>\n",
       "    <tr>\n",
       "      <th>3</th>\n",
       "      <td>1996-10</td>\n",
       "      <td>15</td>\n",
       "      <td>18.00</td>\n",
       "      <td>1996-10-31</td>\n",
       "      <td>1738</td>\n",
       "      <td>51528.69</td>\n",
       "      <td>705.87</td>\n",
       "    </tr>\n",
       "    <tr>\n",
       "      <th>4</th>\n",
       "      <td>1996-11</td>\n",
       "      <td>35</td>\n",
       "      <td>33.25</td>\n",
       "      <td>1996-11-29</td>\n",
       "      <td>1735</td>\n",
       "      <td>62163.99</td>\n",
       "      <td>941.88</td>\n",
       "    </tr>\n",
       "  </tbody>\n",
       "</table>\n",
       "</div>"
      ],
      "text/plain": [
       "     Month  Quantity  Price   OrderDate  SalesCount   Revenue  Average\n",
       "0  1996-07        20  34.80  1996-07-31        1462  37779.85   640.34\n",
       "1  1996-08         6   7.75  1996-08-30        1322  33285.49   482.40\n",
       "2  1996-09        20  18.00  1996-09-30        1124  34565.60   606.41\n",
       "3  1996-10        15  18.00  1996-10-31        1738  51528.69   705.87\n",
       "4  1996-11        35  33.25  1996-11-29        1735  62163.99   941.88"
      ]
     },
     "execution_count": 17,
     "metadata": {},
     "output_type": "execute_result"
    }
   ],
   "source": [
    "# select required data using aggregation\n",
    "\n",
    "query = \"\"\"\n",
    "SELECT \n",
    "    substr(O.OrderDate, 1, 7) \"Month\", D.Quantity, P.Price, O.OrderDate,\n",
    "    SUM(D.Quantity) \"SalesCount\", \n",
    "    SUM(D.Quantity * P.Price) \"Revenue\",\n",
    "    ROUND(AVG(D.Quantity * P.Price), 2) \"Average\"\n",
    "FROM OrderDetails D\n",
    "    JOIN\n",
    "        Products P\n",
    "        ON\n",
    "            P.ProductID = D.ProductID\n",
    "    JOIN \n",
    "        Orders O\n",
    "        ON \n",
    "            O.OrderID = D.OrderID   \n",
    "    GROUP BY \n",
    "        substr(O.OrderDate, 1, 7)\n",
    ";\n",
    "\"\"\"\n",
    "\n",
    "pd.read_sql(query, db).head()"
   ]
  },
  {
   "cell_type": "code",
   "execution_count": 93,
   "metadata": {},
   "outputs": [
    {
     "data": {
      "text/html": [
       "<div>\n",
       "<style scoped>\n",
       "    .dataframe tbody tr th:only-of-type {\n",
       "        vertical-align: middle;\n",
       "    }\n",
       "\n",
       "    .dataframe tbody tr th {\n",
       "        vertical-align: top;\n",
       "    }\n",
       "\n",
       "    .dataframe thead th {\n",
       "        text-align: right;\n",
       "    }\n",
       "</style>\n",
       "<table border=\"1\" class=\"dataframe\">\n",
       "  <thead>\n",
       "    <tr style=\"text-align: right;\">\n",
       "      <th></th>\n",
       "      <th>Month</th>\n",
       "      <th>Quantity</th>\n",
       "      <th>Price</th>\n",
       "      <th>OrderDate</th>\n",
       "      <th>SalesCount</th>\n",
       "      <th>Revenue</th>\n",
       "      <th>Average</th>\n",
       "    </tr>\n",
       "  </thead>\n",
       "  <tbody>\n",
       "    <tr>\n",
       "      <th>0</th>\n",
       "      <td>1996-11</td>\n",
       "      <td>35</td>\n",
       "      <td>33.25</td>\n",
       "      <td>1996-11-29</td>\n",
       "      <td>1735</td>\n",
       "      <td>62163.99</td>\n",
       "      <td>941.88</td>\n",
       "    </tr>\n",
       "    <tr>\n",
       "      <th>1</th>\n",
       "      <td>1997-01</td>\n",
       "      <td>40</td>\n",
       "      <td>7.45</td>\n",
       "      <td>1997-01-31</td>\n",
       "      <td>2401</td>\n",
       "      <td>83400.47</td>\n",
       "      <td>981.18</td>\n",
       "    </tr>\n",
       "  </tbody>\n",
       "</table>\n",
       "</div>"
      ],
      "text/plain": [
       "     Month  Quantity  Price   OrderDate  SalesCount   Revenue  Average\n",
       "0  1996-11        35  33.25  1996-11-29        1735  62163.99   941.88\n",
       "1  1997-01        40   7.45  1997-01-31        2401  83400.47   981.18"
      ]
     },
     "execution_count": 93,
     "metadata": {},
     "output_type": "execute_result"
    }
   ],
   "source": [
    "# add the condition \"Quantity > 20\" to GROUP BY using HAVING\n",
    "#final answer\n",
    "\n",
    "query = \"\"\"\n",
    "SELECT \n",
    "    substr(O.OrderDate, 1, 7) \"Month\", D.Quantity, P.Price, O.OrderDate,\n",
    "    SUM(D.Quantity) \"SalesCount\", \n",
    "    SUM(D.Quantity * P.Price) \"Revenue\",\n",
    "    ROUND(AVG(D.Quantity * P.Price), 2) \"Average\"\n",
    "FROM OrderDetails D\n",
    "    JOIN\n",
    "        Products P\n",
    "        ON\n",
    "            P.ProductID = D.ProductID\n",
    "    JOIN \n",
    "        Orders O\n",
    "        ON \n",
    "            O.OrderID = D.OrderID   \n",
    "    GROUP BY \n",
    "        substr(O.OrderDate, 1, 7)\n",
    "    HAVING \n",
    "        D.Quantity > 20\n",
    ";\n",
    "\"\"\"\n",
    "\n",
    "pd.read_sql(query, db)"
   ]
  },
  {
   "cell_type": "markdown",
   "metadata": {},
   "source": [
    "# NoSQL\n",
    "- Schemaless <br/>\n",
    "- JOIN impossible <br/>"
   ]
  },
  {
   "cell_type": "markdown",
   "metadata": {},
   "source": [
    "## Types of NoSQL\n",
    "- {Key:Value} : Redis <br/>\n",
    "- [Column] : Cassandra, HBase <br/>\n",
    "- Document {Key:{Key:Value}} = CouchDB, MongoDB <br/>"
   ]
  },
  {
   "cell_type": "markdown",
   "metadata": {},
   "source": [
    "## MongoDB\n",
    "- BSON(Binary JSON) based Key-Value Store<br/>\n",
    "- JSON type documents <br/>\n",
    "- Collection -> Document -> Key:Value Data"
   ]
  },
  {
   "cell_type": "markdown",
   "metadata": {},
   "source": [
    "### Requirements\n",
    "- DB instance(mLab) <br/>\n",
    "- pymongo (pip install pymongo) <br/>\n",
    "- pandas (pip install pandas) <br/>\n",
    "- requests (pip install requests) <br/>\n",
    "- jupyter notebook (pip install jupyter) <br/>"
   ]
  },
  {
   "cell_type": "markdown",
   "metadata": {},
   "source": [
    "# MongoDB with Jupyter Notebook"
   ]
  },
  {
   "cell_type": "code",
   "execution_count": 21,
   "metadata": {},
   "outputs": [],
   "source": [
    "import requests\n",
    "from pymongo import MongoClient"
   ]
  },
  {
   "cell_type": "code",
   "execution_count": 20,
   "metadata": {},
   "outputs": [],
   "source": [
    "mongo_uri = \"mongodb://<mLabusername>:<mLabpassword>@ds145299.mlab.com:45299/mydbinstance\""
   ]
  },
  {
   "cell_type": "code",
   "execution_count": 22,
   "metadata": {},
   "outputs": [],
   "source": [
    "client = MongoClient(mongo_uri) "
   ]
  },
  {
   "cell_type": "code",
   "execution_count": 24,
   "metadata": {},
   "outputs": [
    {
     "name": "stderr",
     "output_type": "stream",
     "text": [
      "c:\\python37\\lib\\site-packages\\ipykernel_launcher.py:1: DeprecationWarning: collection_names is deprecated. Use list_collection_names instead.\n",
      "  \"\"\"Entry point for launching an IPython kernel.\n"
     ]
    },
    {
     "data": {
      "text/plain": [
       "['system.indexes', 'users']"
      ]
     },
     "execution_count": 24,
     "metadata": {},
     "output_type": "execute_result"
    }
   ],
   "source": [
    "client.mydbinstance.collection_names()"
   ]
  },
  {
   "cell_type": "code",
   "execution_count": 25,
   "metadata": {},
   "outputs": [],
   "source": [
    "db = client.mydbinstance"
   ]
  },
  {
   "cell_type": "code",
   "execution_count": 26,
   "metadata": {},
   "outputs": [
    {
     "data": {
      "text/plain": [
       "Collection(Database(MongoClient(host=['ds145299.mlab.com:45299'], document_class=dict, tz_aware=False, connect=True), 'mydbinstance'), 'users')"
      ]
     },
     "execution_count": 26,
     "metadata": {},
     "output_type": "execute_result"
    }
   ],
   "source": [
    "db.users"
   ]
  },
  {
   "cell_type": "code",
   "execution_count": 27,
   "metadata": {},
   "outputs": [
    {
     "data": {
      "text/plain": [
       "Collection(Database(MongoClient(host=['ds145299.mlab.com:45299'], document_class=dict, tz_aware=False, connect=True), 'mydbinstance'), 'users')"
      ]
     },
     "execution_count": 27,
     "metadata": {},
     "output_type": "execute_result"
    }
   ],
   "source": [
    "db[\"users\"]"
   ]
  },
  {
   "cell_type": "code",
   "execution_count": 29,
   "metadata": {},
   "outputs": [],
   "source": [
    "users_collection = db.users"
   ]
  },
  {
   "cell_type": "markdown",
   "metadata": {},
   "source": [
    "## INSERT : insert_one(), insert_many()"
   ]
  },
  {
   "cell_type": "code",
   "execution_count": 30,
   "metadata": {},
   "outputs": [
    {
     "data": {
      "text/plain": [
       "<pymongo.results.InsertOneResult at 0x26bd95dd848>"
      ]
     },
     "execution_count": 30,
     "metadata": {},
     "output_type": "execute_result"
    }
   ],
   "source": [
    "some_user = {\n",
    "    \"name\" : \"Fastcampus Kim\",\n",
    "    \"email\" : \"fckim@fastcampus.co.kr\",\n",
    "}\n",
    "\n",
    "users_collection.insert_one(some_user)"
   ]
  },
  {
   "cell_type": "code",
   "execution_count": 32,
   "metadata": {},
   "outputs": [
    {
     "data": {
      "text/plain": [
       "<pymongo.results.InsertManyResult at 0x26bd95c6c88>"
      ]
     },
     "execution_count": 32,
     "metadata": {},
     "output_type": "execute_result"
    }
   ],
   "source": [
    "lots_of_users = [\n",
    "    {\n",
    "        \"name\": \"jyp\",\n",
    "        \"email\": \"jyp@fastcampus.co.kr\"\n",
    "     }, \n",
    "    {\n",
    "        \"name\" : \"gd\",\n",
    "        \"address\" : \"Seoul, Korea\"\n",
    "    }, \n",
    "    {\n",
    "        \"name\" : \"Sbucks\"\n",
    "    }]\n",
    "\n",
    "users_collection.insert_many(lots_of_users)"
   ]
  },
  {
   "cell_type": "markdown",
   "metadata": {},
   "source": [
    "## SELECT : find_one(), find()"
   ]
  },
  {
   "cell_type": "code",
   "execution_count": 33,
   "metadata": {},
   "outputs": [
    {
     "data": {
      "text/plain": [
       "{'_id': ObjectId('5c398d87a6bb5b6cc4db1d32'),\n",
       " 'name': 'Fastcampus Kim',\n",
       " 'email': 'fckim@fastcampus.co.kr'}"
      ]
     },
     "execution_count": 33,
     "metadata": {},
     "output_type": "execute_result"
    }
   ],
   "source": [
    "query = {}\n",
    "users_collection.find_one(query)"
   ]
  },
  {
   "cell_type": "code",
   "execution_count": 35,
   "metadata": {},
   "outputs": [
    {
     "data": {
      "text/plain": [
       "[{'_id': ObjectId('5c398d87a6bb5b6cc4db1d32'),\n",
       "  'name': 'Fastcampus Kim',\n",
       "  'email': 'fckim@fastcampus.co.kr'},\n",
       " {'_id': ObjectId('5c399361a6bb5b6cc4db1d33'),\n",
       "  'name': 'jyp',\n",
       "  'email': 'jyp@fastcampus.co.kr'},\n",
       " {'_id': ObjectId('5c399361a6bb5b6cc4db1d34'),\n",
       "  'name': 'gd',\n",
       "  'address': 'Seoul, Korea'},\n",
       " {'_id': ObjectId('5c399361a6bb5b6cc4db1d35'), 'name': 'Sbucks'}]"
      ]
     },
     "execution_count": 35,
     "metadata": {},
     "output_type": "execute_result"
    }
   ],
   "source": [
    "query = {}\n",
    "list(users_collection.find(query))"
   ]
  },
  {
   "cell_type": "code",
   "execution_count": 36,
   "metadata": {},
   "outputs": [
    {
     "data": {
      "text/plain": [
       "[{'_id': ObjectId('5c398d87a6bb5b6cc4db1d32'),\n",
       "  'name': 'Fastcampus Kim',\n",
       "  'email': 'fckim@fastcampus.co.kr'},\n",
       " {'_id': ObjectId('5c399361a6bb5b6cc4db1d33'),\n",
       "  'name': 'jyp',\n",
       "  'email': 'jyp@fastcampus.co.kr'},\n",
       " {'_id': ObjectId('5c399361a6bb5b6cc4db1d34'),\n",
       "  'name': 'gd',\n",
       "  'address': 'Seoul, Korea'},\n",
       " {'_id': ObjectId('5c399361a6bb5b6cc4db1d35'), 'name': 'Sbucks'}]"
      ]
     },
     "execution_count": 36,
     "metadata": {},
     "output_type": "execute_result"
    }
   ],
   "source": [
    "#same result as above\n",
    "[item for item in users_collection.find(query)]"
   ]
  },
  {
   "cell_type": "code",
   "execution_count": 37,
   "metadata": {},
   "outputs": [
    {
     "data": {
      "text/plain": [
       "['Fastcampus Kim', 'jyp', 'gd', 'Sbucks']"
      ]
     },
     "execution_count": 37,
     "metadata": {},
     "output_type": "execute_result"
    }
   ],
   "source": [
    "[item[\"name\"] for item in users_collection.find(query)]"
   ]
  },
  {
   "cell_type": "code",
   "execution_count": 38,
   "metadata": {},
   "outputs": [
    {
     "data": {
      "text/plain": [
       "[{'_id': ObjectId('5c399361a6bb5b6cc4db1d33'),\n",
       "  'name': 'jyp',\n",
       "  'email': 'jyp@fastcampus.co.kr'}]"
      ]
     },
     "execution_count": 38,
     "metadata": {},
     "output_type": "execute_result"
    }
   ],
   "source": [
    "# SELECT the data WHERE name = \"jyp\"\n",
    "query = {\n",
    "    \"name\": \"jyp\",\n",
    "}\n",
    "list(users_collection.find(query))"
   ]
  },
  {
   "cell_type": "markdown",
   "metadata": {},
   "source": [
    "<img src=\"./img/nosql_operator.png\" width=\"800\" style=\"float: left\">"
   ]
  },
  {
   "cell_type": "code",
   "execution_count": 40,
   "metadata": {},
   "outputs": [
    {
     "data": {
      "text/plain": [
       "[{'_id': ObjectId('5c399361a6bb5b6cc4db1d33'),\n",
       "  'name': 'jyp',\n",
       "  'email': 'jyp@fastcampus.co.kr'},\n",
       " {'_id': ObjectId('5c399361a6bb5b6cc4db1d34'),\n",
       "  'name': 'gd',\n",
       "  'address': 'Seoul, Korea'}]"
      ]
     },
     "execution_count": 40,
     "metadata": {},
     "output_type": "execute_result"
    }
   ],
   "source": [
    "# SELECT the data WHERE name in [\"jyp\", \"gd\"]\n",
    "query = {\n",
    "    \"name\": {\n",
    "        \"$in\": [\"jyp\", \"gd\"]\n",
    "    }\n",
    "}\n",
    "list(users_collection.find(query))"
   ]
  },
  {
   "cell_type": "markdown",
   "metadata": {},
   "source": [
    "## Zigbang example"
   ]
  },
  {
   "cell_type": "code",
   "execution_count": 41,
   "metadata": {},
   "outputs": [],
   "source": [
    "bigbang_collection = db.bigbang"
   ]
  },
  {
   "cell_type": "code",
   "execution_count": 49,
   "metadata": {},
   "outputs": [
    {
     "data": {
      "text/plain": [
       "<Response [200]>"
      ]
     },
     "execution_count": 49,
     "metadata": {},
     "output_type": "execute_result"
    }
   ],
   "source": [
    "url = \"https://apis.zigbang.com/v3/items?detail=true&item_ids=[14388831,14284983,14538654,14187437,14359880,14398188,14399002,14454456,14398156,14398265,14455800,14360392,14472148,14507858,14454383,14511262,14407326,14470986,14398229,14455772,14397994,14164631,14317786,14271650,14359830,14512053,14455741,14062510,14324683,14269988,14169764,14328611,14536531,14321635,14398108,14467241,14448306,14226360,14467013,14317887,14513370,13416109,14165519,14263914,14222733,14254448,14203858,14328661,14241599,14407024,14138253,14527248,14175178,14147978,14178200,14218025,14285394,14219393,14210656,14258795]\"\n",
    "requests.get(url)"
   ]
  },
  {
   "cell_type": "code",
   "execution_count": 50,
   "metadata": {},
   "outputs": [],
   "source": [
    "data = requests.get(url).json()['items']"
   ]
  },
  {
   "cell_type": "code",
   "execution_count": 51,
   "metadata": {},
   "outputs": [
    {
     "name": "stderr",
     "output_type": "stream",
     "text": [
      "c:\\python37\\lib\\site-packages\\ipykernel_launcher.py:3: DeprecationWarning: count is deprecated. Use Collection.count_documents instead.\n",
      "  This is separate from the ipykernel package so we can avoid doing imports until\n"
     ]
    },
    {
     "data": {
      "text/plain": [
       "60"
      ]
     },
     "execution_count": 51,
     "metadata": {},
     "output_type": "execute_result"
    }
   ],
   "source": [
    "bigbang_collection.insert_many(data)\n",
    "\n",
    "bigbang_collection.find({}).count()"
   ]
  },
  {
   "cell_type": "code",
   "execution_count": 52,
   "metadata": {},
   "outputs": [
    {
     "data": {
      "text/plain": [
       "{'_id': ObjectId('5c399b2ea6bb5b6cc4db1d39'),\n",
       " 'title': '세종시 조치원읍 침산리',\n",
       " 'header': False,\n",
       " 'header_height': 0,\n",
       " 'item': {'id': 14187437,\n",
       "  'images': [{'index': 0,\n",
       "    'count': 1,\n",
       "    'url': 'https://ic.zigbang.com/ic/items/14187437/1.jpg'},\n",
       "   {'index': 1,\n",
       "    'count': 2,\n",
       "    'url': 'https://ic.zigbang.com/ic/items/14187437/2.jpg'},\n",
       "   {'index': 2,\n",
       "    'count': 3,\n",
       "    'url': 'https://ic.zigbang.com/ic/items/14187437/3.jpg'},\n",
       "   {'index': 3,\n",
       "    'count': 4,\n",
       "    'url': 'https://ic.zigbang.com/ic/items/14187437/4.jpg'},\n",
       "   {'index': 4,\n",
       "    'count': 5,\n",
       "    'url': 'https://ic.zigbang.com/ic/items/14187437/5.jpg'},\n",
       "   {'index': 5,\n",
       "    'count': 6,\n",
       "    'url': 'https://ic.zigbang.com/ic/items/14187437/6.jpg'},\n",
       "   {'index': 6,\n",
       "    'count': 7,\n",
       "    'url': 'https://ic.zigbang.com/ic/items/14187437/7.jpg'}],\n",
       "  'is_realestate': True,\n",
       "  'is_direct': False,\n",
       "  'is_room': False,\n",
       "  'is_type_room': False,\n",
       "  'rent': 23,\n",
       "  'deposit': 100,\n",
       "  'is_deposit_only': False,\n",
       "  'floor': '3층',\n",
       "  '_floor': '3층',\n",
       "  'floor_all': '4층',\n",
       "  'local1': '세종시',\n",
       "  'local2': '세종',\n",
       "  'local3': '조치원읍',\n",
       "  'title': '침산리 소재. 분리형의 풀옵션.조치원역까지 도보 10여분.',\n",
       "  'room_type': '분리형 원룸',\n",
       "  'room_type_code': '02',\n",
       "  'building_type': '다세대건물',\n",
       "  'room_gubun_code': '01',\n",
       "  'status': '광고중',\n",
       "  'is_status_open': True,\n",
       "  'is_status_close': False,\n",
       "  'view_count': '386',\n",
       "  'updated_at': '27일 전',\n",
       "  'updated_at2': '2018-12-16',\n",
       "  'read_updated_at': '2001-01-01',\n",
       "  'size_m2': 19.83,\n",
       "  'size': 6,\n",
       "  'size_m2_contract': '-',\n",
       "  'size_contract': 0,\n",
       "  'address1': '세종시 조치원읍 침산리',\n",
       "  'near_subways': '-',\n",
       "  'random_location': '36.604689605010954,127.29354630740082',\n",
       "  'options': '에어컨,냉장고,세탁기,가스레인지,옷장,신발장,싱크대',\n",
       "  'manage_cost': '3만원',\n",
       "  'manage_cost_inc': '수도,인터넷,TV',\n",
       "  'parking': '가능',\n",
       "  'elevator': '없음',\n",
       "  'movein_date': '즉시입주',\n",
       "  'description': '조치원읍 침산리에 소재한 저렴한 원룸. 조치원역/ 고려대학교까지 도보 10분이내 입니다. 주변에 편의점/상가/마트 등이 있어 생활하시기에 편리합니다.\\r\\n제가 직접 관리하는 건물이라 안심하고 입주하시도 됩니다. ',\n",
       "  'description_og': '조치원읍 침산리에 소재한 저렴한 원룸. 조치원역/ 고려대학교까지 도보 10분이내 입니다. 주변에 편의점/상가/마트 등이 있어 생활하시기에 편리합니다.\\r\\n제가 직접 관리하는 건물이라 안심하고 입주하시도 됩니다. ',\n",
       "  'pets_text': '확인필요',\n",
       "  'loan_text': '확인필요',\n",
       "  'room_direction_text': '확인필요',\n",
       "  'is_owner': False,\n",
       "  'images_thumbnail': '/items/14187437/1.jpg',\n",
       "  'is_zzim': False,\n",
       "  'secret_memo': None,\n",
       "  'user_no': 42423,\n",
       "  'user_has_penalty': False,\n",
       "  'user_has_no_penalty': True,\n",
       "  'user_name': '대표공인중개사 허재삼',\n",
       "  'user_phone': '0507-1280-7383',\n",
       "  'original_user_phone': '010-3039-5730',\n",
       "  'user_mobile': '0507-1280-7383',\n",
       "  'user_email': 'hjs3721@hanmail.net',\n",
       "  'user_intro': '안녕하세요. 세종허재삼공인중개사무소 입니다.\\n다년간의 중개 업무를 통한 책임있는 중개,\\n내 가족이 사는 집을 구한다는 마음가짐으로 안내해드리겠습니다.',\n",
       "  'agent_name': '세종허재삼공인중개사(허재삼)',\n",
       "  'agent_no': 0,\n",
       "  'agent_phone': '010-3039-5730',\n",
       "  'agent_mobile': '0507-1280-7383',\n",
       "  'agent_email': 'hjs3721@hanmail.net',\n",
       "  'agent_local1': '세종시',\n",
       "  'agent_local2': '세종',\n",
       "  'agent_address1': '세종특별자치시 조치원읍 문화길 39',\n",
       "  'agent_lng': 127.289307,\n",
       "  'agent_lat': 36.60293000000001,\n",
       "  'building': None,\n",
       "  'contract': '세종특별자치시',\n",
       "  'bjd_code': '',\n",
       "  'bonbun_code': '257',\n",
       "  'bubun_code': '6',\n",
       "  'address2': '257-6',\n",
       "  'address3': None,\n",
       "  'is_premium': True,\n",
       "  'is_premium2': True,\n",
       "  'is_homepage': True,\n",
       "  'profile_url': 'http://ic.zigbang.com/vp/profile/42423/4603bc763e07d2dbdc40823ce6c63cdcf8ad0d52.jpg',\n",
       "  'agent_comment': '',\n",
       "  'premium_items': [],\n",
       "  'pnu': '3611025028102570006'}}"
      ]
     },
     "execution_count": 52,
     "metadata": {},
     "output_type": "execute_result"
    }
   ],
   "source": [
    "# Inspect the first json data using find_one()\n",
    "bigbang_collection.find_one({})"
   ]
  },
  {
   "cell_type": "code",
   "execution_count": 54,
   "metadata": {},
   "outputs": [
    {
     "data": {
      "text/plain": [
       "23"
      ]
     },
     "execution_count": 54,
     "metadata": {},
     "output_type": "execute_result"
    }
   ],
   "source": [
    "# get rent \n",
    "query = {}\n",
    "\n",
    "bigbang_collection.find_one(query)[\"item\"][\"rent\"]"
   ]
  },
  {
   "cell_type": "code",
   "execution_count": 59,
   "metadata": {},
   "outputs": [
    {
     "data": {
      "text/plain": [
       "100"
      ]
     },
     "execution_count": 59,
     "metadata": {},
     "output_type": "execute_result"
    }
   ],
   "source": [
    "# get deposit\n",
    "query = {}\n",
    "\n",
    "bigbang_collection.find_one(query)[\"item\"][\"deposit\"]"
   ]
  },
  {
   "cell_type": "code",
   "execution_count": 68,
   "metadata": {},
   "outputs": [
    {
     "data": {
      "text/plain": [
       "55"
      ]
     },
     "execution_count": 68,
     "metadata": {},
     "output_type": "execute_result"
    }
   ],
   "source": [
    "# get items where 100<= deposit <= 2000 and rent <= 50 from bigbang_collection\n",
    "query = {\n",
    "    \"$or\": [\n",
    "        {\n",
    "            \"item.deposit\":{\n",
    "                \"$lte\":2000,\n",
    "                \"$gte\":100,\n",
    "            }\n",
    "        },\n",
    "        {\n",
    "            \"item.rent\":{\n",
    "                \"$lte\":50,\n",
    "            }\n",
    "        }\n",
    "    ]\n",
    "}\n",
    "\n",
    "len(list(bigbang_collection.find(query)))"
   ]
  },
  {
   "cell_type": "markdown",
   "metadata": {},
   "source": [
    "## Naver realtime keyword example"
   ]
  },
  {
   "cell_type": "code",
   "execution_count": 82,
   "metadata": {},
   "outputs": [],
   "source": [
    "from bs4 import BeautifulSoup\n",
    "from time import ctime"
   ]
  },
  {
   "cell_type": "code",
   "execution_count": 83,
   "metadata": {},
   "outputs": [
    {
     "data": {
      "text/plain": [
       "<pymongo.results.InsertOneResult at 0x26bd9edc848>"
      ]
     },
     "execution_count": 83,
     "metadata": {},
     "output_type": "execute_result"
    }
   ],
   "source": [
    "html = requests.get('https://www.naver.com/').text\n",
    "executed_time = ctime() #value1\n",
    "\n",
    "soup = BeautifulSoup(html, 'html.parser')\n",
    "kw_list = soup.find(\"ul\", attrs={\"class\": \"ah_l\"})\n",
    "all_li = kw_list.find_all(\"span\", attrs={\"class\":\"ah_k\"})\n",
    "result = [] #value2\n",
    "for li in all_li:\n",
    "    result.append(li.text)\n",
    "    \n",
    "result\n",
    "#result = ['','','']\n",
    "#{\"executed\": \"2019-01-12 17:25:00\",\n",
    "# \"keywords\": [\"스카이캐슬..\", \"\"]}\n",
    "\n",
    "nv_collection = db.nvkwlist\n",
    "\n",
    "data = {\n",
    "    \"executed\": executed_time,\n",
    "    \"keywords\": result,\n",
    "}\n",
    "\n",
    "nv_collection.insert_one(data)"
   ]
  },
  {
   "cell_type": "code",
   "execution_count": 84,
   "metadata": {},
   "outputs": [
    {
     "data": {
      "text/plain": [
       "{'_id': ObjectId('5c39a65da6bb5b6cc4db1d72'),\n",
       " 'executed': 'Sat Jan 12 17:33:33 2019',\n",
       " 'keywords': ['스카이캐슬 스포',\n",
       "  '주진모',\n",
       "  '몽키킹3',\n",
       "  '어뜨무러차',\n",
       "  '박소연',\n",
       "  '베트남 이란',\n",
       "  '음악중심',\n",
       "  '자이글 롤링쿡스',\n",
       "  '모아나',\n",
       "  '청파동 냉면집',\n",
       "  '만물상아귀찜',\n",
       "  '신애라',\n",
       "  '허안나',\n",
       "  '황교안',\n",
       "  '미세먼지 비상저감조치',\n",
       "  '한국 중국',\n",
       "  '케어',\n",
       "  '말리와 나',\n",
       "  'sky 캐슬 스포',\n",
       "  '쇼음악중심']}"
      ]
     },
     "execution_count": 84,
     "metadata": {},
     "output_type": "execute_result"
    }
   ],
   "source": [
    "nv_collection.find_one({})"
   ]
  },
  {
   "cell_type": "code",
   "execution_count": null,
   "metadata": {},
   "outputs": [],
   "source": []
  },
  {
   "cell_type": "code",
   "execution_count": null,
   "metadata": {},
   "outputs": [],
   "source": []
  },
  {
   "cell_type": "code",
   "execution_count": null,
   "metadata": {},
   "outputs": [],
   "source": []
  },
  {
   "cell_type": "code",
   "execution_count": null,
   "metadata": {},
   "outputs": [],
   "source": []
  },
  {
   "cell_type": "code",
   "execution_count": null,
   "metadata": {},
   "outputs": [],
   "source": []
  },
  {
   "cell_type": "code",
   "execution_count": null,
   "metadata": {},
   "outputs": [],
   "source": []
  },
  {
   "cell_type": "code",
   "execution_count": null,
   "metadata": {},
   "outputs": [],
   "source": []
  },
  {
   "cell_type": "code",
   "execution_count": null,
   "metadata": {},
   "outputs": [],
   "source": []
  }
 ],
 "metadata": {
  "kernelspec": {
   "display_name": "Python 3",
   "language": "python",
   "name": "python3"
  },
  "language_info": {
   "codemirror_mode": {
    "name": "ipython",
    "version": 3
   },
   "file_extension": ".py",
   "mimetype": "text/x-python",
   "name": "python",
   "nbconvert_exporter": "python",
   "pygments_lexer": "ipython3",
   "version": "3.7.1"
  }
 },
 "nbformat": 4,
 "nbformat_minor": 2
}

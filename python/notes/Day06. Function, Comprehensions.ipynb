{
 "cells": [
  {
   "cell_type": "code",
   "execution_count": 23,
   "metadata": {},
   "outputs": [],
   "source": [
    "import math\n",
    "import time"
   ]
  },
  {
   "cell_type": "code",
   "execution_count": 2,
   "metadata": {},
   "outputs": [
    {
     "name": "stdout",
     "output_type": "stream",
     "text": [
      "helloworld\n",
      "hello\n"
     ]
    }
   ],
   "source": [
    "a = \"hello\"\n",
    "\n",
    "def glob_test(a):\n",
    "    a += \"world\"\n",
    "    return a\n",
    "\n",
    "result = glob_test(a)\n",
    "print(result)\n",
    "print(a)\n",
    "#함수의 수행값이 a에 영향을 미치지 않음. a가 global variable이기때문에"
   ]
  },
  {
   "cell_type": "code",
   "execution_count": 4,
   "metadata": {},
   "outputs": [
    {
     "name": "stdout",
     "output_type": "stream",
     "text": [
      "helloworld\n",
      "hello\n"
     ]
    }
   ],
   "source": [
    "a = \"hello\"\n",
    "\n",
    "def glob_test2(text):\n",
    "    text += \"world\"\n",
    "    return text\n",
    "\n",
    "result = glob_test2(a)\n",
    "print(result)\n",
    "print(a)"
   ]
  },
  {
   "cell_type": "code",
   "execution_count": 6,
   "metadata": {},
   "outputs": [
    {
     "name": "stdout",
     "output_type": "stream",
     "text": [
      "helloworld\n",
      "helloworld\n"
     ]
    }
   ],
   "source": [
    "#1 global\n",
    "a = \"hello\"\n",
    "\n",
    "def global_keyword(x):\n",
    "    global a\n",
    "    a += x\n",
    "    return a\n",
    "\n",
    "result = global_keyword(\"world\")\n",
    "print(result)\n",
    "print(a)"
   ]
  },
  {
   "cell_type": "code",
   "execution_count": 8,
   "metadata": {},
   "outputs": [
    {
     "ename": "NameError",
     "evalue": "name 'fastcampus' is not defined",
     "output_type": "error",
     "traceback": [
      "\u001b[1;31m---------------------------------------------------------------------------\u001b[0m",
      "\u001b[1;31mNameError\u001b[0m                                 Traceback (most recent call last)",
      "\u001b[1;32m<ipython-input-8-70e6fb07a71c>\u001b[0m in \u001b[0;36m<module>\u001b[1;34m\u001b[0m\n\u001b[0;32m      7\u001b[0m     \u001b[1;32mreturn\u001b[0m \u001b[0mfastcampus\u001b[0m\u001b[1;33m\u001b[0m\u001b[1;33m\u001b[0m\u001b[0m\n\u001b[0;32m      8\u001b[0m \u001b[1;33m\u001b[0m\u001b[0m\n\u001b[1;32m----> 9\u001b[1;33m \u001b[0mresult\u001b[0m \u001b[1;33m=\u001b[0m \u001b[0mglobal_keyword\u001b[0m\u001b[1;33m(\u001b[0m\u001b[1;34m\"world\"\u001b[0m\u001b[1;33m)\u001b[0m\u001b[1;33m\u001b[0m\u001b[1;33m\u001b[0m\u001b[0m\n\u001b[0m\u001b[0;32m     10\u001b[0m \u001b[0mprint\u001b[0m\u001b[1;33m(\u001b[0m\u001b[0mfastcampus\u001b[0m\u001b[1;33m)\u001b[0m\u001b[1;33m\u001b[0m\u001b[1;33m\u001b[0m\u001b[0m\n\u001b[0;32m     11\u001b[0m \u001b[1;33m\u001b[0m\u001b[0m\n",
      "\u001b[1;32m<ipython-input-8-70e6fb07a71c>\u001b[0m in \u001b[0;36mglobal_keyword\u001b[1;34m(x)\u001b[0m\n\u001b[0;32m      4\u001b[0m \u001b[1;32mdef\u001b[0m \u001b[0mglobal_keyword\u001b[0m\u001b[1;33m(\u001b[0m\u001b[0mx\u001b[0m\u001b[1;33m)\u001b[0m\u001b[1;33m:\u001b[0m\u001b[1;33m\u001b[0m\u001b[1;33m\u001b[0m\u001b[0m\n\u001b[0;32m      5\u001b[0m     \u001b[1;32mglobal\u001b[0m \u001b[0mfastcampus\u001b[0m\u001b[1;33m\u001b[0m\u001b[1;33m\u001b[0m\u001b[0m\n\u001b[1;32m----> 6\u001b[1;33m     \u001b[0mfastcampus\u001b[0m \u001b[1;33m+=\u001b[0m \u001b[0mx\u001b[0m\u001b[1;33m\u001b[0m\u001b[1;33m\u001b[0m\u001b[0m\n\u001b[0m\u001b[0;32m      7\u001b[0m     \u001b[1;32mreturn\u001b[0m \u001b[0mfastcampus\u001b[0m\u001b[1;33m\u001b[0m\u001b[1;33m\u001b[0m\u001b[0m\n\u001b[0;32m      8\u001b[0m \u001b[1;33m\u001b[0m\u001b[0m\n",
      "\u001b[1;31mNameError\u001b[0m: name 'fastcampus' is not defined"
     ]
    }
   ],
   "source": [
    "#global의 side effect\n",
    "a = \"hello\"\n",
    "\n",
    "def global_keyword(x):\n",
    "    global fastcampus\n",
    "    fastcampus += x\n",
    "    return fastcampus\n",
    "\n",
    "result = global_keyword(\"world\")\n",
    "print(fastcampus)\n",
    "\n",
    "#fastcampus가 밖에 지정되어 있지 않아서 name error"
   ]
  },
  {
   "cell_type": "code",
   "execution_count": 10,
   "metadata": {},
   "outputs": [
    {
     "name": "stdout",
     "output_type": "stream",
     "text": [
      "helloworld\n",
      "helloworld\n"
     ]
    }
   ],
   "source": [
    "#2 avoid global keyword\n",
    "\n",
    "a = \"hello\"\n",
    "\n",
    "def global_keyword(x):\n",
    "    global a\n",
    "    a += x\n",
    "    return a\n",
    "\n",
    "a= global_keyword(\"world\")\n",
    "print(result)\n",
    "print(a)"
   ]
  },
  {
   "cell_type": "markdown",
   "metadata": {},
   "source": [
    "## Recursion\n",
    "def name_of_function():\n",
    "    #...\n",
    "    #...\n",
    "    #return name_of_funtion()"
   ]
  },
  {
   "cell_type": "code",
   "execution_count": 11,
   "metadata": {},
   "outputs": [],
   "source": [
    "def recurse_beast(trial):\n",
    "    if trial <= 0:\n",
    "        return \"Curse Complete\"\n",
    "    else:\n",
    "        print(\"Fusion! ({} times left.)\".format(trial-1))\n",
    "        return recurse_beast(trial-1)\n",
    "    "
   ]
  },
  {
   "cell_type": "code",
   "execution_count": 12,
   "metadata": {},
   "outputs": [
    {
     "name": "stdout",
     "output_type": "stream",
     "text": [
      "How many times do you want to curse? 10\n",
      "Fusion! (9 times left.)\n",
      "Fusion! (8 times left.)\n",
      "Fusion! (7 times left.)\n",
      "Fusion! (6 times left.)\n",
      "Fusion! (5 times left.)\n",
      "Fusion! (4 times left.)\n",
      "Fusion! (3 times left.)\n",
      "Fusion! (2 times left.)\n",
      "Fusion! (1 times left.)\n",
      "Fusion! (0 times left.)\n"
     ]
    },
    {
     "data": {
      "text/plain": [
       "'Curse Complete'"
      ]
     },
     "execution_count": 12,
     "metadata": {},
     "output_type": "execute_result"
    }
   ],
   "source": [
    "recurse_beast(int(input(\"How many times do you want to curse? \")))"
   ]
  },
  {
   "cell_type": "code",
   "execution_count": 14,
   "metadata": {},
   "outputs": [],
   "source": [
    "def sum_of_num_rec(num):\n",
    "    result += num\n",
    "    return sum_of_num_rec(num-1)"
   ]
  },
  {
   "cell_type": "markdown",
   "metadata": {},
   "source": [
    "### Fibonacci Sequence"
   ]
  },
  {
   "cell_type": "code",
   "execution_count": 15,
   "metadata": {},
   "outputs": [],
   "source": [
    "def fib_rec(num):\n",
    "    if num <= 1:\n",
    "        return num\n",
    "    else:\n",
    "        return fib_rec(num-2) + fib_rec(num-1)"
   ]
  },
  {
   "cell_type": "code",
   "execution_count": 18,
   "metadata": {},
   "outputs": [
    {
     "name": "stdout",
     "output_type": "stream",
     "text": [
      "0\n",
      "1\n",
      "1\n",
      "2\n",
      "3\n",
      "5\n"
     ]
    }
   ],
   "source": [
    "for i in range(0, 5+1):\n",
    "    print(fib_rec(i))"
   ]
  },
  {
   "cell_type": "markdown",
   "metadata": {},
   "source": [
    "### Binet's Fibonacci formula"
   ]
  },
  {
   "cell_type": "code",
   "execution_count": 24,
   "metadata": {},
   "outputs": [],
   "source": [
    "def fib_binet(num):\n",
    "    if num < 0:\n",
    "        return \"Wrong!\"\n",
    "    else:\n",
    "        sqrt_5 = math.sqrt(5)\n",
    "        result = int(((1+sqrt_5)**num - (1-sqrt_5)**num)/((2**num)*sqrt_5))\n",
    "        return result\n"
   ]
  },
  {
   "cell_type": "code",
   "execution_count": 25,
   "metadata": {},
   "outputs": [
    {
     "name": "stdout",
     "output_type": "stream",
     "text": [
      "Wrong!\n",
      "0\n",
      "1\n",
      "1\n",
      "2\n",
      "3\n",
      "5\n",
      "8\n",
      "13\n",
      "21\n",
      "34\n",
      "55\n"
     ]
    }
   ],
   "source": [
    "for i in range(-1, 10+1):\n",
    "    print(fib_binet(i))"
   ]
  },
  {
   "cell_type": "code",
   "execution_count": 28,
   "metadata": {},
   "outputs": [
    {
     "name": "stdout",
     "output_type": "stream",
     "text": [
      "0.0009968280792236328\n"
     ]
    }
   ],
   "source": [
    "start = time.time()\n",
    "\n",
    "result = 0\n",
    "for i in range(1000):\n",
    "    result += i\n",
    "    \n",
    "end = time.time()\n",
    "print(end-start)"
   ]
  },
  {
   "cell_type": "code",
   "execution_count": 29,
   "metadata": {},
   "outputs": [
    {
     "name": "stdout",
     "output_type": "stream",
     "text": [
      "0.28427886962890625\n"
     ]
    }
   ],
   "source": [
    "start = time.time()\n",
    "\n",
    "fib_rec(30)\n",
    "\n",
    "end = time.time()\n",
    "print(end - start)"
   ]
  },
  {
   "cell_type": "code",
   "execution_count": 30,
   "metadata": {},
   "outputs": [
    {
     "name": "stdout",
     "output_type": "stream",
     "text": [
      "0.0\n"
     ]
    }
   ],
   "source": [
    "start = time.time()\n",
    "\n",
    "fib_binet(30)\n",
    "\n",
    "end = time.time()\n",
    "print(end - start)"
   ]
  },
  {
   "cell_type": "markdown",
   "metadata": {},
   "source": [
    "### Small Project\n",
    "#### 사용자의 입력 num (0~950 사이의 정수)을 받아 1에서 num까지의 모든 자연수의 곱(팩토리얼)을 구하는 함수를 recursive, iterative로 각각 구하기"
   ]
  },
  {
   "cell_type": "code",
   "execution_count": 35,
   "metadata": {},
   "outputs": [
    {
     "name": "stdout",
     "output_type": "stream",
     "text": [
      "0~950사이의 정수를 입력하세요: 3\n",
      "3!은 6입니다\n"
     ]
    }
   ],
   "source": [
    "#1: recursive\n",
    "num = int(input(\"0~950사이의 정수를 입력하세요: \"))\n",
    "\n",
    "def factorial_rec(num):\n",
    "    if num < 2:\n",
    "        return 1\n",
    "    else:\n",
    "        return num * factorial_rec(num-1)\n",
    "    \n",
    "print(str(num) + \"!은 \"+ str(factorial_rec(num))+\"입니다\")"
   ]
  },
  {
   "cell_type": "code",
   "execution_count": 43,
   "metadata": {},
   "outputs": [
    {
     "name": "stdout",
     "output_type": "stream",
     "text": [
      "0~950사이의 정수를 입력하세요: 3\n",
      "3!은 6입니다\n"
     ]
    }
   ],
   "source": [
    "#2: iterative\n",
    "num = int(input(\"0~950사이의 정수를 입력하세요: \"))\n",
    "\n",
    "def factorial_iter(num):\n",
    "    if num < 2:\n",
    "        return 1\n",
    "    else:\n",
    "        result = 1\n",
    "        for i in range(1, num+1):\n",
    "            result *= i\n",
    "        return result\n",
    "\n",
    "print(str(num) + \"!은 \"+ str(factorial_iter(num))+\"입니다\")"
   ]
  },
  {
   "cell_type": "markdown",
   "metadata": {},
   "source": [
    "## List Comprehension"
   ]
  },
  {
   "cell_type": "code",
   "execution_count": 47,
   "metadata": {},
   "outputs": [
    {
     "data": {
      "text/plain": [
       "[2, 4, 6, 8, 10]"
      ]
     },
     "execution_count": 47,
     "metadata": {},
     "output_type": "execute_result"
    }
   ],
   "source": [
    "old_list = [1,2,3,4,5]\n",
    "\n",
    "doubled_list = []\n",
    "for i in old_list:\n",
    "    doubled_list.append(i * 2)\n",
    "    \n",
    "doubled_list"
   ]
  },
  {
   "cell_type": "code",
   "execution_count": 48,
   "metadata": {},
   "outputs": [
    {
     "data": {
      "text/plain": [
       "[2, 4, 6, 8, 10]"
      ]
     },
     "execution_count": 48,
     "metadata": {},
     "output_type": "execute_result"
    }
   ],
   "source": [
    "doubled_list = [i * 2 for i in old_list]\n",
    "doubled_list"
   ]
  },
  {
   "cell_type": "code",
   "execution_count": 50,
   "metadata": {},
   "outputs": [
    {
     "data": {
      "text/plain": [
       "[1, 8, 27, 64, 125, 216, 343, 512, 729, 1000]"
      ]
     },
     "execution_count": 50,
     "metadata": {},
     "output_type": "execute_result"
    }
   ],
   "source": [
    "#1부터 45까지 돌면서 그 수의 세제곱 해서 새로운 리스트에 append 하기\n",
    "\n",
    "cube_list = [i**3 for i in range(1, 10+1)]\n",
    "cube_list"
   ]
  },
  {
   "cell_type": "code",
   "execution_count": 51,
   "metadata": {},
   "outputs": [
    {
     "data": {
      "text/plain": [
       "[8, 64, 216, 512, 1000]"
      ]
     },
     "execution_count": 51,
     "metadata": {},
     "output_type": "execute_result"
    }
   ],
   "source": [
    "#조건: i가 짝수일때만 일을 해라\n",
    "\n",
    "cube_list = []\n",
    "for i in range(1, 10+1):\n",
    "    if i%2 == 0:\n",
    "        cube_list.append(i ** 3)\n",
    "        \n",
    "cube_list"
   ]
  },
  {
   "cell_type": "code",
   "execution_count": 54,
   "metadata": {},
   "outputs": [
    {
     "data": {
      "text/plain": [
       "[8, 64, 216, 512, 1000]"
      ]
     },
     "execution_count": 54,
     "metadata": {},
     "output_type": "execute_result"
    }
   ],
   "source": [
    "#같은 문제를 list comprehension으로\n",
    "\n",
    "cube_list = [i ** 3 for i in range(1, 10+1) if i%2 == 0]\n",
    "cube_list"
   ]
  },
  {
   "cell_type": "markdown",
   "metadata": {},
   "source": [
    "### Small Project: Fizzbuzz"
   ]
  },
  {
   "cell_type": "code",
   "execution_count": 59,
   "metadata": {},
   "outputs": [
    {
     "data": {
      "text/plain": [
       "[1,\n",
       " 2,\n",
       " 'fizz',\n",
       " 4,\n",
       " 'buzz',\n",
       " 'fizz',\n",
       " 7,\n",
       " 8,\n",
       " 'fizz',\n",
       " 'buzz',\n",
       " 11,\n",
       " 'fizz',\n",
       " 13,\n",
       " 14,\n",
       " 'fizzbuzz',\n",
       " 16,\n",
       " 17,\n",
       " 'fizz',\n",
       " 19,\n",
       " 'buzz',\n",
       " 'fizz',\n",
       " 22,\n",
       " 23,\n",
       " 'fizz',\n",
       " 'buzz',\n",
       " 26,\n",
       " 'fizz',\n",
       " 28,\n",
       " 29,\n",
       " 'fizzbuzz',\n",
       " 31,\n",
       " 32,\n",
       " 'fizz',\n",
       " 34,\n",
       " 'buzz',\n",
       " 'fizz',\n",
       " 37,\n",
       " 38,\n",
       " 'fizz',\n",
       " 'buzz',\n",
       " 41,\n",
       " 'fizz',\n",
       " 43,\n",
       " 44,\n",
       " 'fizzbuzz',\n",
       " 46,\n",
       " 47,\n",
       " 'fizz',\n",
       " 49,\n",
       " 'buzz',\n",
       " 'fizz',\n",
       " 52,\n",
       " 53,\n",
       " 'fizz',\n",
       " 'buzz',\n",
       " 56,\n",
       " 'fizz',\n",
       " 58,\n",
       " 59,\n",
       " 'fizzbuzz',\n",
       " 61,\n",
       " 62,\n",
       " 'fizz',\n",
       " 64,\n",
       " 'buzz',\n",
       " 'fizz',\n",
       " 67,\n",
       " 68,\n",
       " 'fizz',\n",
       " 'buzz',\n",
       " 71,\n",
       " 'fizz',\n",
       " 73,\n",
       " 74,\n",
       " 'fizzbuzz',\n",
       " 76,\n",
       " 77,\n",
       " 'fizz',\n",
       " 79,\n",
       " 'buzz',\n",
       " 'fizz',\n",
       " 82,\n",
       " 83,\n",
       " 'fizz',\n",
       " 'buzz',\n",
       " 86,\n",
       " 'fizz',\n",
       " 88,\n",
       " 89,\n",
       " 'fizzbuzz',\n",
       " 91,\n",
       " 92,\n",
       " 'fizz',\n",
       " 94,\n",
       " 'buzz',\n",
       " 'fizz',\n",
       " 97,\n",
       " 98,\n",
       " 'fizz',\n",
       " 'buzz']"
      ]
     },
     "execution_count": 59,
     "metadata": {},
     "output_type": "execute_result"
    }
   ],
   "source": [
    "#if, elif\n",
    "\n",
    "num_list = [i for i in range(1, 100+1)]\n",
    "\n",
    "result_list = []\n",
    "\n",
    "for i in num_list:\n",
    "    if i % 15 == 0:\n",
    "        result_list.append(\"fizzbuzz\")\n",
    "    elif i % 3 == 0:\n",
    "        result_list.append(\"fizz\")\n",
    "    elif i % 5 == 0:\n",
    "        result_list.append(\"buzz\")\n",
    "    else:\n",
    "        result_list.append(i)\n",
    "        \n",
    "result_list"
   ]
  },
  {
   "cell_type": "code",
   "execution_count": 61,
   "metadata": {},
   "outputs": [
    {
     "data": {
      "text/plain": [
       "[1,\n",
       " 2,\n",
       " 'fizz',\n",
       " 4,\n",
       " 'buzz',\n",
       " 'fizz',\n",
       " 7,\n",
       " 8,\n",
       " 'fizz',\n",
       " 'buzz',\n",
       " 11,\n",
       " 'fizz',\n",
       " 13,\n",
       " 14,\n",
       " 'fizzbuzz',\n",
       " 16,\n",
       " 17,\n",
       " 'fizz',\n",
       " 19,\n",
       " 'buzz',\n",
       " 'fizz',\n",
       " 22,\n",
       " 23,\n",
       " 'fizz',\n",
       " 'buzz',\n",
       " 26,\n",
       " 'fizz',\n",
       " 28,\n",
       " 29,\n",
       " 'fizzbuzz',\n",
       " 31,\n",
       " 32,\n",
       " 'fizz',\n",
       " 34,\n",
       " 'buzz',\n",
       " 'fizz',\n",
       " 37,\n",
       " 38,\n",
       " 'fizz',\n",
       " 'buzz',\n",
       " 41,\n",
       " 'fizz',\n",
       " 43,\n",
       " 44,\n",
       " 'fizzbuzz',\n",
       " 46,\n",
       " 47,\n",
       " 'fizz',\n",
       " 49,\n",
       " 'buzz',\n",
       " 'fizz',\n",
       " 52,\n",
       " 53,\n",
       " 'fizz',\n",
       " 'buzz',\n",
       " 56,\n",
       " 'fizz',\n",
       " 58,\n",
       " 59,\n",
       " 'fizzbuzz',\n",
       " 61,\n",
       " 62,\n",
       " 'fizz',\n",
       " 64,\n",
       " 'buzz',\n",
       " 'fizz',\n",
       " 67,\n",
       " 68,\n",
       " 'fizz',\n",
       " 'buzz',\n",
       " 71,\n",
       " 'fizz',\n",
       " 73,\n",
       " 74,\n",
       " 'fizzbuzz',\n",
       " 76,\n",
       " 77,\n",
       " 'fizz',\n",
       " 79,\n",
       " 'buzz',\n",
       " 'fizz',\n",
       " 82,\n",
       " 83,\n",
       " 'fizz',\n",
       " 'buzz',\n",
       " 86,\n",
       " 'fizz',\n",
       " 88,\n",
       " 89,\n",
       " 'fizzbuzz',\n",
       " 91,\n",
       " 92,\n",
       " 'fizz',\n",
       " 94,\n",
       " 'buzz',\n",
       " 'fizz',\n",
       " 97,\n",
       " 98,\n",
       " 'fizz',\n",
       " 'buzz']"
      ]
     },
     "execution_count": 61,
     "metadata": {},
     "output_type": "execute_result"
    }
   ],
   "source": [
    "# With conditional expressions\n",
    "result_list = []\n",
    "result_list = [\"fizzbuzz\" if i%15 == 0 else \n",
    "               \"buzz\" if i%5==0 else\n",
    "               \"fizz\" if i%3==0 else\n",
    "               i\n",
    "               for i in num_list]\n",
    "result_list"
   ]
  },
  {
   "cell_type": "markdown",
   "metadata": {},
   "source": [
    "## Dictionary Comprehensions"
   ]
  },
  {
   "cell_type": "code",
   "execution_count": 62,
   "metadata": {},
   "outputs": [
    {
     "data": {
      "text/plain": [
       "dict_items([(1, 'True'), (2, 'False')])"
      ]
     },
     "execution_count": 62,
     "metadata": {},
     "output_type": "execute_result"
    }
   ],
   "source": [
    "some_dict = {1: \"True\", 2: \"False\"}\n",
    "some_dict.items()"
   ]
  },
  {
   "cell_type": "code",
   "execution_count": 70,
   "metadata": {},
   "outputs": [
    {
     "data": {
      "text/plain": [
       "{2: 'awesome Python',\n",
       " 4: 'awesome cpp',\n",
       " 6: 'awesome csharp',\n",
       " 8: 'awesome golang'}"
      ]
     },
     "execution_count": 70,
     "metadata": {},
     "output_type": "execute_result"
    }
   ],
   "source": [
    "some_dict = {\n",
    "    1: \"Python\", \n",
    "    2: \"cpp\",\n",
    "    3: \"csharp\",\n",
    "    4: \"golang\"\n",
    "}\n",
    "\n",
    "new_dict = {}\n",
    "\n",
    "for k,v in some_dict.items():\n",
    "    k = k*2\n",
    "    v = \"awesome \" + v\n",
    "    new_dict[k] = v\n",
    "    \n",
    "new_dict"
   ]
  },
  {
   "cell_type": "code",
   "execution_count": 76,
   "metadata": {},
   "outputs": [
    {
     "data": {
      "text/plain": [
       "{4: 'awesome cpp', 8: 'awesome golang'}"
      ]
     },
     "execution_count": 76,
     "metadata": {},
     "output_type": "execute_result"
    }
   ],
   "source": [
    "some_dict = {\n",
    "    1: \"Python\", \n",
    "    2: \"cpp\",\n",
    "    3: \"csharp\",\n",
    "    4: \"golang\"\n",
    "}\n",
    "\n",
    "new_dict = {}\n",
    "\n",
    "for k,v in some_dict.items():\n",
    "    if k%2==0:\n",
    "        new_dict[k*2] = \"awesome \" + v\n",
    "    \n",
    "new_dict"
   ]
  },
  {
   "cell_type": "code",
   "execution_count": 78,
   "metadata": {},
   "outputs": [
    {
     "data": {
      "text/plain": [
       "{4: 'awesome cpp', 8: 'awesome golang'}"
      ]
     },
     "execution_count": 78,
     "metadata": {},
     "output_type": "execute_result"
    }
   ],
   "source": [
    "#dictionary comprehensions:적는 순서는 for반복문>if 조건문>TODO\n",
    "\n",
    "new_dict = {}\n",
    "new_dict = {k*2:\"awesome \"+v for k,v in some_dict.items() if k%2==0}\n",
    "new_dict"
   ]
  },
  {
   "cell_type": "markdown",
   "metadata": {},
   "source": [
    "## Decorator"
   ]
  },
  {
   "cell_type": "code",
   "execution_count": 83,
   "metadata": {},
   "outputs": [],
   "source": [
    "def decorator_(function):\n",
    "    def wrapper():\n",
    "        print(\"@decorator_ started!\")\n",
    "        result = function()\n",
    "        print(\"@decorator_ finished!\")\n",
    "        return result\n",
    "    return wrapper\n",
    "\n",
    "@decorator_\n",
    "def something():\n",
    "    print(\"pass\")\n",
    "    return \"something\""
   ]
  },
  {
   "cell_type": "code",
   "execution_count": 84,
   "metadata": {},
   "outputs": [
    {
     "name": "stdout",
     "output_type": "stream",
     "text": [
      "@decorator_ started!\n",
      "pass\n",
      "@decorator_ finished!\n"
     ]
    },
    {
     "data": {
      "text/plain": [
       "'something'"
      ]
     },
     "execution_count": 84,
     "metadata": {},
     "output_type": "execute_result"
    }
   ],
   "source": [
    "something()"
   ]
  },
  {
   "cell_type": "code",
   "execution_count": 87,
   "metadata": {},
   "outputs": [],
   "source": [
    "#wrapper(something())이라고 생각하면 됨\n",
    "# *args, **kwargs는 parameter의 형태가 아무거나 들어와도 상관없다는 의미로 씀\n",
    "\n",
    "def decorator_(function):\n",
    "    def wrapper(*args, **kwargs):\n",
    "        print(\"@decorator_ started!\")\n",
    "        result = function(*args, **kwargs)\n",
    "        print(\"@decorator_ finished!\")\n",
    "        return result\n",
    "    return wrapper\n",
    "\n",
    "@decorator_\n",
    "def something(text):\n",
    "    print(\"pass {}\".format(text))\n",
    "    return \"something\""
   ]
  },
  {
   "cell_type": "code",
   "execution_count": 88,
   "metadata": {},
   "outputs": [
    {
     "name": "stdout",
     "output_type": "stream",
     "text": [
      "@decorator_ started!\n",
      "pass fast\n",
      "@decorator_ finished!\n"
     ]
    },
    {
     "data": {
      "text/plain": [
       "'something'"
      ]
     },
     "execution_count": 88,
     "metadata": {},
     "output_type": "execute_result"
    }
   ],
   "source": [
    "something(\"fast\")"
   ]
  },
  {
   "cell_type": "code",
   "execution_count": 97,
   "metadata": {},
   "outputs": [],
   "source": [
    "import time\n",
    "\n",
    "def decorator_(function):\n",
    "    def wrapper(*args, **kwargs):\n",
    "        print(\"@decorator_ started!\")\n",
    "        #result = function(*args, **kwargs)\n",
    "        print(\"@decorator_ finished!\")\n",
    "        return function\n",
    "    return wrapper\n",
    "\n",
    "def time_checker(function):\n",
    "    def wrapper(*args, **kwargs):\n",
    "        print(\"time_checker start\")\n",
    "        \n",
    "        start_time = time.time()\n",
    "        function(*args, **kwargs)\n",
    "        end_time = time.time()\n",
    "        \n",
    "        executed_time = end_time - start_time\n",
    "        print(\"executed time for {}: {}s\".format(function.__name__, executed_time))\n",
    "        return result\n",
    "    return wrapper\n",
    "\n",
    "@time_checker\n",
    "@decorator_\n",
    "def something(text):\n",
    "    for i in range(2000):\n",
    "        print(\"pass {}\".format(text))\n",
    "    return \"something\""
   ]
  },
  {
   "cell_type": "code",
   "execution_count": 98,
   "metadata": {},
   "outputs": [
    {
     "name": "stdout",
     "output_type": "stream",
     "text": [
      "time_checker start\n",
      "@decorator_ started!\n",
      "@decorator_ finished!\n",
      "executed time for wrapper: 0.0s\n"
     ]
    },
    {
     "data": {
      "text/plain": [
       "499500"
      ]
     },
     "execution_count": 98,
     "metadata": {},
     "output_type": "execute_result"
    }
   ],
   "source": [
    "something(\"fast\")"
   ]
  },
  {
   "cell_type": "code",
   "execution_count": null,
   "metadata": {},
   "outputs": [],
   "source": []
  },
  {
   "cell_type": "code",
   "execution_count": null,
   "metadata": {},
   "outputs": [],
   "source": []
  },
  {
   "cell_type": "code",
   "execution_count": null,
   "metadata": {},
   "outputs": [],
   "source": []
  },
  {
   "cell_type": "code",
   "execution_count": null,
   "metadata": {},
   "outputs": [],
   "source": []
  },
  {
   "cell_type": "code",
   "execution_count": null,
   "metadata": {},
   "outputs": [],
   "source": []
  },
  {
   "cell_type": "code",
   "execution_count": null,
   "metadata": {},
   "outputs": [],
   "source": []
  },
  {
   "cell_type": "code",
   "execution_count": null,
   "metadata": {},
   "outputs": [],
   "source": []
  },
  {
   "cell_type": "code",
   "execution_count": null,
   "metadata": {},
   "outputs": [],
   "source": []
  },
  {
   "cell_type": "code",
   "execution_count": null,
   "metadata": {},
   "outputs": [],
   "source": []
  },
  {
   "cell_type": "code",
   "execution_count": null,
   "metadata": {},
   "outputs": [],
   "source": []
  },
  {
   "cell_type": "code",
   "execution_count": null,
   "metadata": {},
   "outputs": [],
   "source": []
  },
  {
   "cell_type": "code",
   "execution_count": null,
   "metadata": {},
   "outputs": [],
   "source": []
  },
  {
   "cell_type": "code",
   "execution_count": null,
   "metadata": {},
   "outputs": [],
   "source": []
  },
  {
   "cell_type": "code",
   "execution_count": null,
   "metadata": {},
   "outputs": [],
   "source": []
  },
  {
   "cell_type": "code",
   "execution_count": null,
   "metadata": {},
   "outputs": [],
   "source": []
  },
  {
   "cell_type": "code",
   "execution_count": null,
   "metadata": {},
   "outputs": [],
   "source": []
  },
  {
   "cell_type": "code",
   "execution_count": null,
   "metadata": {},
   "outputs": [],
   "source": []
  },
  {
   "cell_type": "code",
   "execution_count": null,
   "metadata": {},
   "outputs": [],
   "source": []
  },
  {
   "cell_type": "code",
   "execution_count": null,
   "metadata": {},
   "outputs": [],
   "source": []
  }
 ],
 "metadata": {
  "kernelspec": {
   "display_name": "Python 3",
   "language": "python",
   "name": "python3"
  },
  "language_info": {
   "codemirror_mode": {
    "name": "ipython",
    "version": 3
   },
   "file_extension": ".py",
   "mimetype": "text/x-python",
   "name": "python",
   "nbconvert_exporter": "python",
   "pygments_lexer": "ipython3",
   "version": "3.7.1"
  }
 },
 "nbformat": 4,
 "nbformat_minor": 2
}

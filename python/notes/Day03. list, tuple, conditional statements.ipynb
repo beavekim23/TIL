{
 "cells": [
  {
   "cell_type": "markdown",
   "metadata": {},
   "source": [
    "## List (continued)"
   ]
  },
  {
   "cell_type": "code",
   "execution_count": null,
   "metadata": {},
   "outputs": [],
   "source": [
    "fast = [1,2,3,4,]\n",
    "campus = [5,6,7]"
   ]
  },
  {
   "cell_type": "code",
   "execution_count": null,
   "metadata": {},
   "outputs": [],
   "source": [
    "fast + campus"
   ]
  },
  {
   "cell_type": "code",
   "execution_count": null,
   "metadata": {},
   "outputs": [],
   "source": [
    "fast.extend(campus)\n",
    "fast"
   ]
  },
  {
   "cell_type": "code",
   "execution_count": null,
   "metadata": {},
   "outputs": [],
   "source": [
    "3 in fast"
   ]
  },
  {
   "cell_type": "code",
   "execution_count": null,
   "metadata": {},
   "outputs": [],
   "source": [
    "9 in fast"
   ]
  },
  {
   "cell_type": "code",
   "execution_count": null,
   "metadata": {},
   "outputs": [],
   "source": [
    "4 not in fast"
   ]
  },
  {
   "cell_type": "code",
   "execution_count": null,
   "metadata": {},
   "outputs": [],
   "source": [
    "9 not in fast"
   ]
  },
  {
   "cell_type": "code",
   "execution_count": null,
   "metadata": {},
   "outputs": [],
   "source": [
    "fast"
   ]
  },
  {
   "cell_type": "code",
   "execution_count": null,
   "metadata": {},
   "outputs": [],
   "source": [
    "fast[2] = 100"
   ]
  },
  {
   "cell_type": "code",
   "execution_count": null,
   "metadata": {},
   "outputs": [],
   "source": [
    "fast"
   ]
  },
  {
   "cell_type": "markdown",
   "metadata": {},
   "source": [
    "## Tuple"
   ]
  },
  {
   "cell_type": "code",
   "execution_count": null,
   "metadata": {},
   "outputs": [],
   "source": [
    "some_tuple = (1, 2)\n",
    "some_tuple"
   ]
  },
  {
   "cell_type": "code",
   "execution_count": null,
   "metadata": {},
   "outputs": [],
   "source": [
    "some_tuple[1] = 100\n",
    "#tuple에서는 한번 선언한 값을 바꿀수 없다"
   ]
  },
  {
   "cell_type": "code",
   "execution_count": null,
   "metadata": {},
   "outputs": [],
   "source": [
    "def multiple_return(num):\n",
    "    result = num + 2\n",
    "    return (num, result)"
   ]
  },
  {
   "cell_type": "code",
   "execution_count": null,
   "metadata": {},
   "outputs": [],
   "source": [
    "multiple_return(2)"
   ]
  },
  {
   "cell_type": "code",
   "execution_count": null,
   "metadata": {},
   "outputs": [],
   "source": [
    "a = 1\n",
    "b = 2\n",
    "print (a, b)"
   ]
  },
  {
   "cell_type": "code",
   "execution_count": 2,
   "metadata": {},
   "outputs": [
    {
     "name": "stdout",
     "output_type": "stream",
     "text": [
      "2 1\n"
     ]
    }
   ],
   "source": [
    "#switch 하려면\n",
    "a = 1\n",
    "b = 2\n",
    "temp = b\n",
    "b = a\n",
    "a = temp\n",
    "print(a , b)"
   ]
  },
  {
   "cell_type": "code",
   "execution_count": 1,
   "metadata": {},
   "outputs": [
    {
     "name": "stdout",
     "output_type": "stream",
     "text": [
      "2 1\n"
     ]
    }
   ],
   "source": [
    "a = 1\n",
    "b = 2\n",
    "(a,b) = (b,a)\n",
    "print(a,b)"
   ]
  },
  {
   "cell_type": "code",
   "execution_count": null,
   "metadata": {},
   "outputs": [],
   "source": [
    "weather_info = (temp, hum, finedust)"
   ]
  },
  {
   "cell_type": "code",
   "execution_count": null,
   "metadata": {},
   "outputs": [],
   "source": [
    "some_tuple = ('python', 'java', 'c', 'cplus', 'golang')\n",
    "some_tuple"
   ]
  },
  {
   "cell_type": "code",
   "execution_count": null,
   "metadata": {},
   "outputs": [],
   "source": [
    "some_listed = list(some_tuple)\n",
    "some_listed.append('julia')\n",
    "some_tuple = tuple(some_listed)\n",
    "some_tuple\n",
    "#tuple을 바꾸려면 list로 typle casting한 다음 사용"
   ]
  },
  {
   "cell_type": "code",
   "execution_count": null,
   "metadata": {},
   "outputs": [],
   "source": [
    "three_by_three = [[1,0,0], [0,1,0], [0,0,1]]\n",
    "three_by_three"
   ]
  },
  {
   "cell_type": "markdown",
   "metadata": {},
   "source": [
    "## Conditional Statements"
   ]
  },
  {
   "cell_type": "code",
   "execution_count": null,
   "metadata": {},
   "outputs": [],
   "source": [
    "a = 10\n",
    "if a == 10:\n",
    "    print(\"a is 10.\")\n",
    "    a += 1 \n",
    "    print(\"a is now eleven.\", a)"
   ]
  },
  {
   "cell_type": "code",
   "execution_count": null,
   "metadata": {},
   "outputs": [],
   "source": [
    "a = 9\n",
    "if a == 10:\n",
    "    print(\"a is 10,\")\n",
    "else:\n",
    "    print(\"a is not 10.\")"
   ]
  },
  {
   "cell_type": "code",
   "execution_count": 7,
   "metadata": {},
   "outputs": [
    {
     "name": "stdout",
     "output_type": "stream",
     "text": [
      "a is not 10.\n"
     ]
    }
   ],
   "source": [
    "a = 9 \n",
    "result = \"a is 10. \"if a == 10 else \"a is not 10.\"\n",
    "print(result)\n",
    "#삼항연산자"
   ]
  },
  {
   "cell_type": "code",
   "execution_count": null,
   "metadata": {},
   "outputs": [],
   "source": [
    "b = 10\n",
    "if b < 5:\n",
    "    print(\"b는 5보다 작습니다\")\n",
    "else:\n",
    "    print(\"b는 5보다 같거나 큽니다\")"
   ]
  },
  {
   "cell_type": "code",
   "execution_count": null,
   "metadata": {},
   "outputs": [],
   "source": [
    "b = 10\n",
    "if b < 5:\n",
    "    print(\"b는 5보다 작습니다\")\n",
    "else:\n",
    "    if b < 20:\n",
    "        print(\"b는 5보다 크거나 같고 20보다 작습니다\")\n",
    "    else:\n",
    "        print(\"b는 20보다 크거나 같습니다\")"
   ]
  },
  {
   "cell_type": "code",
   "execution_count": null,
   "metadata": {},
   "outputs": [],
   "source": [
    "b = 10\n",
    "if b < 5:\n",
    "    print(\"b는 5보다 작습니다\")\n",
    "else:\n",
    "    if b < 20:\n",
    "        print(\"b는 5보다 크거나 같고 20보다 작습니다\")\n",
    "    else:\n",
    "        if b < 50:\n",
    "            print(\"20 <= b < 50\")\n",
    "        else:\n",
    "            print(\"b>50\")\n",
    "            \n",
    "#논리적으로는 맞지만 pep에 맞지않음. 밑에 수정본."
   ]
  },
  {
   "cell_type": "code",
   "execution_count": null,
   "metadata": {},
   "outputs": [],
   "source": [
    "b = 10\n",
    "if b < 5:\n",
    "    print(\"b는 5보다 작습니다\")\n",
    "elif b < 20:\n",
    "    print(\"b는 5보다 크거나 같고 20보다 작습니다\")\n",
    "elif b < 50:\n",
    "    print(\"20 <= b < 50\")\n",
    "else:\n",
    "    print(\"b>50\")"
   ]
  },
  {
   "cell_type": "markdown",
   "metadata": {},
   "source": [
    "### Small Project: Numguess"
   ]
  },
  {
   "cell_type": "code",
   "execution_count": 5,
   "metadata": {},
   "outputs": [
    {
     "name": "stdout",
     "output_type": "stream",
     "text": [
      "Answer:  44\n",
      "1에서 100사이의 정수를 입력하세요: 44\n",
      "정답입니다. 정답은 44\n"
     ]
    }
   ],
   "source": [
    "import random\n",
    "\n",
    "answer = random.randint(1, 100)\n",
    "print(\"Answer: \", answer)\n",
    "\n",
    "guess = int(input(\"1에서 100사이의 정수를 입력하세요: \"))\n",
    "\n",
    "if guess == answer:\n",
    "    print(\"정답입니다. 정답은 {}\".format(answer))\n",
    "else:\n",
    "    print(\"틀렸습니다. 정답은 {}\".format(answer))"
   ]
  },
  {
   "cell_type": "markdown",
   "metadata": {},
   "source": [
    "### Ternary Operations"
   ]
  },
  {
   "cell_type": "code",
   "execution_count": 8,
   "metadata": {},
   "outputs": [
    {
     "name": "stdout",
     "output_type": "stream",
     "text": [
      "a is not 10.\n"
     ]
    }
   ],
   "source": [
    "a = 9 \n",
    "result = \"a is 10. \"if a == 10 else \"a is not 10.\"\n",
    "print(result)\n",
    "#삼항연산자"
   ]
  },
  {
   "cell_type": "code",
   "execution_count": 9,
   "metadata": {},
   "outputs": [
    {
     "name": "stdout",
     "output_type": "stream",
     "text": [
      "a is not 10.\n"
     ]
    }
   ],
   "source": [
    "a = 9 \n",
    "if a == 10:\n",
    "    result = \"a is 10.\"\n",
    "else:\n",
    "    result = \"a is not 10.\"\n",
    "    \n",
    "print(result)"
   ]
  },
  {
   "cell_type": "code",
   "execution_count": 11,
   "metadata": {},
   "outputs": [
    {
     "name": "stdout",
     "output_type": "stream",
     "text": [
      "a is 9.\n"
     ]
    }
   ],
   "source": [
    "a = 9\n",
    "if a == 10:\n",
    "    result = \"a is 10.\"\n",
    "else:\n",
    "    if a == 9:\n",
    "        result = \"a is 9.\"\n",
    "    else:\n",
    "        result = \"a is neither 10 nor 9.\"\n",
    "print(result)"
   ]
  },
  {
   "cell_type": "code",
   "execution_count": 14,
   "metadata": {},
   "outputs": [
    {
     "name": "stdout",
     "output_type": "stream",
     "text": [
      "a is 9.\n"
     ]
    }
   ],
   "source": [
    "#Conditionals Expressions\n",
    "\n",
    "a = 9\n",
    "result = \"a is 10.\" if a == 10 else \"a is 9.\" if a == 9 else \"a is neither 10 nor 9.\"\n",
    "print(result)"
   ]
  },
  {
   "cell_type": "markdown",
   "metadata": {},
   "source": [
    "### Small Project"
   ]
  },
  {
   "cell_type": "code",
   "execution_count": 27,
   "metadata": {},
   "outputs": [
    {
     "name": "stdout",
     "output_type": "stream",
     "text": [
      "요일을 입력하세요: 목\n",
      "평일이네요ㅜㅜ\n"
     ]
    }
   ],
   "source": [
    "weekday = [\"월\", \"화\", \"수\", \"목\", \"금\"]\n",
    "weekend = [\"토\", \"일\"]\n",
    "\n",
    "day_input = input(\"요일을 입력하세요: \")\n",
    "day_input=day_input[0]\n",
    "\n",
    "\n",
    "if day_input in weekday:\n",
    "    print(\"평일이네요ㅜㅜ\")\n",
    "elif day_input in weekdend:\n",
    "    print(\"주말입니다^^\")\n",
    "else:\n",
    "    print(\"요일을 입력하세요.\")"
   ]
  },
  {
   "cell_type": "code",
   "execution_count": 28,
   "metadata": {},
   "outputs": [
    {
     "name": "stdout",
     "output_type": "stream",
     "text": [
      "요일을 입력하세요: 금요일\n",
      "평일이네요ㅜㅜ\n"
     ]
    }
   ],
   "source": [
    "weekday = [\"월\", \"화\", \"수\", \"목\", \"금\"]\n",
    "weekend = [\"토\", \"일\"]\n",
    "\n",
    "day_input = input(\"요일을 입력하세요: \")\n",
    "day_input=day_input[0]\n",
    "\n",
    "result = \"평일이네요ㅜㅜ\" if day_input in weekday else \"주말입니다^^\" if day_input in weekdend else \"값을 다시 입력해라\"\n",
    "print(result)"
   ]
  },
  {
   "cell_type": "code",
   "execution_count": null,
   "metadata": {},
   "outputs": [],
   "source": []
  },
  {
   "cell_type": "code",
   "execution_count": null,
   "metadata": {},
   "outputs": [],
   "source": []
  },
  {
   "cell_type": "code",
   "execution_count": null,
   "metadata": {},
   "outputs": [],
   "source": []
  },
  {
   "cell_type": "code",
   "execution_count": null,
   "metadata": {},
   "outputs": [],
   "source": []
  },
  {
   "cell_type": "code",
   "execution_count": null,
   "metadata": {},
   "outputs": [],
   "source": []
  },
  {
   "cell_type": "code",
   "execution_count": null,
   "metadata": {},
   "outputs": [],
   "source": []
  }
 ],
 "metadata": {
  "kernelspec": {
   "display_name": "Python 3",
   "language": "python",
   "name": "python3"
  },
  "language_info": {
   "codemirror_mode": {
    "name": "ipython",
    "version": 3
   },
   "file_extension": ".py",
   "mimetype": "text/x-python",
   "name": "python",
   "nbconvert_exporter": "python",
   "pygments_lexer": "ipython3",
   "version": "3.7.1"
  }
 },
 "nbformat": 4,
 "nbformat_minor": 2
}

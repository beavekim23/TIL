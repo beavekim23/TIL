{
 "cells": [
  {
   "cell_type": "markdown",
   "metadata": {},
   "source": [
    "# SQLite Documentation\n",
    "[sqlite_documentation](https://sqlite.org/docs.html)"
   ]
  },
  {
   "cell_type": "markdown",
   "metadata": {},
   "source": [
    "# Basic Commands"
   ]
  },
  {
   "cell_type": "markdown",
   "metadata": {},
   "source": [
    "**\\.open** delete-soon db : CREATE delete-soon db<br/>\n",
    "**\\.print** \"hello\" : PRINT \"hello\"<br/>\n",
    "**\\.help** : SHOW all the sqlite commands<br/>\n",
    "**\\.databases** : SHOW the database we are working on<br/>\n",
    "**\\.tables**<br/>\n",
    "**\\.schema** <br/>\n",
    "**\\.exit**<br/>\n",
    "**\\.quit**"
   ]
  },
  {
   "cell_type": "markdown",
   "metadata": {},
   "source": [
    "# SQlite Data Types"
   ]
  },
  {
   "cell_type": "markdown",
   "metadata": {},
   "source": [
    "TEXT : string type in python <br/>\n",
    "INTEGER : int type in python <br/>\n",
    "REAL : float type in python <br/>\n",
    "NUMERIC : date, boolean, \\...<br/>\n",
    "BLOB : stored as input"
   ]
  },
  {
   "cell_type": "markdown",
   "metadata": {},
   "source": [
    "# TABLE"
   ]
  },
  {
   "cell_type": "markdown",
   "metadata": {},
   "source": [
    "## Create Table"
   ]
  },
  {
   "cell_type": "markdown",
   "metadata": {},
   "source": [
    "**CREATE TABLE** table_name(<br/>\n",
    "\\...> input schema<br/>\n",
    ") **;**"
   ]
  },
  {
   "cell_type": "markdown",
   "metadata": {},
   "source": [
    "<img src=\"./img/sqlite_create_table.png\" width=\"400\" style=\"float: left\">"
   ]
  },
  {
   "cell_type": "markdown",
   "metadata": {},
   "source": [
    "## Delete Table"
   ]
  },
  {
   "cell_type": "markdown",
   "metadata": {},
   "source": [
    "**DROP TABLE** table_name **;**<br/>"
   ]
  },
  {
   "cell_type": "markdown",
   "metadata": {},
   "source": [
    "## Modify Table"
   ]
  },
  {
   "cell_type": "markdown",
   "metadata": {},
   "source": [
    "**ALTER TABLE** table_name<br/>\n",
    "\\...>**RENAME TO** new_table_name **;**<br/>"
   ]
  },
  {
   "cell_type": "markdown",
   "metadata": {},
   "source": [
    "**ALTER TABLE** table_name<br/>\n",
    "\\...>**ADD COLUMN** col_name col_data_type **;**"
   ]
  },
  {
   "cell_type": "markdown",
   "metadata": {},
   "source": [
    "<img src =\"./img/sqlite_add_col.png\" width=\"400\" style=\"float: left\">"
   ]
  },
  {
   "cell_type": "markdown",
   "metadata": {},
   "source": [
    "**ALTER TABLE** table_name<br/>\n",
    "\\...>**RENAME COLUMN** col_name **TO** new_col_name **;**"
   ]
  },
  {
   "cell_type": "markdown",
   "metadata": {},
   "source": [
    "<img src=\"./img/sqlite_rename_col.png\" width=\"400\" style=\"float: left\">"
   ]
  },
  {
   "cell_type": "markdown",
   "metadata": {},
   "source": [
    "# Insert Values into Schema"
   ]
  },
  {
   "cell_type": "markdown",
   "metadata": {},
   "source": [
    "**INSERT INTO** table_name(<br/>\n",
    "\\...> attr1, attr2, \\...)<br/>\n",
    "\\...> **VALUES** (\\...),<br/>\n",
    "\\...> (\\...),<br/>\n",
    "\\...> (\\...),<br/>\n",
    "\\...> (\\...) **;**"
   ]
  },
  {
   "cell_type": "markdown",
   "metadata": {},
   "source": [
    "<img src=\"./img/sqlite_insert_into.png\" width=\"400\" style=\"float: left\">"
   ]
  },
  {
   "cell_type": "markdown",
   "metadata": {},
   "source": [
    "# Select Values from Schema"
   ]
  },
  {
   "cell_type": "markdown",
   "metadata": {},
   "source": [
    "**SELECT** something **FROM** table_name **;**<br/>"
   ]
  },
  {
   "cell_type": "markdown",
   "metadata": {},
   "source": [
    "<img src=\"./img/sqlite_select_all.png\" width=\"400\" style=\"float: left\">"
   ]
  },
  {
   "cell_type": "markdown",
   "metadata": {},
   "source": [
    "<img src=\"./img/sqlite_select_part.png\" width=\"400\" style=\"float: left\">"
   ]
  },
  {
   "cell_type": "markdown",
   "metadata": {},
   "source": [
    "# Day 17. Assignment\n",
    "1. open housekeeping-book db\n",
    "2. create table with attrs, date, time, description, amount, note, etc.\n",
    "3. select date and description from the table."
   ]
  },
  {
   "cell_type": "markdown",
   "metadata": {},
   "source": [
    "<img src=\"./img/190102_assignment.png\" width=\"800\" style=\"float: left\">"
   ]
  },
  {
   "cell_type": "markdown",
   "metadata": {},
   "source": [
    "# Day 18."
   ]
  },
  {
   "cell_type": "markdown",
   "metadata": {},
   "source": [
    "# SELECT WHERE : Add Conditions for Select"
   ]
  },
  {
   "cell_type": "markdown",
   "metadata": {},
   "source": [
    "## Comparison Operator"
   ]
  },
  {
   "cell_type": "markdown",
   "metadata": {},
   "source": [
    "<img src=\"./img/sqlite_comparison_operator.png\" width=\"400\" style=\"float: left\">"
   ]
  },
  {
   "cell_type": "markdown",
   "metadata": {},
   "source": [
    "# Import Data from CSV"
   ]
  },
  {
   "cell_type": "code",
   "execution_count": null,
   "metadata": {},
   "outputs": [],
   "source": [
    "sqlite> .mode csv\n",
    "sqlite> .headers on\n",
    "sqlite> .import customers.csv {table_name}"
   ]
  },
  {
   "cell_type": "markdown",
   "metadata": {},
   "source": [
    "## Remove Col in CSV"
   ]
  },
  {
   "cell_type": "code",
   "execution_count": null,
   "metadata": {},
   "outputs": [],
   "source": [
    "sqlite> BEGIN TRANSACTION; #start of work\n",
    "\n",
    "sqlite> CREATE TABLE customers_temp(\n",
    "   ...> CustomerID, CustomerName, City, PostalCode);\n",
    "\n",
    "sqlite> INSERT INTO temp.customers_temp\n",
    "   ...> SELECT CustomerID, CustomerName, City, PostalCode FROM customers;\n",
    "\n",
    "sqlite> SELECT * FROM temp.customers_temp;\n",
    "\n",
    "sqlite> DROP TABLE customers;\n",
    "\n",
    "sqlite> CREATE TABLE customers(\n",
    "   ...> CustomerID, CustomerName, City, PostalCode);\n",
    "\n",
    "sqlite> INSERT INTO customers\n",
    "   ...> SELECT * FROM temp.customers_temp;\n",
    "\n",
    "sqlite> SELECT * FROM customers;\n",
    "\n",
    "sqlite> DROP TABLE temp.customers_temp;\n",
    "\n",
    "sqlite> COMMIT; #end of work"
   ]
  },
  {
   "cell_type": "markdown",
   "metadata": {},
   "source": [
    "# Export to CSV"
   ]
  },
  {
   "cell_type": "code",
   "execution_count": null,
   "metadata": {},
   "outputs": [],
   "source": [
    "sqlite> .headers on\n",
    "sqlite> .mode csv\n",
    "sqlite> .once file_name.csv\n",
    "sqlite> SELECT * FROM user"
   ]
  },
  {
   "cell_type": "markdown",
   "metadata": {},
   "source": [
    "# For Practice\n",
    "[sql_practice](https://www.w3schools.com/sql/trysql.asp?filename=trysql_select_all)"
   ]
  },
  {
   "cell_type": "markdown",
   "metadata": {},
   "source": [
    "### To add various conditions, use IN"
   ]
  },
  {
   "cell_type": "code",
   "execution_count": null,
   "metadata": {},
   "outputs": [],
   "source": [
    "sqlite> SELECT * FROM Customers\n",
    "   ...> WHERE Country IN (\"France\", \"Germany\");"
   ]
  },
  {
   "cell_type": "code",
   "execution_count": null,
   "metadata": {},
   "outputs": [],
   "source": [
    "sqlite> SELECT * FROM Customers\n",
    "   ...> WHERE Country NOT IN (\"France\", \"Germany\");"
   ]
  },
  {
   "cell_type": "markdown",
   "metadata": {},
   "source": [
    "# To Do\n",
    "1. customers의 모든 데이터를 선택하세요\n",
    "2. customers에서 Country 가 Germany, France 이거나 도시가 Berlin, London 인 ContactName, Country, City를 선택하세요\n",
    "3. Suppliers에서 Country가 Germany, France, UK 인 모든 데이터를 선택하세요\n",
    "4. Products에서 Price 가 10 이하인 ProductName, SupplierID를 선택하세요\n",
    "5. Products에서 Price가 10 이하인 SupplierID를 가지는 Supplier의 SupplierID, City, Country를 선택하세요"
   ]
  },
  {
   "cell_type": "code",
   "execution_count": null,
   "metadata": {},
   "outputs": [],
   "source": [
    "#1\n",
    "sqlite> SELECT * FROM Customers;"
   ]
  },
  {
   "cell_type": "code",
   "execution_count": null,
   "metadata": {},
   "outputs": [],
   "source": [
    "#2\n",
    "sqlite> SELECT ContactName, Country, City FROM Customers\n",
    "   ...> WHERE Country IN (\"France\", \"Germany\") OR\n",
    "   ...> City IN (\"Berlin\", \"London\");"
   ]
  },
  {
   "cell_type": "code",
   "execution_count": null,
   "metadata": {},
   "outputs": [],
   "source": [
    "#3\n",
    "sqlite> SELECT * FROM Suppliers\n",
    "   ...> WHERE Country IN (\"Germany\", \"France\", \"UK\");"
   ]
  },
  {
   "cell_type": "code",
   "execution_count": null,
   "metadata": {},
   "outputs": [],
   "source": [
    "#4\n",
    "sqlite> SELECT ProductName, SupplierID FROM Products\n",
    "   ...> WHERE Price <= '10'"
   ]
  },
  {
   "cell_type": "code",
   "execution_count": null,
   "metadata": {},
   "outputs": [],
   "source": [
    "#5\n",
    "sqlite> SELECT SupplierID, City, Country FROM Suppliers\n",
    "   ...> WHERE\n",
    "   ...> SupplierID IN (SELECT SupplierID FROM Products\n",
    "   ...> WHERE\n",
    "   ...> Price <= '10');"
   ]
  },
  {
   "cell_type": "markdown",
   "metadata": {},
   "source": [
    "# SQLite Aggregate Functions"
   ]
  },
  {
   "cell_type": "markdown",
   "metadata": {},
   "source": [
    "<img src=\"./img/sqlite_agg_functions.png\" width=\"200\" style=\"float: left\">"
   ]
  },
  {
   "cell_type": "code",
   "execution_count": null,
   "metadata": {},
   "outputs": [],
   "source": []
  }
 ],
 "metadata": {
  "kernelspec": {
   "display_name": "Python 3",
   "language": "python",
   "name": "python3"
  },
  "language_info": {
   "codemirror_mode": {
    "name": "ipython",
    "version": 3
   },
   "file_extension": ".py",
   "mimetype": "text/x-python",
   "name": "python",
   "nbconvert_exporter": "python",
   "pygments_lexer": "ipython3",
   "version": "3.7.1"
  }
 },
 "nbformat": 4,
 "nbformat_minor": 2
}

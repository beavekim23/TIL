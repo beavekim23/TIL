{
 "cells": [
  {
   "cell_type": "markdown",
   "metadata": {},
   "source": [
    "# SQLite Documentation\n",
    "[sqlite_documentation](https://sqlite.org/docs.html)"
   ]
  },
  {
   "cell_type": "markdown",
   "metadata": {},
   "source": [
    "# Basic Commands"
   ]
  },
  {
   "cell_type": "markdown",
   "metadata": {},
   "source": [
    "**\\.open** delete-soon db : CREATE delete-soon db<br/>\n",
    "**\\.print** \"hello\" : PRINT \"hello\"<br/>\n",
    "**\\.help** : SHOW all the sqlite commands<br/>\n",
    "**\\.databases** : SHOW the database we are working on<br/>\n",
    "**\\.tables**<br/>\n",
    "**\\.schema** <br/>\n",
    "**\\.exit**<br/>\n",
    "**\\.quit**"
   ]
  },
  {
   "cell_type": "markdown",
   "metadata": {},
   "source": [
    "# SQlite Data Types"
   ]
  },
  {
   "cell_type": "markdown",
   "metadata": {},
   "source": [
    "TEXT : string type in python <br/>\n",
    "INTEGER : int type in python <br/>\n",
    "REAL : float type in python <br/>\n",
    "NUMERIC : date, boolean, \\...<br/>\n",
    "BLOB : stored as input"
   ]
  },
  {
   "cell_type": "markdown",
   "metadata": {},
   "source": [
    "# TABLE"
   ]
  },
  {
   "cell_type": "markdown",
   "metadata": {},
   "source": [
    "## Create Table"
   ]
  },
  {
   "cell_type": "markdown",
   "metadata": {},
   "source": [
    "**CREATE TABLE** table_name(<br/>\n",
    "\\...> input schema<br/>\n",
    ") **;**"
   ]
  },
  {
   "cell_type": "markdown",
   "metadata": {},
   "source": [
    "![create_table_sc](./img/sqlite_create_table.png)"
   ]
  },
  {
   "cell_type": "markdown",
   "metadata": {},
   "source": [
    "## Delete Table"
   ]
  },
  {
   "cell_type": "markdown",
   "metadata": {},
   "source": [
    "**DROP TABLE** table_name **;**<br/>"
   ]
  },
  {
   "cell_type": "markdown",
   "metadata": {},
   "source": [
    "## Modify Table"
   ]
  },
  {
   "cell_type": "markdown",
   "metadata": {},
   "source": [
    "**ALTER TABLE** table_name<br/>\n",
    "\\...>**RENAME TO** new_table_name **;**<br/>"
   ]
  },
  {
   "cell_type": "markdown",
   "metadata": {},
   "source": [
    "**ALTER TABLE** table_name<br/>\n",
    "\\...>**ADD COLUMN** col_name col_data_type **;**"
   ]
  },
  {
   "cell_type": "markdown",
   "metadata": {},
   "source": [
    "![rename_table_sc](./img/sqlite_add_col.png)"
   ]
  },
  {
   "cell_type": "markdown",
   "metadata": {},
   "source": [
    "**ALTER TABLE** table_name<br/>\n",
    "\\...>**RENAME COLUMN** col_name **TO** new_col_name **;**"
   ]
  },
  {
   "cell_type": "markdown",
   "metadata": {},
   "source": [
    "![rename_col_sc](./img/sqlite_rename_col.png)"
   ]
  },
  {
   "cell_type": "markdown",
   "metadata": {},
   "source": [
    "# Insert Values into Schema"
   ]
  },
  {
   "cell_type": "markdown",
   "metadata": {},
   "source": [
    "**INSERT INTO** table_name(<br/>\n",
    "\\...> attr1, attr2, \\...)<br/>\n",
    "\\...> **VALUES** (\\...),<br/>\n",
    "\\...> (\\...),<br/>\n",
    "\\...> (\\...),<br/>\n",
    "\\...> (\\...) **;**"
   ]
  },
  {
   "cell_type": "markdown",
   "metadata": {},
   "source": [
    "![insert_into_sc](./img/sqlite_insert_into.png)"
   ]
  },
  {
   "cell_type": "markdown",
   "metadata": {},
   "source": [
    "# Select Values from Schema"
   ]
  },
  {
   "cell_type": "markdown",
   "metadata": {},
   "source": [
    "**SELECT** something **FROM** table_name **;**<br/>"
   ]
  },
  {
   "cell_type": "markdown",
   "metadata": {},
   "source": [
    "![select_all.sc](./img/sqlite_select_all.png)"
   ]
  },
  {
   "cell_type": "markdown",
   "metadata": {},
   "source": [
    "![select_part.sc](./img/sqlite_select_part.png)"
   ]
  },
  {
   "cell_type": "markdown",
   "metadata": {},
   "source": [
    "# Day 17. Assignment\n",
    "1. open housekeeping-book db\n",
    "2. create table with attrs, date, time, description, amount, note, etc.\n",
    "3. select date and description from the table."
   ]
  },
  {
   "cell_type": "markdown",
   "metadata": {},
   "source": [
    "![day17_assignment_sc](./img/190102_assignment.png)"
   ]
  },
  {
   "cell_type": "raw",
   "metadata": {},
   "source": []
  },
  {
   "cell_type": "code",
   "execution_count": null,
   "metadata": {},
   "outputs": [],
   "source": []
  },
  {
   "cell_type": "code",
   "execution_count": null,
   "metadata": {},
   "outputs": [],
   "source": []
  },
  {
   "cell_type": "code",
   "execution_count": null,
   "metadata": {},
   "outputs": [],
   "source": []
  },
  {
   "cell_type": "code",
   "execution_count": null,
   "metadata": {},
   "outputs": [],
   "source": []
  }
 ],
 "metadata": {
  "kernelspec": {
   "display_name": "Python 3",
   "language": "python",
   "name": "python3"
  },
  "language_info": {
   "codemirror_mode": {
    "name": "ipython",
    "version": 3
   },
   "file_extension": ".py",
   "mimetype": "text/x-python",
   "name": "python",
   "nbconvert_exporter": "python",
   "pygments_lexer": "ipython3",
   "version": "3.7.1"
  }
 },
 "nbformat": 4,
 "nbformat_minor": 2
}
